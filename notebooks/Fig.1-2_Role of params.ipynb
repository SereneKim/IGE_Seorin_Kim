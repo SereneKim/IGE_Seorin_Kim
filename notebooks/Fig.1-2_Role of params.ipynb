{
 "cells": [
  {
   "cell_type": "code",
   "execution_count": 1,
   "id": "ce6a6319-03f6-446a-aff3-7869e299cafa",
   "metadata": {
    "tags": []
   },
   "outputs": [],
   "source": [
    "import pandas as pd\n",
    "import numpy as np\n",
    "from sklearn.linear_model import LinearRegression\n",
    "import statsmodels.api as sm\n",
    "from statsmodels.tsa.ar_model import AutoReg\n",
    "import math\n",
    "import plotly.express as px\n",
    "import plotly.graph_objs as go\n",
    "import os\n",
    "\n",
    "path = os.path.dirname(os.getcwd())"
   ]
  },
  {
   "cell_type": "markdown",
   "id": "2e400da6-2369-43ee-a6d7-885a53f2729c",
   "metadata": {},
   "source": [
    "# Figure 1. Paradoxical relationship between IGE and wealth dynamics."
   ]
  },
  {
   "cell_type": "code",
   "execution_count": 27,
   "id": "c8bf26d3-b927-4815-8b37-345ae3dfd9eb",
   "metadata": {
    "tags": []
   },
   "outputs": [],
   "source": [
    "def simulate_wealth(surnames, W0_values, mu_values, beta_values, times, groups):\n",
    "    records = []\n",
    "    for surname, W0, mu, beta, group in zip(surnames, W0_values, mu_values, beta_values, groups):\n",
    "        for t in times:\n",
    "            if t == 0:\n",
    "                wealth = W0\n",
    "            else:\n",
    "                exp_part = (1 - beta**t) * mu\n",
    "                wealth = np.exp(exp_part) * W0**(beta**t)\n",
    "            log_wealth = np.log(wealth)\n",
    "            log_random = np.random.normal(loc=0, scale=1)\n",
    "            records.append({'Surname': surname, \n",
    "                            'Group': group,\n",
    "                            'Time': t, \n",
    "                            'Wealth': wealth, \n",
    "                            'log_Wealth': log_wealth, \n",
    "                            'mu': mu, \n",
    "                            'beta': beta, \n",
    "                            'W0': W0, \n",
    "                            'log_random':log_random})\n",
    "    return pd.DataFrame(records)"
   ]
  },
  {
   "cell_type": "code",
   "execution_count": 81,
   "id": "23b0fb3b-9806-4a78-aecd-b10c91b3b0b7",
   "metadata": {
    "tags": []
   },
   "outputs": [],
   "source": [
    "# Simulation parameters\n",
    "np.random.seed(40)\n",
    "n_surnames = 100\n",
    "surnames = np.arange(n_surnames)\n",
    "\n",
    "times = range(0, 21)\n",
    "high_initial_wealth = np.random.lognormal(mean=10, sigma=2, size=n_surnames//2) \n",
    "low_initial_wealth = np.random.lognormal(mean=-10, sigma=2, size=n_surnames//2)\n",
    "initial_wealth = np.concatenate([high_initial_wealth, low_initial_wealth])\n",
    "\n",
    "high = np.full(n_surnames//2, 'high') \n",
    "low = np.full(n_surnames//2, 'low')\n",
    "groups = np.concatenate([high, low])\n",
    "\n",
    "# Scenario 1 -----------------------------------------------------------------------------------\n",
    "mu_values_1 = np.random.normal(5, 5, size = n_surnames)\n",
    "beta_values_1 = np.random.uniform(0.25, 0.35, size=n_surnames)  \n",
    "\n",
    "# Population-wise convergence value\n",
    "mu_population_1 = np.mean(mu_values_1)\n",
    "W0_population_1 = np.mean(initial_wealth)\n",
    "beta_population_1 = 0.3\n",
    "\n",
    "# Generate Data for Scenario 1\n",
    "df_scenario_1 = simulate_wealth(surnames, initial_wealth, mu_values_1, beta_values_1, times, groups)\n",
    "population_data_1 = simulate_wealth(['Population'], [W0_population_1], [mu_population_1], [beta_population_1], times, groups)\n",
    "\n",
    "# Scenario 2 -----------------------------------------------------------------------------------\n",
    "mu_values_2 = np.full(n_surnames, 5)\n",
    "beta_values_2 = np.random.uniform(0.75, 0.85, size=n_surnames)  \n",
    "\n",
    "# Population-wise convergence value\n",
    "mu_population_2 = 5\n",
    "W0_population_2 = np.mean(initial_wealth)\n",
    "beta_population_2 = 0.8\n",
    "\n",
    "# Generate Data for Scenario 2\n",
    "df_scenario_2 = simulate_wealth(surnames, initial_wealth, mu_values_2, beta_values_2, times, groups)\n",
    "population_data_2 = simulate_wealth(['Population'], [W0_population_2], [mu_population_2], [beta_population_2], times, groups)"
   ]
  },
  {
   "cell_type": "code",
   "execution_count": 82,
   "id": "e27497b8-132b-4737-9539-bbd435bf2141",
   "metadata": {},
   "outputs": [
    {
     "data": {
      "text/html": [
       "<div>\n",
       "<style scoped>\n",
       "    .dataframe tbody tr th:only-of-type {\n",
       "        vertical-align: middle;\n",
       "    }\n",
       "\n",
       "    .dataframe tbody tr th {\n",
       "        vertical-align: top;\n",
       "    }\n",
       "\n",
       "    .dataframe thead th {\n",
       "        text-align: right;\n",
       "    }\n",
       "</style>\n",
       "<table border=\"1\" class=\"dataframe\">\n",
       "  <thead>\n",
       "    <tr style=\"text-align: right;\">\n",
       "      <th></th>\n",
       "      <th>Surname</th>\n",
       "      <th>Group</th>\n",
       "      <th>Time</th>\n",
       "      <th>Wealth</th>\n",
       "      <th>log_Wealth</th>\n",
       "      <th>mu</th>\n",
       "      <th>beta</th>\n",
       "      <th>W0</th>\n",
       "      <th>log_random</th>\n",
       "    </tr>\n",
       "  </thead>\n",
       "  <tbody>\n",
       "    <tr>\n",
       "      <th>0</th>\n",
       "      <td>0</td>\n",
       "      <td>high</td>\n",
       "      <td>0</td>\n",
       "      <td>6534.849563</td>\n",
       "      <td>8.784905</td>\n",
       "      <td>5.171450</td>\n",
       "      <td>0.286882</td>\n",
       "      <td>6534.849563</td>\n",
       "      <td>-0.001584</td>\n",
       "    </tr>\n",
       "    <tr>\n",
       "      <th>1</th>\n",
       "      <td>0</td>\n",
       "      <td>high</td>\n",
       "      <td>1</td>\n",
       "      <td>496.748851</td>\n",
       "      <td>6.208085</td>\n",
       "      <td>5.171450</td>\n",
       "      <td>0.286882</td>\n",
       "      <td>6534.849563</td>\n",
       "      <td>-1.018887</td>\n",
       "    </tr>\n",
       "    <tr>\n",
       "      <th>2</th>\n",
       "      <td>0</td>\n",
       "      <td>high</td>\n",
       "      <td>2</td>\n",
       "      <td>237.185344</td>\n",
       "      <td>5.468842</td>\n",
       "      <td>5.171450</td>\n",
       "      <td>0.286882</td>\n",
       "      <td>6534.849563</td>\n",
       "      <td>0.644260</td>\n",
       "    </tr>\n",
       "    <tr>\n",
       "      <th>3</th>\n",
       "      <td>0</td>\n",
       "      <td>high</td>\n",
       "      <td>3</td>\n",
       "      <td>191.860132</td>\n",
       "      <td>5.256767</td>\n",
       "      <td>5.171450</td>\n",
       "      <td>0.286882</td>\n",
       "      <td>6534.849563</td>\n",
       "      <td>-0.294281</td>\n",
       "    </tr>\n",
       "    <tr>\n",
       "      <th>4</th>\n",
       "      <td>0</td>\n",
       "      <td>high</td>\n",
       "      <td>4</td>\n",
       "      <td>180.535259</td>\n",
       "      <td>5.195926</td>\n",
       "      <td>5.171450</td>\n",
       "      <td>0.286882</td>\n",
       "      <td>6534.849563</td>\n",
       "      <td>1.448112</td>\n",
       "    </tr>\n",
       "    <tr>\n",
       "      <th>...</th>\n",
       "      <td>...</td>\n",
       "      <td>...</td>\n",
       "      <td>...</td>\n",
       "      <td>...</td>\n",
       "      <td>...</td>\n",
       "      <td>...</td>\n",
       "      <td>...</td>\n",
       "      <td>...</td>\n",
       "      <td>...</td>\n",
       "    </tr>\n",
       "    <tr>\n",
       "      <th>2095</th>\n",
       "      <td>99</td>\n",
       "      <td>low</td>\n",
       "      <td>16</td>\n",
       "      <td>0.111704</td>\n",
       "      <td>-2.191902</td>\n",
       "      <td>-2.191902</td>\n",
       "      <td>0.271663</td>\n",
       "      <td>0.001415</td>\n",
       "      <td>-0.569793</td>\n",
       "    </tr>\n",
       "    <tr>\n",
       "      <th>2096</th>\n",
       "      <td>99</td>\n",
       "      <td>low</td>\n",
       "      <td>17</td>\n",
       "      <td>0.111704</td>\n",
       "      <td>-2.191902</td>\n",
       "      <td>-2.191902</td>\n",
       "      <td>0.271663</td>\n",
       "      <td>0.001415</td>\n",
       "      <td>-0.936125</td>\n",
       "    </tr>\n",
       "    <tr>\n",
       "      <th>2097</th>\n",
       "      <td>99</td>\n",
       "      <td>low</td>\n",
       "      <td>18</td>\n",
       "      <td>0.111704</td>\n",
       "      <td>-2.191902</td>\n",
       "      <td>-2.191902</td>\n",
       "      <td>0.271663</td>\n",
       "      <td>0.001415</td>\n",
       "      <td>-1.948268</td>\n",
       "    </tr>\n",
       "    <tr>\n",
       "      <th>2098</th>\n",
       "      <td>99</td>\n",
       "      <td>low</td>\n",
       "      <td>19</td>\n",
       "      <td>0.111704</td>\n",
       "      <td>-2.191902</td>\n",
       "      <td>-2.191902</td>\n",
       "      <td>0.271663</td>\n",
       "      <td>0.001415</td>\n",
       "      <td>0.683851</td>\n",
       "    </tr>\n",
       "    <tr>\n",
       "      <th>2099</th>\n",
       "      <td>99</td>\n",
       "      <td>low</td>\n",
       "      <td>20</td>\n",
       "      <td>0.111704</td>\n",
       "      <td>-2.191902</td>\n",
       "      <td>-2.191902</td>\n",
       "      <td>0.271663</td>\n",
       "      <td>0.001415</td>\n",
       "      <td>1.638813</td>\n",
       "    </tr>\n",
       "  </tbody>\n",
       "</table>\n",
       "<p>2100 rows × 9 columns</p>\n",
       "</div>"
      ],
      "text/plain": [
       "      Surname Group  Time       Wealth  log_Wealth        mu      beta   \n",
       "0           0  high     0  6534.849563    8.784905  5.171450  0.286882  \\\n",
       "1           0  high     1   496.748851    6.208085  5.171450  0.286882   \n",
       "2           0  high     2   237.185344    5.468842  5.171450  0.286882   \n",
       "3           0  high     3   191.860132    5.256767  5.171450  0.286882   \n",
       "4           0  high     4   180.535259    5.195926  5.171450  0.286882   \n",
       "...       ...   ...   ...          ...         ...       ...       ...   \n",
       "2095       99   low    16     0.111704   -2.191902 -2.191902  0.271663   \n",
       "2096       99   low    17     0.111704   -2.191902 -2.191902  0.271663   \n",
       "2097       99   low    18     0.111704   -2.191902 -2.191902  0.271663   \n",
       "2098       99   low    19     0.111704   -2.191902 -2.191902  0.271663   \n",
       "2099       99   low    20     0.111704   -2.191902 -2.191902  0.271663   \n",
       "\n",
       "               W0  log_random  \n",
       "0     6534.849563   -0.001584  \n",
       "1     6534.849563   -1.018887  \n",
       "2     6534.849563    0.644260  \n",
       "3     6534.849563   -0.294281  \n",
       "4     6534.849563    1.448112  \n",
       "...           ...         ...  \n",
       "2095     0.001415   -0.569793  \n",
       "2096     0.001415   -0.936125  \n",
       "2097     0.001415   -1.948268  \n",
       "2098     0.001415    0.683851  \n",
       "2099     0.001415    1.638813  \n",
       "\n",
       "[2100 rows x 9 columns]"
      ]
     },
     "execution_count": 82,
     "metadata": {},
     "output_type": "execute_result"
    }
   ],
   "source": [
    "df_scenario_1"
   ]
  },
  {
   "cell_type": "code",
   "execution_count": 83,
   "id": "2e859392-ab09-4c34-88a4-53be6c2cbbc7",
   "metadata": {
    "scrolled": true,
    "tags": []
   },
   "outputs": [
    {
     "data": {
      "text/html": [
       "<div>\n",
       "<style scoped>\n",
       "    .dataframe tbody tr th:only-of-type {\n",
       "        vertical-align: middle;\n",
       "    }\n",
       "\n",
       "    .dataframe tbody tr th {\n",
       "        vertical-align: top;\n",
       "    }\n",
       "\n",
       "    .dataframe thead th {\n",
       "        text-align: right;\n",
       "    }\n",
       "</style>\n",
       "<table border=\"1\" class=\"dataframe\">\n",
       "  <thead>\n",
       "    <tr style=\"text-align: right;\">\n",
       "      <th></th>\n",
       "      <th>Surname</th>\n",
       "      <th>Group</th>\n",
       "      <th>Time</th>\n",
       "      <th>Wealth</th>\n",
       "      <th>log_Wealth</th>\n",
       "      <th>mu</th>\n",
       "      <th>beta</th>\n",
       "      <th>W0</th>\n",
       "      <th>log_random</th>\n",
       "    </tr>\n",
       "  </thead>\n",
       "  <tbody>\n",
       "    <tr>\n",
       "      <th>0</th>\n",
       "      <td>Population</td>\n",
       "      <td>high</td>\n",
       "      <td>0</td>\n",
       "      <td>52958.112613</td>\n",
       "      <td>10.877257</td>\n",
       "      <td>5</td>\n",
       "      <td>0.8</td>\n",
       "      <td>52958.112613</td>\n",
       "      <td>-1.757845</td>\n",
       "    </tr>\n",
       "    <tr>\n",
       "      <th>1</th>\n",
       "      <td>Population</td>\n",
       "      <td>high</td>\n",
       "      <td>1</td>\n",
       "      <td>16347.091026</td>\n",
       "      <td>9.701805</td>\n",
       "      <td>5</td>\n",
       "      <td>0.8</td>\n",
       "      <td>52958.112613</td>\n",
       "      <td>0.696411</td>\n",
       "    </tr>\n",
       "    <tr>\n",
       "      <th>2</th>\n",
       "      <td>Population</td>\n",
       "      <td>high</td>\n",
       "      <td>2</td>\n",
       "      <td>6383.323678</td>\n",
       "      <td>8.761444</td>\n",
       "      <td>5</td>\n",
       "      <td>0.8</td>\n",
       "      <td>52958.112613</td>\n",
       "      <td>0.217361</td>\n",
       "    </tr>\n",
       "    <tr>\n",
       "      <th>3</th>\n",
       "      <td>Population</td>\n",
       "      <td>high</td>\n",
       "      <td>3</td>\n",
       "      <td>3008.375029</td>\n",
       "      <td>8.009155</td>\n",
       "      <td>5</td>\n",
       "      <td>0.8</td>\n",
       "      <td>52958.112613</td>\n",
       "      <td>0.275378</td>\n",
       "    </tr>\n",
       "    <tr>\n",
       "      <th>4</th>\n",
       "      <td>Population</td>\n",
       "      <td>high</td>\n",
       "      <td>4</td>\n",
       "      <td>1648.010833</td>\n",
       "      <td>7.407324</td>\n",
       "      <td>5</td>\n",
       "      <td>0.8</td>\n",
       "      <td>52958.112613</td>\n",
       "      <td>0.049203</td>\n",
       "    </tr>\n",
       "    <tr>\n",
       "      <th>5</th>\n",
       "      <td>Population</td>\n",
       "      <td>high</td>\n",
       "      <td>5</td>\n",
       "      <td>1018.269022</td>\n",
       "      <td>6.925859</td>\n",
       "      <td>5</td>\n",
       "      <td>0.8</td>\n",
       "      <td>52958.112613</td>\n",
       "      <td>0.091339</td>\n",
       "    </tr>\n",
       "    <tr>\n",
       "      <th>6</th>\n",
       "      <td>Population</td>\n",
       "      <td>high</td>\n",
       "      <td>6</td>\n",
       "      <td>692.762717</td>\n",
       "      <td>6.540688</td>\n",
       "      <td>5</td>\n",
       "      <td>0.8</td>\n",
       "      <td>52958.112613</td>\n",
       "      <td>-0.620434</td>\n",
       "    </tr>\n",
       "    <tr>\n",
       "      <th>7</th>\n",
       "      <td>Population</td>\n",
       "      <td>high</td>\n",
       "      <td>7</td>\n",
       "      <td>509.051929</td>\n",
       "      <td>6.232550</td>\n",
       "      <td>5</td>\n",
       "      <td>0.8</td>\n",
       "      <td>52958.112613</td>\n",
       "      <td>-0.652639</td>\n",
       "    </tr>\n",
       "    <tr>\n",
       "      <th>8</th>\n",
       "      <td>Population</td>\n",
       "      <td>high</td>\n",
       "      <td>8</td>\n",
       "      <td>397.836066</td>\n",
       "      <td>5.986040</td>\n",
       "      <td>5</td>\n",
       "      <td>0.8</td>\n",
       "      <td>52958.112613</td>\n",
       "      <td>0.121815</td>\n",
       "    </tr>\n",
       "    <tr>\n",
       "      <th>9</th>\n",
       "      <td>Population</td>\n",
       "      <td>high</td>\n",
       "      <td>9</td>\n",
       "      <td>326.631303</td>\n",
       "      <td>5.788832</td>\n",
       "      <td>5</td>\n",
       "      <td>0.8</td>\n",
       "      <td>52958.112613</td>\n",
       "      <td>0.773866</td>\n",
       "    </tr>\n",
       "    <tr>\n",
       "      <th>10</th>\n",
       "      <td>Population</td>\n",
       "      <td>high</td>\n",
       "      <td>10</td>\n",
       "      <td>278.959223</td>\n",
       "      <td>5.631066</td>\n",
       "      <td>5</td>\n",
       "      <td>0.8</td>\n",
       "      <td>52958.112613</td>\n",
       "      <td>-0.284838</td>\n",
       "    </tr>\n",
       "    <tr>\n",
       "      <th>11</th>\n",
       "      <td>Population</td>\n",
       "      <td>high</td>\n",
       "      <td>11</td>\n",
       "      <td>245.882184</td>\n",
       "      <td>5.504852</td>\n",
       "      <td>5</td>\n",
       "      <td>0.8</td>\n",
       "      <td>52958.112613</td>\n",
       "      <td>0.018893</td>\n",
       "    </tr>\n",
       "    <tr>\n",
       "      <th>12</th>\n",
       "      <td>Population</td>\n",
       "      <td>high</td>\n",
       "      <td>12</td>\n",
       "      <td>222.267585</td>\n",
       "      <td>5.403882</td>\n",
       "      <td>5</td>\n",
       "      <td>0.8</td>\n",
       "      <td>52958.112613</td>\n",
       "      <td>1.668757</td>\n",
       "    </tr>\n",
       "    <tr>\n",
       "      <th>13</th>\n",
       "      <td>Population</td>\n",
       "      <td>high</td>\n",
       "      <td>13</td>\n",
       "      <td>205.019602</td>\n",
       "      <td>5.323106</td>\n",
       "      <td>5</td>\n",
       "      <td>0.8</td>\n",
       "      <td>52958.112613</td>\n",
       "      <td>-1.597605</td>\n",
       "    </tr>\n",
       "    <tr>\n",
       "      <th>14</th>\n",
       "      <td>Population</td>\n",
       "      <td>high</td>\n",
       "      <td>14</td>\n",
       "      <td>192.190002</td>\n",
       "      <td>5.258484</td>\n",
       "      <td>5</td>\n",
       "      <td>0.8</td>\n",
       "      <td>52958.112613</td>\n",
       "      <td>-2.216888</td>\n",
       "    </tr>\n",
       "    <tr>\n",
       "      <th>15</th>\n",
       "      <td>Population</td>\n",
       "      <td>high</td>\n",
       "      <td>15</td>\n",
       "      <td>182.506827</td>\n",
       "      <td>5.206788</td>\n",
       "      <td>5</td>\n",
       "      <td>0.8</td>\n",
       "      <td>52958.112613</td>\n",
       "      <td>-0.075356</td>\n",
       "    </tr>\n",
       "    <tr>\n",
       "      <th>16</th>\n",
       "      <td>Population</td>\n",
       "      <td>high</td>\n",
       "      <td>16</td>\n",
       "      <td>175.112752</td>\n",
       "      <td>5.165430</td>\n",
       "      <td>5</td>\n",
       "      <td>0.8</td>\n",
       "      <td>52958.112613</td>\n",
       "      <td>-0.119461</td>\n",
       "    </tr>\n",
       "    <tr>\n",
       "      <th>17</th>\n",
       "      <td>Population</td>\n",
       "      <td>high</td>\n",
       "      <td>17</td>\n",
       "      <td>169.413768</td>\n",
       "      <td>5.132344</td>\n",
       "      <td>5</td>\n",
       "      <td>0.8</td>\n",
       "      <td>52958.112613</td>\n",
       "      <td>1.023045</td>\n",
       "    </tr>\n",
       "    <tr>\n",
       "      <th>18</th>\n",
       "      <td>Population</td>\n",
       "      <td>high</td>\n",
       "      <td>18</td>\n",
       "      <td>164.988412</td>\n",
       "      <td>5.105875</td>\n",
       "      <td>5</td>\n",
       "      <td>0.8</td>\n",
       "      <td>52958.112613</td>\n",
       "      <td>-0.451671</td>\n",
       "    </tr>\n",
       "    <tr>\n",
       "      <th>19</th>\n",
       "      <td>Population</td>\n",
       "      <td>high</td>\n",
       "      <td>19</td>\n",
       "      <td>161.531504</td>\n",
       "      <td>5.084700</td>\n",
       "      <td>5</td>\n",
       "      <td>0.8</td>\n",
       "      <td>52958.112613</td>\n",
       "      <td>0.614603</td>\n",
       "    </tr>\n",
       "    <tr>\n",
       "      <th>20</th>\n",
       "      <td>Population</td>\n",
       "      <td>high</td>\n",
       "      <td>20</td>\n",
       "      <td>158.818200</td>\n",
       "      <td>5.067760</td>\n",
       "      <td>5</td>\n",
       "      <td>0.8</td>\n",
       "      <td>52958.112613</td>\n",
       "      <td>-1.124037</td>\n",
       "    </tr>\n",
       "  </tbody>\n",
       "</table>\n",
       "</div>"
      ],
      "text/plain": [
       "       Surname Group  Time        Wealth  log_Wealth  mu  beta            W0   \n",
       "0   Population  high     0  52958.112613   10.877257   5   0.8  52958.112613  \\\n",
       "1   Population  high     1  16347.091026    9.701805   5   0.8  52958.112613   \n",
       "2   Population  high     2   6383.323678    8.761444   5   0.8  52958.112613   \n",
       "3   Population  high     3   3008.375029    8.009155   5   0.8  52958.112613   \n",
       "4   Population  high     4   1648.010833    7.407324   5   0.8  52958.112613   \n",
       "5   Population  high     5   1018.269022    6.925859   5   0.8  52958.112613   \n",
       "6   Population  high     6    692.762717    6.540688   5   0.8  52958.112613   \n",
       "7   Population  high     7    509.051929    6.232550   5   0.8  52958.112613   \n",
       "8   Population  high     8    397.836066    5.986040   5   0.8  52958.112613   \n",
       "9   Population  high     9    326.631303    5.788832   5   0.8  52958.112613   \n",
       "10  Population  high    10    278.959223    5.631066   5   0.8  52958.112613   \n",
       "11  Population  high    11    245.882184    5.504852   5   0.8  52958.112613   \n",
       "12  Population  high    12    222.267585    5.403882   5   0.8  52958.112613   \n",
       "13  Population  high    13    205.019602    5.323106   5   0.8  52958.112613   \n",
       "14  Population  high    14    192.190002    5.258484   5   0.8  52958.112613   \n",
       "15  Population  high    15    182.506827    5.206788   5   0.8  52958.112613   \n",
       "16  Population  high    16    175.112752    5.165430   5   0.8  52958.112613   \n",
       "17  Population  high    17    169.413768    5.132344   5   0.8  52958.112613   \n",
       "18  Population  high    18    164.988412    5.105875   5   0.8  52958.112613   \n",
       "19  Population  high    19    161.531504    5.084700   5   0.8  52958.112613   \n",
       "20  Population  high    20    158.818200    5.067760   5   0.8  52958.112613   \n",
       "\n",
       "    log_random  \n",
       "0    -1.757845  \n",
       "1     0.696411  \n",
       "2     0.217361  \n",
       "3     0.275378  \n",
       "4     0.049203  \n",
       "5     0.091339  \n",
       "6    -0.620434  \n",
       "7    -0.652639  \n",
       "8     0.121815  \n",
       "9     0.773866  \n",
       "10   -0.284838  \n",
       "11    0.018893  \n",
       "12    1.668757  \n",
       "13   -1.597605  \n",
       "14   -2.216888  \n",
       "15   -0.075356  \n",
       "16   -0.119461  \n",
       "17    1.023045  \n",
       "18   -0.451671  \n",
       "19    0.614603  \n",
       "20   -1.124037  "
      ]
     },
     "execution_count": 83,
     "metadata": {},
     "output_type": "execute_result"
    }
   ],
   "source": [
    "population_data_2"
   ]
  },
  {
   "cell_type": "code",
   "execution_count": 84,
   "id": "b1d38546-bfc5-4427-97fa-ee23c9c4004a",
   "metadata": {
    "tags": []
   },
   "outputs": [
    {
     "data": {
      "application/vnd.plotly.v1+json": {
       "config": {
        "plotlyServerURL": "https://plot.ly"
       },
       "data": [
        {
         "line": {
          "color": "gray",
          "width": 1.5
         },
         "marker": {
          "color": "gray",
          "size": 8,
          "symbol": "circle"
         },
         "mode": "markers+lines",
         "name": "Surname 0",
         "opacity": 0.4,
         "type": "scatter",
         "x": [
          0,
          1,
          2,
          3,
          4,
          5,
          6,
          7,
          8,
          9,
          10,
          11,
          12,
          13,
          14,
          15,
          16,
          17,
          18,
          19,
          20
         ],
         "y": [
          8.783320574141738,
          5.189197460125918,
          6.113101843590975,
          4.962485289221477,
          6.644037612188737,
          5.332033758176101,
          5.158632457476622,
          6.663005568976074,
          5.583038840163637,
          4.34965820784518,
          5.295211552027559,
          3.507323662059592,
          6.763407616717048,
          7.441669816071233,
          4.937866019731024,
          5.044582114973716,
          6.046098654981747,
          5.274950404996421,
          6.114637565808319,
          5.366587830451983,
          5.179488822324719
         ]
        },
        {
         "line": {
          "color": "gray",
          "width": 1.5
         },
         "marker": {
          "color": "gray",
          "size": 8,
          "symbol": "circle"
         },
         "mode": "markers+lines",
         "name": "Surname 1",
         "opacity": 0.4,
         "type": "scatter",
         "x": [
          0,
          1,
          2,
          3,
          4,
          5,
          6,
          7,
          8,
          9,
          10,
          11,
          12,
          13,
          14,
          15,
          16,
          17,
          18,
          19,
          20
         ],
         "y": [
          8.7434803836133,
          3.951355995755563,
          3.210916818688373,
          1.309905105423326,
          1.1688458259347085,
          2.6915724315279372,
          0.36734758848906696,
          1.0059332267087662,
          -0.036536515481693455,
          0.21715043879584817,
          0.545472037094564,
          0.8262838889426963,
          0.6764693215246849,
          1.527393929829967,
          1.0054880552395447,
          -0.34920643172623267,
          1.1682817556377159,
          1.0934444044705383,
          0.024655348851202574,
          0.06826137169119673,
          -0.3346669922597285
         ]
        },
        {
         "line": {
          "color": "gray",
          "width": 1.5
         },
         "marker": {
          "color": "gray",
          "size": 8,
          "symbol": "circle"
         },
         "mode": "markers+lines",
         "name": "Surname 2",
         "opacity": 0.4,
         "type": "scatter",
         "x": [
          0,
          1,
          2,
          3,
          4,
          5,
          6,
          7,
          8,
          9,
          10,
          11,
          12,
          13,
          14,
          15,
          16,
          17,
          18,
          19,
          20
         ],
         "y": [
          8.849571308913234,
          5.9513599843351965,
          5.61445038841216,
          6.852345748513055,
          6.334238006784868,
          8.058543214938226,
          5.689220023977218,
          6.4721217539379845,
          7.895606009026452,
          7.504513523704587,
          6.556448126598003,
          7.443297943475346,
          7.500419596031637,
          6.569279045998648,
          6.91611543279701,
          6.43229687355877,
          6.184287217440794,
          4.753241456251206,
          6.174105646247902,
          6.0388140971830016,
          5.849575601758465
         ]
        },
        {
         "line": {
          "color": "gray",
          "width": 1.5
         },
         "marker": {
          "color": "gray",
          "size": 8,
          "symbol": "circle"
         },
         "mode": "markers+lines",
         "name": "Surname 3",
         "opacity": 0.4,
         "type": "scatter",
         "x": [
          0,
          1,
          2,
          3,
          4,
          5,
          6,
          7,
          8,
          9,
          10,
          11,
          12,
          13,
          14,
          15,
          16,
          17,
          18,
          19,
          20
         ],
         "y": [
          12.059084639764624,
          0.8287603798247507,
          -1.8029971495562704,
          -3.2977646778996905,
          -4.471909883652901,
          -3.2028503217788318,
          -3.6745637384339376,
          -3.108772456841581,
          -3.72501320102463,
          -4.024031062152671,
          -4.635394542104464,
          -3.4046695183273425,
          -4.260780184086419,
          -4.602135446997875,
          -4.512121220367143,
          -2.369292234514118,
          -3.9999919687158823,
          -4.522623444752003,
          -5.0913564019537185,
          -2.542731407934562,
          -2.609354033642404
         ]
        },
        {
         "line": {
          "color": "gray",
          "width": 1.5
         },
         "marker": {
          "color": "gray",
          "size": 8,
          "symbol": "circle"
         },
         "mode": "markers+lines",
         "name": "Surname 4",
         "opacity": 0.4,
         "type": "scatter",
         "x": [
          0,
          1,
          2,
          3,
          4,
          5,
          6,
          7,
          8,
          9,
          10,
          11,
          12,
          13,
          14,
          15,
          16,
          17,
          18,
          19,
          20
         ],
         "y": [
          6.380527847826809,
          5.4924986870007455,
          5.920759048134232,
          6.114241517080212,
          4.627451790561034,
          2.5679742351475987,
          6.771592534951886,
          6.103049808089582,
          6.380990820016025,
          4.902518336381159,
          4.235633958640088,
          8.140769969669599,
          6.415060500535985,
          4.429492879516201,
          3.989946074481035,
          4.521953457763744,
          6.610677439231202,
          6.053203800523163,
          5.981040413875043,
          5.527719229400041,
          7.440805029129957
         ]
        },
        {
         "line": {
          "color": "gray",
          "width": 1.5
         },
         "marker": {
          "color": "gray",
          "size": 8,
          "symbol": "circle"
         },
         "mode": "markers+lines",
         "name": "Surname 5",
         "opacity": 0.4,
         "type": "scatter",
         "x": [
          0,
          1,
          2,
          3,
          4,
          5,
          6,
          7,
          8,
          9,
          10,
          11,
          12,
          13,
          14,
          15,
          16,
          17,
          18,
          19,
          20
         ],
         "y": [
          8.751145584006059,
          5.118756346582847,
          4.8861487575052625,
          2.866105322484516,
          3.826412006132276,
          4.38408559554624,
          5.538683541781258,
          3.6019952682800858,
          5.445109473089815,
          4.758042930393105,
          4.605412105222642,
          4.347739936265025,
          5.543581369737802,
          4.716013003052117,
          3.622650458731643,
          4.801799320927175,
          4.317121796170447,
          3.527239056992295,
          6.207871757544245,
          5.177114211456615,
          2.880988791760074
         ]
        },
        {
         "line": {
          "color": "gray",
          "width": 1.5
         },
         "marker": {
          "color": "gray",
          "size": 8,
          "symbol": "circle"
         },
         "mode": "markers+lines",
         "name": "Surname 6",
         "opacity": 0.4,
         "type": "scatter",
         "x": [
          0,
          1,
          2,
          3,
          4,
          5,
          6,
          7,
          8,
          9,
          10,
          11,
          12,
          13,
          14,
          15,
          16,
          17,
          18,
          19,
          20
         ],
         "y": [
          15.508843966359525,
          10.133365960578669,
          9.517210307214755,
          9.090559005249002,
          9.436315786970667,
          8.908200729748952,
          9.914484402767451,
          8.709773960909025,
          9.990153828030715,
          11.173942108136963,
          8.770595332622477,
          7.748339021278449,
          8.952323319937127,
          10.292802045608585,
          8.613332969050614,
          9.25617969294618,
          9.230318196815496,
          10.141915582319246,
          9.362489166645572,
          9.693403004461269,
          10.19446421986748
         ]
        },
        {
         "line": {
          "color": "gray",
          "width": 1.5
         },
         "marker": {
          "color": "gray",
          "size": 8,
          "symbol": "circle"
         },
         "mode": "markers+lines",
         "name": "Surname 7",
         "opacity": 0.4,
         "type": "scatter",
         "x": [
          0,
          1,
          2,
          3,
          4,
          5,
          6,
          7,
          8,
          9,
          10,
          11,
          12,
          13,
          14,
          15,
          16,
          17,
          18,
          19,
          20
         ],
         "y": [
          10.653610183638405,
          3.072977641473862,
          1.40480620882795,
          2.2407400573894307,
          1.54381294814612,
          -0.5563854255302243,
          0.37001065807025446,
          0.6243624737156124,
          -1.3423678464943487,
          2.442196522495225,
          0.4456863028553122,
          0.7809120274728153,
          0.15164519987870534,
          -0.7837106416896428,
          0.22946559126888727,
          0.4764920148098283,
          2.1025839692470902,
          0.12602405407278955,
          1.3213113695181744,
          0.20174917879687643,
          -1.4062457682613188
         ]
        },
        {
         "line": {
          "color": "gray",
          "width": 1.5
         },
         "marker": {
          "color": "gray",
          "size": 8,
          "symbol": "circle"
         },
         "mode": "markers+lines",
         "name": "Surname 8",
         "opacity": 0.4,
         "type": "scatter",
         "x": [
          0,
          1,
          2,
          3,
          4,
          5,
          6,
          7,
          8,
          9,
          10,
          11,
          12,
          13,
          14,
          15,
          16,
          17,
          18,
          19,
          20
         ],
         "y": [
          11.180528086317977,
          6.2673784707257925,
          4.857855597140274,
          4.689095915940162,
          4.767473979351842,
          4.881602488887288,
          6.974544861030355,
          4.158280372067642,
          3.7165577400735272,
          6.140488743474208,
          4.912089302500109,
          4.648281676438295,
          5.450900282951171,
          4.2617365981683575,
          5.260615085574711,
          5.646837894884006,
          5.2487511791980355,
          4.299974922712975,
          4.546754042083489,
          4.871004896378452,
          3.879593293174258
         ]
        },
        {
         "line": {
          "color": "gray",
          "width": 1.5
         },
         "marker": {
          "color": "gray",
          "size": 8,
          "symbol": "circle"
         },
         "mode": "markers+lines",
         "name": "Surname 9",
         "opacity": 0.4,
         "type": "scatter",
         "x": [
          0,
          1,
          2,
          3,
          4,
          5,
          6,
          7,
          8,
          9,
          10,
          11,
          12,
          13,
          14,
          15,
          16,
          17,
          18,
          19,
          20
         ],
         "y": [
          11.598224032721687,
          6.749966559585446,
          4.0384808544749005,
          3.987232059041761,
          5.186437205149697,
          4.833735353488281,
          5.468333370342348,
          4.02936421014542,
          5.25586641595539,
          3.8576274126962398,
          3.8425068231536037,
          4.677886011668682,
          4.582637559232801,
          3.888708349186198,
          4.893504953059322,
          4.819563983679009,
          4.113328462343758,
          5.346553879320787,
          4.096315333879222,
          5.873154770847519,
          4.004388635479272
         ]
        },
        {
         "line": {
          "color": "gray",
          "width": 1.5
         },
         "marker": {
          "color": "gray",
          "size": 8,
          "symbol": "circle"
         },
         "mode": "markers+lines",
         "name": "Surname 10",
         "opacity": 0.4,
         "type": "scatter",
         "x": [
          0,
          1,
          2,
          3,
          4,
          5,
          6,
          7,
          8,
          9,
          10,
          11,
          12,
          13,
          14,
          15,
          16,
          17,
          18,
          19,
          20
         ],
         "y": [
          10.359617718248366,
          5.284183319561033,
          5.142834378557652,
          4.485073330511238,
          3.5471655282020915,
          3.8753578326081857,
          4.037172183925914,
          4.73231891075536,
          4.06737036146092,
          4.2835066288441315,
          4.529270321418404,
          5.419769039394214,
          4.311706334343918,
          2.7639620728750565,
          3.574660596578069,
          4.445826511181672,
          5.526952552771748,
          3.2576580891669007,
          4.891731625327806,
          4.33167950740287,
          3.3682338260696842
         ]
        },
        {
         "line": {
          "color": "gray",
          "width": 1.5
         },
         "marker": {
          "color": "gray",
          "size": 8,
          "symbol": "circle"
         },
         "mode": "markers+lines",
         "name": "Surname 11",
         "opacity": 0.4,
         "type": "scatter",
         "x": [
          0,
          1,
          2,
          3,
          4,
          5,
          6,
          7,
          8,
          9,
          10,
          11,
          12,
          13,
          14,
          15,
          16,
          17,
          18,
          19,
          20
         ],
         "y": [
          8.52832011820437,
          13.485539140534721,
          12.418262417101205,
          11.828289511179575,
          12.513652536017648,
          12.405114989775967,
          11.987616898553132,
          12.646549237219238,
          11.699160970014933,
          13.328013365104557,
          12.639692942093367,
          12.187806003259704,
          10.512649215041973,
          11.428577315540483,
          12.651097491488228,
          11.36365712976835,
          11.0777553491982,
          13.140774572661948,
          14.050062113482213,
          10.335154612527173,
          11.323452025015753
         ]
        },
        {
         "line": {
          "color": "gray",
          "width": 1.5
         },
         "marker": {
          "color": "gray",
          "size": 8,
          "symbol": "circle"
         },
         "mode": "markers+lines",
         "name": "Surname 12",
         "opacity": 0.4,
         "type": "scatter",
         "x": [
          0,
          1,
          2,
          3,
          4,
          5,
          6,
          7,
          8,
          9,
          10,
          11,
          12,
          13,
          14,
          15,
          16,
          17,
          18,
          19,
          20
         ],
         "y": [
          12.620428743148738,
          0.7641125733668381,
          -1.1670500890079762,
          -1.840637504633123,
          -3.1698078515171257,
          -1.1675367717639935,
          -2.710263022083592,
          -2.713819992886143,
          -2.664729350837621,
          -1.7015520422126287,
          -1.6467403646816647,
          -4.263324775190417,
          -3.1594674814827366,
          -4.235462842360284,
          -2.424447353889805,
          -2.6922637412446893,
          -4.388301021428769,
          -3.0846636735086364,
          -1.6829662685400186,
          -1.2969020537743827,
          -4.476805105567532
         ]
        },
        {
         "line": {
          "color": "gray",
          "width": 1.5
         },
         "marker": {
          "color": "gray",
          "size": 8,
          "symbol": "circle"
         },
         "mode": "markers+lines",
         "name": "Surname 13",
         "opacity": 0.4,
         "type": "scatter",
         "x": [
          0,
          1,
          2,
          3,
          4,
          5,
          6,
          7,
          8,
          9,
          10,
          11,
          12,
          13,
          14,
          15,
          16,
          17,
          18,
          19,
          20
         ],
         "y": [
          9.336559665553477,
          3.4561954467568174,
          3.692693167129942,
          4.834166500002789,
          0.9310904867947589,
          1.5536628563208903,
          1.3492566951173568,
          4.2142866064535065,
          1.997997925687777,
          1.3223853334119233,
          3.376033957238489,
          1.2019463686079823,
          3.9409627876446223,
          4.458140396577905,
          3.4350571189458172,
          3.347167546098995,
          0.8231455907711325,
          -0.3234620512809965,
          1.402310852051746,
          2.9641579863108496,
          2.6721521193530924
         ]
        },
        {
         "line": {
          "color": "gray",
          "width": 1.5
         },
         "marker": {
          "color": "gray",
          "size": 8,
          "symbol": "circle"
         },
         "mode": "markers+lines",
         "name": "Surname 14",
         "opacity": 0.4,
         "type": "scatter",
         "x": [
          0,
          1,
          2,
          3,
          4,
          5,
          6,
          7,
          8,
          9,
          10,
          11,
          12,
          13,
          14,
          15,
          16,
          17,
          18,
          19,
          20
         ],
         "y": [
          7.2079666408504135,
          8.145639149331478,
          6.3101522723162535,
          8.52729713213742,
          7.596887380155469,
          8.244015294713416,
          6.268045122416217,
          7.870908985375587,
          6.741379435473459,
          5.910453766658089,
          5.956183737691147,
          8.91053099375414,
          7.619852007605279,
          7.285824949937747,
          7.033192289085951,
          7.945186081454699,
          6.184850176165946,
          6.43286730246776,
          7.723729573708972,
          6.363933008322727,
          8.80420666275513
         ]
        },
        {
         "line": {
          "color": "gray",
          "width": 1.5
         },
         "marker": {
          "color": "gray",
          "size": 8,
          "symbol": "circle"
         },
         "mode": "markers+lines",
         "name": "Surname 15",
         "opacity": 0.4,
         "type": "scatter",
         "x": [
          0,
          1,
          2,
          3,
          4,
          5,
          6,
          7,
          8,
          9,
          10,
          11,
          12,
          13,
          14,
          15,
          16,
          17,
          18,
          19,
          20
         ],
         "y": [
          9.485017943412862,
          3.599012727554392,
          1.5851212392909617,
          1.4106371786656633,
          0.3391487589920241,
          1.2584972871519724,
          -0.9363821837546085,
          0.3451122618195359,
          1.8113017285193531,
          0.8500400228549533,
          0.8904809253120876,
          -0.9482843618266763,
          1.4430168897683529,
          1.2002735997825629,
          -0.4949605993843498,
          0.46606530823029024,
          1.6769612219204904,
          2.202874300220585,
          2.097761221109174,
          1.5719349203739748,
          2.910265133076396
         ]
        },
        {
         "line": {
          "color": "gray",
          "width": 1.5
         },
         "marker": {
          "color": "gray",
          "size": 8,
          "symbol": "circle"
         },
         "mode": "markers+lines",
         "name": "Surname 16",
         "opacity": 0.4,
         "type": "scatter",
         "x": [
          0,
          1,
          2,
          3,
          4,
          5,
          6,
          7,
          8,
          9,
          10,
          11,
          12,
          13,
          14,
          15,
          16,
          17,
          18,
          19,
          20
         ],
         "y": [
          10.775153772172182,
          2.864888243306036,
          -0.1357842454207907,
          1.5105178679372906,
          1.8288720458097028,
          0.06850594458310788,
          -1.7628970606837804,
          0.1028840568667378,
          0.6910749411278108,
          0.892994355027017,
          0.688629578095101,
          1.5744347141389736,
          -0.9840338917734485,
          -0.43892383571851334,
          2.4781530067348054,
          0.21009808881074887,
          -0.7446889879189702,
          0.9049863982613364,
          1.1229845262314804,
          0.4718258239376195,
          -1.314559567611369
         ]
        },
        {
         "line": {
          "color": "gray",
          "width": 1.5
         },
         "marker": {
          "color": "gray",
          "size": 8,
          "symbol": "circle"
         },
         "mode": "markers+lines",
         "name": "Surname 17",
         "opacity": 0.4,
         "type": "scatter",
         "x": [
          0,
          1,
          2,
          3,
          4,
          5,
          6,
          7,
          8,
          9,
          10,
          11,
          12,
          13,
          14,
          15,
          16,
          17,
          18,
          19,
          20
         ],
         "y": [
          11.337247964475,
          1.009564488350476,
          -6.069242791142289,
          -4.6023473571929046,
          -6.984582174916415,
          -6.22533893783234,
          -4.14405339290788,
          -9.671619840660698,
          -6.19421025582779,
          -7.660603067180283,
          -6.61665287782313,
          -6.779283023946564,
          -8.092295675526723,
          -6.402613532759246,
          -8.218841970750283,
          -6.638836437814964,
          -6.3827966767335695,
          -6.240027837620499,
          -7.607547416916059,
          -7.3683231206525415,
          -6.623265975588256
         ]
        },
        {
         "line": {
          "color": "gray",
          "width": 1.5
         },
         "marker": {
          "color": "gray",
          "size": 8,
          "symbol": "circle"
         },
         "mode": "markers+lines",
         "name": "Surname 18",
         "opacity": 0.4,
         "type": "scatter",
         "x": [
          0,
          1,
          2,
          3,
          4,
          5,
          6,
          7,
          8,
          9,
          10,
          11,
          12,
          13,
          14,
          15,
          16,
          17,
          18,
          19,
          20
         ],
         "y": [
          10.416037736288354,
          0.7354819185885655,
          -0.5517275953766216,
          -2.1985243849855984,
          -3.5892358690594834,
          -1.9663308499440226,
          -3.4232270299832486,
          -2.604396662841678,
          -3.774117052317625,
          -1.4559755653974649,
          -4.631362037311324,
          -4.290610798519712,
          -3.5378909439107074,
          -3.400004728033841,
          -2.252497244665482,
          -2.7656516040065284,
          0.034057347252736125,
          -2.870258603015047,
          -1.6175326689024352,
          -2.662745447482354,
          -2.590512468945047
         ]
        },
        {
         "line": {
          "color": "gray",
          "width": 1.5
         },
         "marker": {
          "color": "gray",
          "size": 8,
          "symbol": "circle"
         },
         "mode": "markers+lines",
         "name": "Surname 19",
         "opacity": 0.4,
         "type": "scatter",
         "x": [
          0,
          1,
          2,
          3,
          4,
          5,
          6,
          7,
          8,
          9,
          10,
          11,
          12,
          13,
          14,
          15,
          16,
          17,
          18,
          19,
          20
         ],
         "y": [
          7.321486431611487,
          1.8831819610149239,
          1.3315801040658155,
          -1.1385941287168895,
          3.4777535572518095,
          0.1226877255580553,
          -1.1882720467447454,
          -0.5614412882381974,
          0.674414190602561,
          0.16915396240695263,
          -0.16212525608593537,
          0.944823589766353,
          0.5175974553308758,
          0.9218158875592644,
          -0.04986582489681918,
          -1.6754729034405638,
          -1.2046122710465128,
          -0.1054413178029171,
          -0.30107748430489295,
          1.7011849953477685,
          -0.3523185418930301
         ]
        },
        {
         "line": {
          "color": "gray",
          "width": 1.5
         },
         "marker": {
          "color": "gray",
          "size": 8,
          "symbol": "circle"
         },
         "mode": "markers+lines",
         "name": "Surname 20",
         "opacity": 0.4,
         "type": "scatter",
         "x": [
          0,
          1,
          2,
          3,
          4,
          5,
          6,
          7,
          8,
          9,
          10,
          11,
          12,
          13,
          14,
          15,
          16,
          17,
          18,
          19,
          20
         ],
         "y": [
          11.311165061804134,
          3.5205823227382718,
          2.350249736543403,
          3.2870873306362167,
          2.3166016959755718,
          0.4295563685870214,
          2.83326030746043,
          2.5242000538203864,
          2.1744274509178307,
          3.210086641080928,
          3.2043481882508456,
          2.9184017186580804,
          1.854415379609081,
          2.3412962881581656,
          2.673985656671204,
          3.1163946113456844,
          1.4595763396356856,
          2.717648884723381,
          3.715817235200171,
          2.7819412926860996,
          3.2764266004653635
         ]
        },
        {
         "line": {
          "color": "gray",
          "width": 1.5
         },
         "marker": {
          "color": "gray",
          "size": 8,
          "symbol": "circle"
         },
         "mode": "markers+lines",
         "name": "Surname 21",
         "opacity": 0.4,
         "type": "scatter",
         "x": [
          0,
          1,
          2,
          3,
          4,
          5,
          6,
          7,
          8,
          9,
          10,
          11,
          12,
          13,
          14,
          15,
          16,
          17,
          18,
          19,
          20
         ],
         "y": [
          11.574486766085956,
          5.70928523041621,
          3.680631538575975,
          3.9503343244972684,
          4.4443720028573335,
          2.764865154621601,
          2.4685968306427246,
          5.886868508831091,
          3.9285397193081733,
          4.485520867493012,
          4.495728317877914,
          5.341812626411532,
          3.779754290369775,
          3.072486245616488,
          4.092298272441949,
          3.8530458360411517,
          3.494250871432569,
          4.599956571757386,
          4.192572469068681,
          4.321657972552305,
          3.994001231706816
         ]
        },
        {
         "line": {
          "color": "gray",
          "width": 1.5
         },
         "marker": {
          "color": "gray",
          "size": 8,
          "symbol": "circle"
         },
         "mode": "markers+lines",
         "name": "Surname 22",
         "opacity": 0.4,
         "type": "scatter",
         "x": [
          0,
          1,
          2,
          3,
          4,
          5,
          6,
          7,
          8,
          9,
          10,
          11,
          12,
          13,
          14,
          15,
          16,
          17,
          18,
          19,
          20
         ],
         "y": [
          10.277810190501562,
          4.218635814334642,
          1.6508391908601938,
          2.1518395875421357,
          -0.0421484822548297,
          1.9819455293441544,
          2.322866732102797,
          1.29889028662706,
          -0.28984728185310016,
          1.7132130781527626,
          0.8132968703587141,
          0.7934948435271936,
          0.8373135226425583,
          1.8360088324253596,
          -0.4238794442037428,
          1.5407377063393601,
          1.1567667672401778,
          1.1456733218329562,
          0.15948109825306056,
          0.12273090840000433,
          1.4069633271592008
         ]
        },
        {
         "line": {
          "color": "gray",
          "width": 1.5
         },
         "marker": {
          "color": "gray",
          "size": 8,
          "symbol": "circle"
         },
         "mode": "markers+lines",
         "name": "Surname 23",
         "opacity": 0.4,
         "type": "scatter",
         "x": [
          0,
          1,
          2,
          3,
          4,
          5,
          6,
          7,
          8,
          9,
          10,
          11,
          12,
          13,
          14,
          15,
          16,
          17,
          18,
          19,
          20
         ],
         "y": [
          12.80186222834909,
          8.816019189414597,
          8.025408050323762,
          7.866405050936598,
          6.673471264542084,
          8.201287504927254,
          6.068006045122392,
          6.106001040360633,
          7.178109271397122,
          7.023069934696633,
          7.161072626221927,
          7.017466933057451,
          6.964153563172856,
          7.744878085477428,
          7.9793640919159525,
          7.27813006340122,
          7.578157309671243,
          7.352733414012748,
          6.202092642627051,
          8.474436508807194,
          7.144135291784644
         ]
        },
        {
         "line": {
          "color": "gray",
          "width": 1.5
         },
         "marker": {
          "color": "gray",
          "size": 8,
          "symbol": "circle"
         },
         "mode": "markers+lines",
         "name": "Surname 24",
         "opacity": 0.4,
         "type": "scatter",
         "x": [
          0,
          1,
          2,
          3,
          4,
          5,
          6,
          7,
          8,
          9,
          10,
          11,
          12,
          13,
          14,
          15,
          16,
          17,
          18,
          19,
          20
         ],
         "y": [
          10.682893965290887,
          10.96284913899287,
          10.172312372771977,
          10.198455437214518,
          11.248348800145559,
          10.301048797122805,
          9.420879376895348,
          10.027966673811285,
          9.44155428247032,
          11.022046653971731,
          10.846802910672395,
          10.408215981488258,
          10.204750400984265,
          9.460937314501974,
          10.074901388930565,
          11.358717741865188,
          9.842569480866548,
          9.222082696073148,
          9.38714654490595,
          9.925333327001,
          9.521745656055495
         ]
        },
        {
         "line": {
          "color": "gray",
          "width": 1.5
         },
         "marker": {
          "color": "gray",
          "size": 8,
          "symbol": "circle"
         },
         "mode": "markers+lines",
         "name": "Surname 25",
         "opacity": 0.4,
         "type": "scatter",
         "x": [
          0,
          1,
          2,
          3,
          4,
          5,
          6,
          7,
          8,
          9,
          10,
          11,
          12,
          13,
          14,
          15,
          16,
          17,
          18,
          19,
          20
         ],
         "y": [
          10.714250377841914,
          7.145148824164895,
          6.74641155063672,
          5.786448384540754,
          5.888630430264645,
          7.244965976960521,
          8.303164013482139,
          6.78725667163885,
          6.5276575800226295,
          8.014262797923335,
          4.845830454491255,
          6.010707885309627,
          6.378759063837169,
          6.80176788652777,
          6.191737272311785,
          7.065061938134893,
          6.393923725197484,
          6.126656079330088,
          6.567630144185691,
          6.991372716886741,
          6.924713247613427
         ]
        },
        {
         "line": {
          "color": "gray",
          "width": 1.5
         },
         "marker": {
          "color": "gray",
          "size": 8,
          "symbol": "circle"
         },
         "mode": "markers+lines",
         "name": "Surname 26",
         "opacity": 0.4,
         "type": "scatter",
         "x": [
          0,
          1,
          2,
          3,
          4,
          5,
          6,
          7,
          8,
          9,
          10,
          11,
          12,
          13,
          14,
          15,
          16,
          17,
          18,
          19,
          20
         ],
         "y": [
          13.537657857267021,
          8.438830015589232,
          6.849094738607267,
          6.41848138299585,
          7.830514121489557,
          10.262795066556084,
          10.121410292920977,
          7.774961549064125,
          8.830281877899878,
          7.2066425113052075,
          7.730859366405834,
          7.417557017465605,
          7.438243055444061,
          6.518587608770554,
          9.08912136768865,
          7.0209828730930015,
          5.385495534728765,
          10.615600883394558,
          6.549024578124672,
          7.817238619080173,
          8.593167240599014
         ]
        },
        {
         "line": {
          "color": "gray",
          "width": 1.5
         },
         "marker": {
          "color": "gray",
          "size": 8,
          "symbol": "circle"
         },
         "mode": "markers+lines",
         "name": "Surname 27",
         "opacity": 0.4,
         "type": "scatter",
         "x": [
          0,
          1,
          2,
          3,
          4,
          5,
          6,
          7,
          8,
          9,
          10,
          11,
          12,
          13,
          14,
          15,
          16,
          17,
          18,
          19,
          20
         ],
         "y": [
          9.84783450924923,
          1.786261062865729,
          -0.8674005773688845,
          -3.0986792905479787,
          -1.6496282690589,
          -0.85272821689331,
          -4.271839655291052,
          0.8600281658701321,
          -2.0436086238277102,
          -3.1124155745274367,
          -1.6591876951034616,
          0.34485886726339343,
          -0.032166317392682275,
          -2.0244576636182465,
          -2.562060042218855,
          -0.3233024314116715,
          -0.5136939705406012,
          -0.7305780528009582,
          0.3426995339339858,
          -0.9861334952757665,
          -1.7389912172684316
         ]
        },
        {
         "line": {
          "color": "gray",
          "width": 1.5
         },
         "marker": {
          "color": "gray",
          "size": 8,
          "symbol": "circle"
         },
         "mode": "markers+lines",
         "name": "Surname 28",
         "opacity": 0.4,
         "type": "scatter",
         "x": [
          0,
          1,
          2,
          3,
          4,
          5,
          6,
          7,
          8,
          9,
          10,
          11,
          12,
          13,
          14,
          15,
          16,
          17,
          18,
          19,
          20
         ],
         "y": [
          8.516371865903494,
          3.2302444848721095,
          3.0194386576649945,
          2.0011157894361107,
          -0.07689699214145462,
          0.517441166561932,
          2.029324472929379,
          0.6807338943356477,
          2.886023763895839,
          0.49005206844086224,
          1.8380923012464316,
          -0.12424524062804099,
          -0.01571034014943562,
          1.3506445831981764,
          1.2433448808822527,
          1.8795246385650675,
          0.8483993572316109,
          1.3111488863555614,
          1.8872063256806435,
          2.0663527509362023,
          0.9724960543865377
         ]
        },
        {
         "line": {
          "color": "gray",
          "width": 1.5
         },
         "marker": {
          "color": "gray",
          "size": 8,
          "symbol": "circle"
         },
         "mode": "markers+lines",
         "name": "Surname 29",
         "opacity": 0.4,
         "type": "scatter",
         "x": [
          0,
          1,
          2,
          3,
          4,
          5,
          6,
          7,
          8,
          9,
          10,
          11,
          12,
          13,
          14,
          15,
          16,
          17,
          18,
          19,
          20
         ],
         "y": [
          13.947363514197612,
          5.322179057024932,
          4.155280726036879,
          2.8272969593807784,
          3.2562555903420445,
          4.2545382438263974,
          3.3821308065076936,
          4.819242865668016,
          1.58014531029078,
          3.599060903715541,
          3.8213940256479026,
          4.023458803848426,
          5.066934233284866,
          2.2564756786704177,
          2.644759936873411,
          3.7734127137106013,
          5.494664963606711,
          3.437916577089228,
          2.946224170510197,
          1.9945338848261078,
          2.324145573868055
         ]
        },
        {
         "line": {
          "color": "gray",
          "width": 1.5
         },
         "marker": {
          "color": "gray",
          "size": 8,
          "symbol": "circle"
         },
         "mode": "markers+lines",
         "name": "Surname 30",
         "opacity": 0.4,
         "type": "scatter",
         "x": [
          0,
          1,
          2,
          3,
          4,
          5,
          6,
          7,
          8,
          9,
          10,
          11,
          12,
          13,
          14,
          15,
          16,
          17,
          18,
          19,
          20
         ],
         "y": [
          8.658375927599108,
          17.365461878693473,
          22.110263006010086,
          23.35282897905621,
          23.271891484073677,
          21.787268203157794,
          21.088587985529823,
          22.9931355550924,
          23.68314691056826,
          23.32999673624088,
          23.42431710740809,
          23.000014110751174,
          22.951480370067607,
          22.584144024052637,
          21.495919604444335,
          23.447927753126176,
          21.821698479928862,
          22.3311483941393,
          22.774324866181,
          22.103409896586925,
          21.753051348636873
         ]
        },
        {
         "line": {
          "color": "gray",
          "width": 1.5
         },
         "marker": {
          "color": "gray",
          "size": 8,
          "symbol": "circle"
         },
         "mode": "markers+lines",
         "name": "Surname 31",
         "opacity": 0.4,
         "type": "scatter",
         "x": [
          0,
          1,
          2,
          3,
          4,
          5,
          6,
          7,
          8,
          9,
          10,
          11,
          12,
          13,
          14,
          15,
          16,
          17,
          18,
          19,
          20
         ],
         "y": [
          10.704074585319564,
          7.7451871179922325,
          6.989300206756971,
          6.286413972067035,
          7.793998018819563,
          7.33691480901378,
          6.505271604208075,
          8.800380910771747,
          6.569801712909257,
          6.223143094035996,
          6.6135967016888175,
          6.475966759701371,
          7.739279483593577,
          6.768011959180392,
          8.372681270716152,
          7.596026648140279,
          6.228658325253836,
          6.619565590264324,
          6.294171897362391,
          6.068026239886871,
          3.999621879545497
         ]
        },
        {
         "line": {
          "color": "gray",
          "width": 1.5
         },
         "marker": {
          "color": "gray",
          "size": 8,
          "symbol": "circle"
         },
         "mode": "markers+lines",
         "name": "Surname 32",
         "opacity": 0.4,
         "type": "scatter",
         "x": [
          0,
          1,
          2,
          3,
          4,
          5,
          6,
          7,
          8,
          9,
          10,
          11,
          12,
          13,
          14,
          15,
          16,
          17,
          18,
          19,
          20
         ],
         "y": [
          9.10315093216045,
          6.559188414846657,
          6.82497811653011,
          6.244754531330087,
          5.359905011171894,
          5.083056301507293,
          5.372559443715301,
          6.391979268041023,
          6.604513834642461,
          7.417053406318514,
          7.7339630740887575,
          8.049962193588426,
          5.852184936632924,
          5.842422459141335,
          6.361378683524691,
          6.380903243675406,
          4.003770306835398,
          5.181136466044362,
          5.364801412557221,
          5.428248935632397,
          8.58931150462412
         ]
        },
        {
         "line": {
          "color": "gray",
          "width": 1.5
         },
         "marker": {
          "color": "gray",
          "size": 8,
          "symbol": "circle"
         },
         "mode": "markers+lines",
         "name": "Surname 33",
         "opacity": 0.4,
         "type": "scatter",
         "x": [
          0,
          1,
          2,
          3,
          4,
          5,
          6,
          7,
          8,
          9,
          10,
          11,
          12,
          13,
          14,
          15,
          16,
          17,
          18,
          19,
          20
         ],
         "y": [
          8.064468330040672,
          7.646380439508496,
          5.887853530316222,
          7.3617896972681995,
          7.461921172447467,
          8.341571968008136,
          8.597344184973672,
          6.111701892937304,
          6.686687574366954,
          7.300291080368572,
          6.939547498850471,
          6.674896647363916,
          5.065777090078122,
          5.459985121982368,
          5.742887564658785,
          5.940681283712394,
          5.789894123271427,
          6.785111048934965,
          6.45052771111739,
          8.152090054458581,
          7.608428942013637
         ]
        },
        {
         "line": {
          "color": "gray",
          "width": 1.5
         },
         "marker": {
          "color": "gray",
          "size": 8,
          "symbol": "circle"
         },
         "mode": "markers+lines",
         "name": "Surname 34",
         "opacity": 0.4,
         "type": "scatter",
         "x": [
          0,
          1,
          2,
          3,
          4,
          5,
          6,
          7,
          8,
          9,
          10,
          11,
          12,
          13,
          14,
          15,
          16,
          17,
          18,
          19,
          20
         ],
         "y": [
          7.649687992276833,
          3.7800849150463147,
          5.132163996092128,
          5.488243249501348,
          5.057133792732463,
          3.713369757673408,
          4.783257163814792,
          3.4452242602695513,
          4.456133372946453,
          2.153063941726046,
          4.3203822642191705,
          3.5407199042595705,
          2.9864208750736365,
          3.8786231994475506,
          5.247501603245727,
          2.770681114263342,
          3.4603296632929625,
          4.638055445343714,
          3.6662992512252695,
          3.979222204658168,
          3.244070621081923
         ]
        },
        {
         "line": {
          "color": "gray",
          "width": 1.5
         },
         "marker": {
          "color": "gray",
          "size": 8,
          "symbol": "circle"
         },
         "mode": "markers+lines",
         "name": "Surname 35",
         "opacity": 0.4,
         "type": "scatter",
         "x": [
          0,
          1,
          2,
          3,
          4,
          5,
          6,
          7,
          8,
          9,
          10,
          11,
          12,
          13,
          14,
          15,
          16,
          17,
          18,
          19,
          20
         ],
         "y": [
          11.143357359951331,
          5.493180549746531,
          3.039760039100886,
          3.3633933488782866,
          3.7859904105103923,
          4.018104905999093,
          3.051110605637039,
          4.767405080611691,
          4.574759494994005,
          2.61069437699211,
          3.380847589664581,
          4.201758965986076,
          4.45421858075547,
          2.890064114440607,
          3.709737029408494,
          3.341392979096614,
          2.2185988529165668,
          2.2873524438905872,
          2.4812393780687483,
          3.567899726528328,
          3.440277083470404
         ]
        },
        {
         "line": {
          "color": "gray",
          "width": 1.5
         },
         "marker": {
          "color": "gray",
          "size": 8,
          "symbol": "circle"
         },
         "mode": "markers+lines",
         "name": "Surname 36",
         "opacity": 0.4,
         "type": "scatter",
         "x": [
          0,
          1,
          2,
          3,
          4,
          5,
          6,
          7,
          8,
          9,
          10,
          11,
          12,
          13,
          14,
          15,
          16,
          17,
          18,
          19,
          20
         ],
         "y": [
          8.360794011082389,
          11.40755988582555,
          13.69579954822393,
          11.889858047223102,
          14.070017113835517,
          13.057993968187015,
          12.457389675446805,
          13.444600496158818,
          15.146295630752995,
          12.04468225572651,
          13.173955784043931,
          14.035952006914512,
          12.06468780149339,
          12.356621496014144,
          14.348721354997437,
          13.595485309481244,
          12.54536909476802,
          12.782680407010687,
          13.725495998830175,
          11.844012192205867,
          13.004859908276604
         ]
        },
        {
         "line": {
          "color": "gray",
          "width": 1.5
         },
         "marker": {
          "color": "gray",
          "size": 8,
          "symbol": "circle"
         },
         "mode": "markers+lines",
         "name": "Surname 37",
         "opacity": 0.4,
         "type": "scatter",
         "x": [
          0,
          1,
          2,
          3,
          4,
          5,
          6,
          7,
          8,
          9,
          10,
          11,
          12,
          13,
          14,
          15,
          16,
          17,
          18,
          19,
          20
         ],
         "y": [
          9.408055912086997,
          5.528047500927772,
          5.512228225223501,
          5.9463101148492985,
          6.312355233166922,
          6.531016882713273,
          6.27002706500252,
          7.541069632687218,
          5.992870237353437,
          6.801043120358077,
          5.451920756496017,
          5.095547358212441,
          5.318767024229766,
          7.1734479088460645,
          6.1100357079158,
          5.119149645525563,
          6.319071165694179,
          5.381234076858526,
          6.642090796673442,
          5.405564528924326,
          7.10641106061568
         ]
        },
        {
         "line": {
          "color": "gray",
          "width": 1.5
         },
         "marker": {
          "color": "gray",
          "size": 8,
          "symbol": "circle"
         },
         "mode": "markers+lines",
         "name": "Surname 38",
         "opacity": 0.4,
         "type": "scatter",
         "x": [
          0,
          1,
          2,
          3,
          4,
          5,
          6,
          7,
          8,
          9,
          10,
          11,
          12,
          13,
          14,
          15,
          16,
          17,
          18,
          19,
          20
         ],
         "y": [
          7.892710821096436,
          7.747098851935918,
          5.871813355436964,
          3.3916941095360196,
          4.857764208318697,
          4.800755573672848,
          5.180985169923723,
          5.373252796153816,
          6.040719463519252,
          6.332093154660887,
          4.759173227192216,
          6.009504997569507,
          6.466716044333793,
          6.0653283502604385,
          3.27179974805632,
          5.751092797535225,
          4.373926301115604,
          6.00490109150209,
          5.98626727984063,
          5.292616399639704,
          4.956942373450758
         ]
        },
        {
         "line": {
          "color": "gray",
          "width": 1.5
         },
         "marker": {
          "color": "gray",
          "size": 8,
          "symbol": "circle"
         },
         "mode": "markers+lines",
         "name": "Surname 39",
         "opacity": 0.4,
         "type": "scatter",
         "x": [
          0,
          1,
          2,
          3,
          4,
          5,
          6,
          7,
          8,
          9,
          10,
          11,
          12,
          13,
          14,
          15,
          16,
          17,
          18,
          19,
          20
         ],
         "y": [
          9.461004437096943,
          6.28001175590478,
          4.736326666877564,
          6.649838056062272,
          4.407392975803127,
          3.9741191631123414,
          3.5801997283966487,
          5.072697461521569,
          3.64927063985699,
          6.281226913754928,
          5.0208249404202245,
          5.931359957619789,
          4.973213752587198,
          7.3569709715066685,
          5.660120162448322,
          5.503204548235362,
          5.696467852027148,
          6.428001123190824,
          3.3959806825560936,
          5.652352624066857,
          6.029383308626578
         ]
        },
        {
         "line": {
          "color": "gray",
          "width": 1.5
         },
         "marker": {
          "color": "gray",
          "size": 8,
          "symbol": "circle"
         },
         "mode": "markers+lines",
         "name": "Surname 40",
         "opacity": 0.4,
         "type": "scatter",
         "x": [
          0,
          1,
          2,
          3,
          4,
          5,
          6,
          7,
          8,
          9,
          10,
          11,
          12,
          13,
          14,
          15,
          16,
          17,
          18,
          19,
          20
         ],
         "y": [
          11.936941554848158,
          9.828465249875926,
          6.823402325915215,
          7.788236573092718,
          6.124230850974781,
          5.911003742860939,
          6.9126287496012635,
          5.081680781680493,
          6.65239532332648,
          5.479189388209667,
          6.448157217538919,
          7.237705211161432,
          4.392735206576533,
          7.280703183719421,
          8.165286324164686,
          8.108439434285808,
          7.458908925392591,
          7.994776870334369,
          6.399738379863283,
          4.872926486016525,
          6.323934048372851
         ]
        },
        {
         "line": {
          "color": "gray",
          "width": 1.5
         },
         "marker": {
          "color": "gray",
          "size": 8,
          "symbol": "circle"
         },
         "mode": "markers+lines",
         "name": "Surname 41",
         "opacity": 0.4,
         "type": "scatter",
         "x": [
          0,
          1,
          2,
          3,
          4,
          5,
          6,
          7,
          8,
          9,
          10,
          11,
          12,
          13,
          14,
          15,
          16,
          17,
          18,
          19,
          20
         ],
         "y": [
          11.34516460329667,
          3.3181082438286604,
          3.0293026041411406,
          2.5745903225019395,
          2.4341975161802005,
          3.8644483083821237,
          2.5765425199145873,
          4.510557114416218,
          2.3683615079707714,
          2.511975825092569,
          5.175732174177053,
          2.3922981547661655,
          2.2361892396873064,
          5.270555739188625,
          2.6872584279842675,
          3.3794174675413777,
          4.743517758426156,
          4.198842027417229,
          3.699773555528678,
          3.135533195894851,
          3.021455002311588
         ]
        },
        {
         "line": {
          "color": "gray",
          "width": 1.5
         },
         "marker": {
          "color": "gray",
          "size": 8,
          "symbol": "circle"
         },
         "mode": "markers+lines",
         "name": "Surname 42",
         "opacity": 0.4,
         "type": "scatter",
         "x": [
          0,
          1,
          2,
          3,
          4,
          5,
          6,
          7,
          8,
          9,
          10,
          11,
          12,
          13,
          14,
          15,
          16,
          17,
          18,
          19,
          20
         ],
         "y": [
          8.74839151522341,
          4.104844207047417,
          1.6337860323742186,
          2.381365931338288,
          -1.0265676291904602,
          0.788050863907384,
          -0.9121722352552734,
          1.9481678222033496,
          1.7246888755397454,
          -0.2827473068696996,
          -0.4028142166210569,
          2.3623571494703564,
          0.5550746849331133,
          2.016723921979557,
          -0.07461829023442201,
          1.1970127857227086,
          -0.27687710492965445,
          1.2105755347969624,
          1.6978251855261375,
          1.7419470972347026,
          -1.2788105787022
         ]
        },
        {
         "line": {
          "color": "gray",
          "width": 1.5
         },
         "marker": {
          "color": "gray",
          "size": 8,
          "symbol": "circle"
         },
         "mode": "markers+lines",
         "name": "Surname 43",
         "opacity": 0.4,
         "type": "scatter",
         "x": [
          0,
          1,
          2,
          3,
          4,
          5,
          6,
          7,
          8,
          9,
          10,
          11,
          12,
          13,
          14,
          15,
          16,
          17,
          18,
          19,
          20
         ],
         "y": [
          11.442823140782567,
          10.316722653105248,
          9.545960403300978,
          8.362274566449438,
          8.240059303234244,
          8.671763923198338,
          9.512017074360559,
          10.857075742890592,
          8.18712736031378,
          8.334992131908274,
          10.531612374785,
          9.562304280041522,
          8.455630656875675,
          8.847240886453934,
          9.718239618393829,
          10.069802409915017,
          9.889989801814787,
          9.68013331460403,
          10.16175640515849,
          9.852162058513558,
          9.881381869447047
         ]
        },
        {
         "line": {
          "color": "gray",
          "width": 1.5
         },
         "marker": {
          "color": "gray",
          "size": 8,
          "symbol": "circle"
         },
         "mode": "markers+lines",
         "name": "Surname 44",
         "opacity": 0.4,
         "type": "scatter",
         "x": [
          0,
          1,
          2,
          3,
          4,
          5,
          6,
          7,
          8,
          9,
          10,
          11,
          12,
          13,
          14,
          15,
          16,
          17,
          18,
          19,
          20
         ],
         "y": [
          12.29055237351975,
          9.5132191886497,
          10.167725863835525,
          10.236273098198737,
          7.916056314025502,
          10.320724170803908,
          9.570109334951452,
          9.513594394144945,
          8.694566686548892,
          8.577930563486689,
          10.185446382364455,
          8.203318882607803,
          9.560867244670979,
          10.071195536433443,
          8.488120730963072,
          9.12519031595738,
          9.12488077308553,
          8.149825435619542,
          8.257787302455178,
          11.223110989324224,
          9.520165927178974
         ]
        },
        {
         "line": {
          "color": "gray",
          "width": 1.5
         },
         "marker": {
          "color": "gray",
          "size": 8,
          "symbol": "circle"
         },
         "mode": "markers+lines",
         "name": "Surname 45",
         "opacity": 0.4,
         "type": "scatter",
         "x": [
          0,
          1,
          2,
          3,
          4,
          5,
          6,
          7,
          8,
          9,
          10,
          11,
          12,
          13,
          14,
          15,
          16,
          17,
          18,
          19,
          20
         ],
         "y": [
          11.941145294808782,
          9.450799565468497,
          8.07625377188246,
          10.119661321589605,
          11.007061726115523,
          9.017046841896162,
          8.791636337375635,
          8.97279416779644,
          9.461802121873085,
          8.962993849626885,
          9.472082094786856,
          8.20713531551854,
          10.739408972987706,
          8.313278751129396,
          9.566972898515068,
          9.428378975966321,
          8.554960035591398,
          10.38645361296451,
          8.696535940123443,
          8.407299310584069,
          8.419278401408864
         ]
        },
        {
         "line": {
          "color": "gray",
          "width": 1.5
         },
         "marker": {
          "color": "gray",
          "size": 8,
          "symbol": "circle"
         },
         "mode": "markers+lines",
         "name": "Surname 46",
         "opacity": 0.4,
         "type": "scatter",
         "x": [
          0,
          1,
          2,
          3,
          4,
          5,
          6,
          7,
          8,
          9,
          10,
          11,
          12,
          13,
          14,
          15,
          16,
          17,
          18,
          19,
          20
         ],
         "y": [
          10.34423523105578,
          8.520236709172135,
          8.903892886303602,
          8.830820298157247,
          8.232409947207106,
          7.745802985485332,
          7.217081198037194,
          7.518212526243142,
          8.020283503763743,
          8.517480368632343,
          7.1210728931916085,
          9.010463816419543,
          7.952377894982617,
          7.397698201152837,
          7.8536839166308,
          7.57655615547761,
          9.035530416061418,
          7.8089428904117515,
          7.895218147940026,
          7.220183223197142,
          7.535626947075293
         ]
        },
        {
         "line": {
          "color": "gray",
          "width": 1.5
         },
         "marker": {
          "color": "gray",
          "size": 8,
          "symbol": "circle"
         },
         "mode": "markers+lines",
         "name": "Surname 47",
         "opacity": 0.4,
         "type": "scatter",
         "x": [
          0,
          1,
          2,
          3,
          4,
          5,
          6,
          7,
          8,
          9,
          10,
          11,
          12,
          13,
          14,
          15,
          16,
          17,
          18,
          19,
          20
         ],
         "y": [
          12.714128661214755,
          8.494228472842147,
          7.829046889865993,
          6.633045088669738,
          6.935268237251351,
          6.921083041272372,
          7.310314724161223,
          6.556319345181484,
          5.5525001834872985,
          7.576595660384996,
          6.4595718233259545,
          4.952747086736511,
          5.2058979845480415,
          6.318149691960917,
          9.294580013664634,
          6.209744710220289,
          7.273309418355631,
          7.390492750766867,
          6.592629465158038,
          6.559158364653412,
          5.336302847980079
         ]
        },
        {
         "line": {
          "color": "gray",
          "width": 1.5
         },
         "marker": {
          "color": "gray",
          "size": 8,
          "symbol": "circle"
         },
         "mode": "markers+lines",
         "name": "Surname 48",
         "opacity": 0.4,
         "type": "scatter",
         "x": [
          0,
          1,
          2,
          3,
          4,
          5,
          6,
          7,
          8,
          9,
          10,
          11,
          12,
          13,
          14,
          15,
          16,
          17,
          18,
          19,
          20
         ],
         "y": [
          10.768708192895637,
          -0.9698232535912971,
          -1.5931264681174842,
          -4.32635605687744,
          -4.926472068232737,
          -4.624261703237496,
          -3.251343408616249,
          -5.477102908126902,
          -4.654709606180821,
          -4.937407367263431,
          -4.937618627621758,
          -4.23632931641413,
          -5.251265251063545,
          -4.59679299392923,
          -5.509397956924139,
          -6.704060936663978,
          -5.583233519974208,
          -3.3461021065153362,
          -4.912623981231746,
          -6.739387957670419,
          -4.325639534773342
         ]
        },
        {
         "line": {
          "color": "gray",
          "width": 1.5
         },
         "marker": {
          "color": "gray",
          "size": 8,
          "symbol": "circle"
         },
         "mode": "markers+lines",
         "name": "Surname 49",
         "opacity": 0.4,
         "type": "scatter",
         "x": [
          0,
          1,
          2,
          3,
          4,
          5,
          6,
          7,
          8,
          9,
          10,
          11,
          12,
          13,
          14,
          15,
          16,
          17,
          18,
          19,
          20
         ],
         "y": [
          11.5723718444508,
          5.92795250186245,
          0.888052853457661,
          2.500713193054055,
          2.9979715798026083,
          2.456900158443292,
          2.8643084722359076,
          -0.4867618857339939,
          1.5641964920534837,
          1.539731318621424,
          1.6510836384026994,
          2.2922611638769705,
          1.632077841369949,
          0.6713389472074476,
          1.731498475882543,
          2.3772616934235087,
          2.0113188423229187,
          5.101545141119616,
          2.763884041017362,
          0.9522252817776682,
          3.3999360705894084
         ]
        },
        {
         "line": {
          "color": "salmon",
          "width": 1.5
         },
         "marker": {
          "color": "salmon",
          "size": 8,
          "symbol": "x"
         },
         "mode": "markers+lines",
         "name": "Surname 50",
         "opacity": 0.4,
         "type": "scatter",
         "x": [
          0,
          1,
          2,
          3,
          4,
          5,
          6,
          7,
          8,
          9,
          10,
          11,
          12,
          13,
          14,
          15,
          16,
          17,
          18,
          19,
          20
         ],
         "y": [
          -10.425983036982364,
          -1.7870634193741048,
          4.064293464462737,
          2.1679607677114783,
          2.4952688241209073,
          5.138144043925346,
          4.456886663872502,
          1.5322973644418347,
          3.8713293443381573,
          3.2615031317922547,
          1.9673567911207481,
          4.491394030511464,
          4.18072123529422,
          2.688110420154523,
          4.888050760195865,
          2.127805900968257,
          1.7381671226789124,
          2.873249076416971,
          3.418510409925816,
          2.83730393382638,
          2.0261382876660745
         ]
        },
        {
         "line": {
          "color": "salmon",
          "width": 1.5
         },
         "marker": {
          "color": "salmon",
          "size": 8,
          "symbol": "x"
         },
         "mode": "markers+lines",
         "name": "Surname 51",
         "opacity": 0.4,
         "type": "scatter",
         "x": [
          0,
          1,
          2,
          3,
          4,
          5,
          6,
          7,
          8,
          9,
          10,
          11,
          12,
          13,
          14,
          15,
          16,
          17,
          18,
          19,
          20
         ],
         "y": [
          -10.362337374013416,
          1.552685176231261,
          3.6405754116033058,
          5.052354159114918,
          6.028625370870164,
          6.67072546248444,
          8.025754884381225,
          6.908033209755072,
          5.417237509938748,
          6.482714638832054,
          6.975648810536292,
          7.233835658431697,
          7.844829467533133,
          6.676673349664614,
          6.010261127219283,
          7.741804533004961,
          6.67986907088471,
          6.378369503494725,
          6.523040784741238,
          6.75061873389159,
          5.61845851033727
         ]
        },
        {
         "line": {
          "color": "salmon",
          "width": 1.5
         },
         "marker": {
          "color": "salmon",
          "size": 8,
          "symbol": "x"
         },
         "mode": "markers+lines",
         "name": "Surname 52",
         "opacity": 0.4,
         "type": "scatter",
         "x": [
          0,
          1,
          2,
          3,
          4,
          5,
          6,
          7,
          8,
          9,
          10,
          11,
          12,
          13,
          14,
          15,
          16,
          17,
          18,
          19,
          20
         ],
         "y": [
          -10.089794677905873,
          -0.5264434257015025,
          1.2430714047042777,
          0.657615824324884,
          1.9327043802594588,
          1.0139747456116843,
          2.3199015068460107,
          -0.9545480326643332,
          1.5032128490250607,
          0.931192627460641,
          0.6714738827870483,
          2.345258882443238,
          0.41999997562322733,
          2.5574666818779406,
          2.3781459015581072,
          1.3829551777690288,
          2.0297088493171636,
          2.842050234024082,
          0.945011241846782,
          2.278474482842079,
          1.6693014119173555
         ]
        },
        {
         "line": {
          "color": "salmon",
          "width": 1.5
         },
         "marker": {
          "color": "salmon",
          "size": 8,
          "symbol": "x"
         },
         "mode": "markers+lines",
         "name": "Surname 53",
         "opacity": 0.4,
         "type": "scatter",
         "x": [
          0,
          1,
          2,
          3,
          4,
          5,
          6,
          7,
          8,
          9,
          10,
          11,
          12,
          13,
          14,
          15,
          16,
          17,
          18,
          19,
          20
         ],
         "y": [
          -12.716370066810065,
          3.1000834328974234,
          11.810509929570427,
          12.968384787122567,
          13.047730353254224,
          11.96320847498363,
          13.763667827914606,
          14.611593832353533,
          15.429863652733143,
          14.116085265426968,
          13.093460313396939,
          15.606313238201665,
          13.900618187114015,
          12.631200351430158,
          14.154616318103777,
          13.360313935907861,
          13.518196791864389,
          13.060325165412117,
          14.451023209082564,
          14.052843033640007,
          14.55640242250012
         ]
        },
        {
         "line": {
          "color": "salmon",
          "width": 1.5
         },
         "marker": {
          "color": "salmon",
          "size": 8,
          "symbol": "x"
         },
         "mode": "markers+lines",
         "name": "Surname 54",
         "opacity": 0.4,
         "type": "scatter",
         "x": [
          0,
          1,
          2,
          3,
          4,
          5,
          6,
          7,
          8,
          9,
          10,
          11,
          12,
          13,
          14,
          15,
          16,
          17,
          18,
          19,
          20
         ],
         "y": [
          -11.991529526061619,
          -5.062751874996207,
          -0.6387359771833503,
          -0.8392811321083644,
          -4.033800045765292,
          -4.213576089521029,
          -4.04267082722282,
          -2.4146630222009544,
          -3.904912547478019,
          -3.6764004213160026,
          -4.252840918909012,
          -2.358480741915874,
          -2.7705896401047894,
          -3.1519208256740914,
          -2.4854237227877922,
          -3.3902748257369275,
          -2.352157535311426,
          -3.238861846533546,
          -1.8252772674182252,
          -2.2054872556076366,
          -3.2918314934055823
         ]
        },
        {
         "line": {
          "color": "salmon",
          "width": 1.5
         },
         "marker": {
          "color": "salmon",
          "size": 8,
          "symbol": "x"
         },
         "mode": "markers+lines",
         "name": "Surname 55",
         "opacity": 0.4,
         "type": "scatter",
         "x": [
          0,
          1,
          2,
          3,
          4,
          5,
          6,
          7,
          8,
          9,
          10,
          11,
          12,
          13,
          14,
          15,
          16,
          17,
          18,
          19,
          20
         ],
         "y": [
          -14.621072134388406,
          0.546935393530031,
          4.405185986045284,
          5.637825117580265,
          6.571597853112825,
          7.627752042620788,
          7.774316087410806,
          8.704567692836532,
          7.004371619706271,
          6.433514094550978,
          9.267583186737047,
          6.308049831515866,
          9.180438171919992,
          7.084853157551166,
          6.692736244369901,
          6.763675362018224,
          7.444447940208319,
          6.088675997114345,
          8.323140266676402,
          7.154088468902018,
          6.577914604947766
         ]
        },
        {
         "line": {
          "color": "salmon",
          "width": 1.5
         },
         "marker": {
          "color": "salmon",
          "size": 8,
          "symbol": "x"
         },
         "mode": "markers+lines",
         "name": "Surname 56",
         "opacity": 0.4,
         "type": "scatter",
         "x": [
          0,
          1,
          2,
          3,
          4,
          5,
          6,
          7,
          8,
          9,
          10,
          11,
          12,
          13,
          14,
          15,
          16,
          17,
          18,
          19,
          20
         ],
         "y": [
          -6.298782158595764,
          -1.360939952038475,
          1.153416239606293,
          1.6446440672600895,
          1.6311737318510342,
          -0.20484401506910754,
          1.865445826196638,
          -0.30497520413688173,
          1.1839062381715462,
          0.2852131044813247,
          0.42415753158628955,
          2.171621173593339,
          1.7845449161010756,
          0.7364570349455823,
          -1.594044328048379,
          -1.0315745088110433,
          1.5244273025429385,
          2.2471518548155047,
          0.62645390728179,
          0.3341728885734645,
          -0.9627059097994097
         ]
        },
        {
         "line": {
          "color": "salmon",
          "width": 1.5
         },
         "marker": {
          "color": "salmon",
          "size": 8,
          "symbol": "x"
         },
         "mode": "markers+lines",
         "name": "Surname 57",
         "opacity": 0.4,
         "type": "scatter",
         "x": [
          0,
          1,
          2,
          3,
          4,
          5,
          6,
          7,
          8,
          9,
          10,
          11,
          12,
          13,
          14,
          15,
          16,
          17,
          18,
          19,
          20
         ],
         "y": [
          -11.070342859142622,
          -3.0849854410422495,
          -1.711987027475039,
          -0.5489522783307238,
          1.3986220781765644,
          -1.225885105029989,
          -0.36582820623338325,
          0.18217850425542453,
          0.7146952127937751,
          0.8787287384418545,
          -0.9241394533696032,
          -0.32385029158618084,
          -0.1917192898283954,
          0.9820478953598244,
          -0.5677245742516204,
          -1.0310450071486938,
          0.32349403042321395,
          -1.2266147748598588,
          0.7213963797709299,
          -1.1298144985820189,
          0.9909967673138643
         ]
        },
        {
         "line": {
          "color": "salmon",
          "width": 1.5
         },
         "marker": {
          "color": "salmon",
          "size": 8,
          "symbol": "x"
         },
         "mode": "markers+lines",
         "name": "Surname 58",
         "opacity": 0.4,
         "type": "scatter",
         "x": [
          0,
          1,
          2,
          3,
          4,
          5,
          6,
          7,
          8,
          9,
          10,
          11,
          12,
          13,
          14,
          15,
          16,
          17,
          18,
          19,
          20
         ],
         "y": [
          -5.612322689402573,
          -1.3587054723082805,
          0.7394584939607037,
          2.1835722114871383,
          0.7076660132660922,
          1.8140964801777035,
          2.17688685880644,
          1.1910934273834402,
          0.3480493045183223,
          1.203432775313697,
          0.7545267936338704,
          1.86617467686857,
          0.7539579459312883,
          1.613485883196791,
          2.945578753864929,
          -0.3187050368924069,
          0.3723215674088165,
          2.49912960666191,
          1.1330099121780854,
          0.14562246750132202,
          1.588190079451568
         ]
        },
        {
         "line": {
          "color": "salmon",
          "width": 1.5
         },
         "marker": {
          "color": "salmon",
          "size": 8,
          "symbol": "x"
         },
         "mode": "markers+lines",
         "name": "Surname 59",
         "opacity": 0.4,
         "type": "scatter",
         "x": [
          0,
          1,
          2,
          3,
          4,
          5,
          6,
          7,
          8,
          9,
          10,
          11,
          12,
          13,
          14,
          15,
          16,
          17,
          18,
          19,
          20
         ],
         "y": [
          -9.372248972093939,
          -0.6280912113609445,
          3.876785954721829,
          3.6473742664125246,
          4.395138657537783,
          2.3951294551654927,
          4.093088226575719,
          3.0219295132126156,
          5.226359687524722,
          3.393455343737437,
          3.289746817409269,
          5.025284605476222,
          4.024029355389248,
          3.400655778072123,
          3.6740784641276987,
          2.6651791812051036,
          3.7221195160570173,
          3.4499353144368117,
          3.4131375003204387,
          4.585352947104928,
          4.384260687862199
         ]
        },
        {
         "line": {
          "color": "salmon",
          "width": 1.5
         },
         "marker": {
          "color": "salmon",
          "size": 8,
          "symbol": "x"
         },
         "mode": "markers+lines",
         "name": "Surname 60",
         "opacity": 0.4,
         "type": "scatter",
         "x": [
          0,
          1,
          2,
          3,
          4,
          5,
          6,
          7,
          8,
          9,
          10,
          11,
          12,
          13,
          14,
          15,
          16,
          17,
          18,
          19,
          20
         ],
         "y": [
          -9.664710543414877,
          0.3804088425214929,
          1.299328752273646,
          3.0795447101137667,
          4.492219271691813,
          3.2389451569647445,
          3.81730312871792,
          3.3453779187365424,
          2.0179123292952417,
          1.5010484982366528,
          2.8616525201289145,
          3.3431474657355778,
          3.560407963144766,
          5.598118517319741,
          2.939258820880073,
          2.386142762746621,
          4.436098985161814,
          2.446824363594504,
          3.4326026825903924,
          2.8433678698659155,
          3.6355778301248893
         ]
        },
        {
         "line": {
          "color": "salmon",
          "width": 1.5
         },
         "marker": {
          "color": "salmon",
          "size": 8,
          "symbol": "x"
         },
         "mode": "markers+lines",
         "name": "Surname 61",
         "opacity": 0.4,
         "type": "scatter",
         "x": [
          0,
          1,
          2,
          3,
          4,
          5,
          6,
          7,
          8,
          9,
          10,
          11,
          12,
          13,
          14,
          15,
          16,
          17,
          18,
          19,
          20
         ],
         "y": [
          -12.244779011286429,
          2.641796390355521,
          7.070394808423272,
          8.53079400230236,
          10.037050434220882,
          9.461900277087524,
          9.332285242228254,
          9.2846213285909,
          9.62943316324428,
          10.182997436029776,
          10.02758085463071,
          8.394442270854116,
          10.359745601181865,
          8.153667388103642,
          8.515073551310978,
          10.808157516711173,
          9.708460816477844,
          9.934110670804879,
          8.678558343903262,
          9.442355306853873,
          9.230504726225883
         ]
        },
        {
         "line": {
          "color": "salmon",
          "width": 1.5
         },
         "marker": {
          "color": "salmon",
          "size": 8,
          "symbol": "x"
         },
         "mode": "markers+lines",
         "name": "Surname 62",
         "opacity": 0.4,
         "type": "scatter",
         "x": [
          0,
          1,
          2,
          3,
          4,
          5,
          6,
          7,
          8,
          9,
          10,
          11,
          12,
          13,
          14,
          15,
          16,
          17,
          18,
          19,
          20
         ],
         "y": [
          -6.601881938486349,
          3.6173167573927913,
          4.1362427886920035,
          5.688447517343832,
          5.879046915425469,
          5.0026937380672205,
          6.228471913344477,
          6.773033649273619,
          4.408626881648572,
          5.538316159135512,
          9.34537952812038,
          4.672670789990857,
          3.9311139620981876,
          4.937628585355418,
          6.477407284297424,
          6.42556729182051,
          5.536429029380031,
          5.275759184126559,
          6.023332874426018,
          6.49603474193567,
          7.508953577484705
         ]
        },
        {
         "line": {
          "color": "salmon",
          "width": 1.5
         },
         "marker": {
          "color": "salmon",
          "size": 8,
          "symbol": "x"
         },
         "mode": "markers+lines",
         "name": "Surname 63",
         "opacity": 0.4,
         "type": "scatter",
         "x": [
          0,
          1,
          2,
          3,
          4,
          5,
          6,
          7,
          8,
          9,
          10,
          11,
          12,
          13,
          14,
          15,
          16,
          17,
          18,
          19,
          20
         ],
         "y": [
          -9.826856396148063,
          0.7545793748038969,
          3.7695723058954194,
          3.688719329840369,
          5.234361885996167,
          4.839402191742492,
          5.588442373430534,
          3.044423492483351,
          6.596192861821841,
          3.5561489600823815,
          5.292206892172563,
          4.170230197184715,
          3.7995605651121895,
          3.98955737615905,
          4.9180561084982735,
          5.342071325880185,
          4.471056775923884,
          5.895351051303246,
          4.628662125248104,
          5.035357730676402,
          4.624784386233132
         ]
        },
        {
         "line": {
          "color": "salmon",
          "width": 1.5
         },
         "marker": {
          "color": "salmon",
          "size": 8,
          "symbol": "x"
         },
         "mode": "markers+lines",
         "name": "Surname 64",
         "opacity": 0.4,
         "type": "scatter",
         "x": [
          0,
          1,
          2,
          3,
          4,
          5,
          6,
          7,
          8,
          9,
          10,
          11,
          12,
          13,
          14,
          15,
          16,
          17,
          18,
          19,
          20
         ],
         "y": [
          -4.562863214813667,
          6.0209311920911945,
          9.650732725228112,
          8.97370729069182,
          8.047291982267618,
          8.843983234314875,
          7.882969461215177,
          11.858611971245006,
          9.447428451853055,
          9.21994913078334,
          8.994947307253154,
          10.529189412022644,
          9.142290445419748,
          10.620861683768311,
          9.607794415984634,
          10.023063713942117,
          8.764489172630325,
          9.84471991165833,
          10.853096797694308,
          9.518688033572296,
          9.52436506612126
         ]
        },
        {
         "line": {
          "color": "salmon",
          "width": 1.5
         },
         "marker": {
          "color": "salmon",
          "size": 8,
          "symbol": "x"
         },
         "mode": "markers+lines",
         "name": "Surname 65",
         "opacity": 0.4,
         "type": "scatter",
         "x": [
          0,
          1,
          2,
          3,
          4,
          5,
          6,
          7,
          8,
          9,
          10,
          11,
          12,
          13,
          14,
          15,
          16,
          17,
          18,
          19,
          20
         ],
         "y": [
          -11.522905462333377,
          -1.1214874145793163,
          0.330086706553977,
          3.0395152145887083,
          0.21677798665414105,
          -0.09601742270072089,
          2.471135972686787,
          2.6392890484008333,
          3.4051565686331173,
          2.755601777905903,
          1.3744380623088215,
          1.39709992640268,
          0.21182340069303107,
          2.765135747121744,
          2.5537554188623113,
          3.447367794619084,
          1.4008992086131642,
          2.5123317981272786,
          2.923000097348825,
          1.7900138919072581,
          2.4712904822065753
         ]
        },
        {
         "line": {
          "color": "salmon",
          "width": 1.5
         },
         "marker": {
          "color": "salmon",
          "size": 8,
          "symbol": "x"
         },
         "mode": "markers+lines",
         "name": "Surname 66",
         "opacity": 0.4,
         "type": "scatter",
         "x": [
          0,
          1,
          2,
          3,
          4,
          5,
          6,
          7,
          8,
          9,
          10,
          11,
          12,
          13,
          14,
          15,
          16,
          17,
          18,
          19,
          20
         ],
         "y": [
          -8.969819310318536,
          7.999837357012382,
          12.642386588540937,
          13.794680859196864,
          12.605792279501511,
          14.512317759691069,
          16.265997244484897,
          14.43657579776198,
          12.945226167080705,
          15.599131075127442,
          15.189529276197208,
          14.851711852381786,
          15.346826152171571,
          15.618613737117675,
          12.659487661976035,
          13.648214143890524,
          14.784926900071662,
          13.97549669161353,
          12.91960219686623,
          13.908076663971869,
          14.682445945927363
         ]
        },
        {
         "line": {
          "color": "salmon",
          "width": 1.5
         },
         "marker": {
          "color": "salmon",
          "size": 8,
          "symbol": "x"
         },
         "mode": "markers+lines",
         "name": "Surname 67",
         "opacity": 0.4,
         "type": "scatter",
         "x": [
          0,
          1,
          2,
          3,
          4,
          5,
          6,
          7,
          8,
          9,
          10,
          11,
          12,
          13,
          14,
          15,
          16,
          17,
          18,
          19,
          20
         ],
         "y": [
          -9.985654084641189,
          7.019157369298113,
          11.725963817750156,
          12.398024437664507,
          13.313395391991314,
          13.340642867498783,
          15.9730827282156,
          14.615241384012771,
          13.766132288140032,
          14.901807321807398,
          13.625873120889146,
          12.99970842104154,
          12.9272104744264,
          13.252594407942905,
          13.949749452985143,
          13.23291817683802,
          12.718745290913537,
          13.426406404457627,
          13.252945436772404,
          15.205761045817274,
          14.773897327272445
         ]
        },
        {
         "line": {
          "color": "salmon",
          "width": 1.5
         },
         "marker": {
          "color": "salmon",
          "size": 8,
          "symbol": "x"
         },
         "mode": "markers+lines",
         "name": "Surname 68",
         "opacity": 0.4,
         "type": "scatter",
         "x": [
          0,
          1,
          2,
          3,
          4,
          5,
          6,
          7,
          8,
          9,
          10,
          11,
          12,
          13,
          14,
          15,
          16,
          17,
          18,
          19,
          20
         ],
         "y": [
          -13.317748497634659,
          -1.051903547214019,
          2.5661346262739384,
          4.1365676986234305,
          2.5954705016174775,
          3.3652197468347476,
          2.2459146564523533,
          2.9791017976762997,
          4.778879364338989,
          2.8185939871193595,
          2.9587837492588442,
          3.008112968483936,
          2.7683292979634597,
          1.652435349664573,
          0.38737211965504637,
          3.01548112041197,
          3.2775030137667476,
          1.8686437486778802,
          0.3575843663616638,
          3.568525595468561,
          2.4283386290108018
         ]
        },
        {
         "line": {
          "color": "salmon",
          "width": 1.5
         },
         "marker": {
          "color": "salmon",
          "size": 8,
          "symbol": "x"
         },
         "mode": "markers+lines",
         "name": "Surname 69",
         "opacity": 0.4,
         "type": "scatter",
         "x": [
          0,
          1,
          2,
          3,
          4,
          5,
          6,
          7,
          8,
          9,
          10,
          11,
          12,
          13,
          14,
          15,
          16,
          17,
          18,
          19,
          20
         ],
         "y": [
          -8.706196139385883,
          -5.039595819356018,
          -1.9604480328874019,
          -2.6765672734409263,
          -1.1751889052305413,
          -2.6439620698850193,
          -1.8856998011129458,
          -2.5059123608600276,
          -1.300650095647655,
          -2.3665238173049,
          -1.5679599269430202,
          -2.632775137214393,
          -0.5643062723257577,
          -1.778773390066223,
          -3.18435270243409,
          -1.6945090037890571,
          -1.0780172872384597,
          -1.1992618337476966,
          -1.5771561565347707,
          -2.7967300418777015,
          -1.4826976917418342
         ]
        },
        {
         "line": {
          "color": "salmon",
          "width": 1.5
         },
         "marker": {
          "color": "salmon",
          "size": 8,
          "symbol": "x"
         },
         "mode": "markers+lines",
         "name": "Surname 70",
         "opacity": 0.4,
         "type": "scatter",
         "x": [
          0,
          1,
          2,
          3,
          4,
          5,
          6,
          7,
          8,
          9,
          10,
          11,
          12,
          13,
          14,
          15,
          16,
          17,
          18,
          19,
          20
         ],
         "y": [
          -12.495117557242311,
          1.930370476954353,
          7.259978714798136,
          8.407940743938058,
          9.48949784567484,
          9.11180585946242,
          9.656540152442123,
          9.484532127035806,
          10.508306041659122,
          10.402014515770544,
          11.22536334560538,
          10.641321311252918,
          7.5746340842477045,
          9.535556951567349,
          10.12459472496996,
          10.794193760826262,
          9.573481213354626,
          11.530606122734993,
          6.898034058239817,
          10.836096511878585,
          8.282934849359732
         ]
        },
        {
         "line": {
          "color": "salmon",
          "width": 1.5
         },
         "marker": {
          "color": "salmon",
          "size": 8,
          "symbol": "x"
         },
         "mode": "markers+lines",
         "name": "Surname 71",
         "opacity": 0.4,
         "type": "scatter",
         "x": [
          0,
          1,
          2,
          3,
          4,
          5,
          6,
          7,
          8,
          9,
          10,
          11,
          12,
          13,
          14,
          15,
          16,
          17,
          18,
          19,
          20
         ],
         "y": [
          -9.339588589956598,
          6.163441693149315,
          9.749493505089049,
          12.652719843003421,
          12.285963144709715,
          12.027855101578842,
          13.114007204772848,
          11.282511450230503,
          13.223230583700937,
          12.439549055850176,
          12.058413386667315,
          12.203475357172758,
          12.750123180737727,
          13.800749770102565,
          13.833362697849301,
          13.045230334468547,
          13.034664446838848,
          11.334504455259669,
          14.306327172339245,
          11.352622737914029,
          13.562461077059636
         ]
        },
        {
         "line": {
          "color": "salmon",
          "width": 1.5
         },
         "marker": {
          "color": "salmon",
          "size": 8,
          "symbol": "x"
         },
         "mode": "markers+lines",
         "name": "Surname 72",
         "opacity": 0.4,
         "type": "scatter",
         "x": [
          0,
          1,
          2,
          3,
          4,
          5,
          6,
          7,
          8,
          9,
          10,
          11,
          12,
          13,
          14,
          15,
          16,
          17,
          18,
          19,
          20
         ],
         "y": [
          -8.773800849185074,
          -2.9900817933621253,
          3.65099948107013,
          1.7736180322451505,
          3.8047370923284634,
          4.181463494996357,
          4.569042413149433,
          3.3962880466250525,
          4.5061017074865575,
          1.3834704112431502,
          4.895579912646166,
          5.2639077682532545,
          3.4488636016124508,
          4.311755067886045,
          3.897098288013067,
          2.7269599776203677,
          3.437351502044123,
          3.0603360706145097,
          3.1893518203965896,
          4.874376323483459,
          3.2320434034854473
         ]
        },
        {
         "line": {
          "color": "salmon",
          "width": 1.5
         },
         "marker": {
          "color": "salmon",
          "size": 8,
          "symbol": "x"
         },
         "mode": "markers+lines",
         "name": "Surname 73",
         "opacity": 0.4,
         "type": "scatter",
         "x": [
          0,
          1,
          2,
          3,
          4,
          5,
          6,
          7,
          8,
          9,
          10,
          11,
          12,
          13,
          14,
          15,
          16,
          17,
          18,
          19,
          20
         ],
         "y": [
          -10.801952538931094,
          -4.614437594747768,
          -2.7641324548400137,
          -2.8509748531632746,
          -1.2785897114771063,
          -4.039643653874284,
          -2.8403476221300035,
          -2.804654812745183,
          -3.20007788693617,
          0.012734229745489767,
          -3.87552983988086,
          -2.68138758713655,
          -1.2441079398885202,
          -2.5181256807640087,
          -1.9608653361163706,
          -2.7631039713819407,
          -1.471877069179838,
          -2.2552536992700145,
          -2.264914822358311,
          -3.4201580288346616,
          -0.7130723160040973
         ]
        },
        {
         "line": {
          "color": "salmon",
          "width": 1.5
         },
         "marker": {
          "color": "salmon",
          "size": 8,
          "symbol": "x"
         },
         "mode": "markers+lines",
         "name": "Surname 74",
         "opacity": 0.4,
         "type": "scatter",
         "x": [
          0,
          1,
          2,
          3,
          4,
          5,
          6,
          7,
          8,
          9,
          10,
          11,
          12,
          13,
          14,
          15,
          16,
          17,
          18,
          19,
          20
         ],
         "y": [
          -14.533180607675154,
          1.4072932414552546,
          2.2805355343642795,
          5.479883546010344,
          3.800422751408415,
          5.513510537587664,
          2.551665584245572,
          4.5880529414752464,
          5.029792078590119,
          5.096579046905521,
          5.032907845360655,
          7.237053396385178,
          6.377409338690577,
          5.865191829947543,
          5.257464064603626,
          6.054697724937584,
          5.389605908328345,
          5.613284114878869,
          5.0278113965918365,
          4.113649089293845,
          5.6341152666801335
         ]
        },
        {
         "line": {
          "color": "salmon",
          "width": 1.5
         },
         "marker": {
          "color": "salmon",
          "size": 8,
          "symbol": "x"
         },
         "mode": "markers+lines",
         "name": "Surname 75",
         "opacity": 0.4,
         "type": "scatter",
         "x": [
          0,
          1,
          2,
          3,
          4,
          5,
          6,
          7,
          8,
          9,
          10,
          11,
          12,
          13,
          14,
          15,
          16,
          17,
          18,
          19,
          20
         ],
         "y": [
          -8.415446074743818,
          -0.297098758962295,
          0.7833339846175678,
          3.9882106650663385,
          3.118223776693099,
          4.973385275842771,
          3.0782679592541653,
          3.8116849021423556,
          3.550844547641577,
          4.12372830471038,
          4.545438198637127,
          4.455980805883255,
          2.8344725921689706,
          4.341771115824657,
          3.193012267853166,
          4.0914011378081225,
          5.596623523477925,
          3.212545921327451,
          3.996423749511516,
          3.0702394117168565,
          3.4180880345727966
         ]
        },
        {
         "line": {
          "color": "salmon",
          "width": 1.5
         },
         "marker": {
          "color": "salmon",
          "size": 8,
          "symbol": "x"
         },
         "mode": "markers+lines",
         "name": "Surname 76",
         "opacity": 0.4,
         "type": "scatter",
         "x": [
          0,
          1,
          2,
          3,
          4,
          5,
          6,
          7,
          8,
          9,
          10,
          11,
          12,
          13,
          14,
          15,
          16,
          17,
          18,
          19,
          20
         ],
         "y": [
          -7.807352859992485,
          1.571356691334318,
          4.310984589856132,
          7.276857284415383,
          7.695756679303053,
          7.315915421774764,
          7.385998664772758,
          6.221639943780331,
          7.76220215978456,
          7.607084438412719,
          7.231921105289061,
          7.476440251340595,
          8.359414703630323,
          7.466578208363624,
          6.488118815829683,
          6.792872250975676,
          5.1248545086700705,
          8.593985243356922,
          7.8502468686492985,
          8.359563513572626,
          6.897866167146393
         ]
        },
        {
         "line": {
          "color": "salmon",
          "width": 1.5
         },
         "marker": {
          "color": "salmon",
          "size": 8,
          "symbol": "x"
         },
         "mode": "markers+lines",
         "name": "Surname 77",
         "opacity": 0.4,
         "type": "scatter",
         "x": [
          0,
          1,
          2,
          3,
          4,
          5,
          6,
          7,
          8,
          9,
          10,
          11,
          12,
          13,
          14,
          15,
          16,
          17,
          18,
          19,
          20
         ],
         "y": [
          -10.135757258577497,
          5.143537292527268,
          7.930392351967761,
          9.196768641120563,
          10.049790406975898,
          10.531966064958842,
          7.591061189598312,
          7.46626730619894,
          10.830118101547589,
          7.38043581095039,
          8.990763348603027,
          10.111215331895202,
          8.325298400653224,
          10.020703274259589,
          8.900815726236962,
          9.16420451882076,
          9.018151791957754,
          11.771658477966765,
          9.074646493386922,
          6.751784647123374,
          10.004699642492
         ]
        },
        {
         "line": {
          "color": "salmon",
          "width": 1.5
         },
         "marker": {
          "color": "salmon",
          "size": 8,
          "symbol": "x"
         },
         "mode": "markers+lines",
         "name": "Surname 78",
         "opacity": 0.4,
         "type": "scatter",
         "x": [
          0,
          1,
          2,
          3,
          4,
          5,
          6,
          7,
          8,
          9,
          10,
          11,
          12,
          13,
          14,
          15,
          16,
          17,
          18,
          19,
          20
         ],
         "y": [
          -9.657504159762716,
          -1.8577093823447737,
          -0.9708197785508699,
          -1.0413313416373113,
          -1.569811865978401,
          -2.8223070155401837,
          -0.6436909949724517,
          -0.6598244849336345,
          -1.6768545077024994,
          -3.7150699438179617,
          -1.6411339636946836,
          -1.1499189326566555,
          -1.8283772439298824,
          -1.8742931255937088,
          -1.3816411602154728,
          -0.4008074915470876,
          -0.5622199125073734,
          -1.444142014043452,
          -1.1577994127127778,
          -1.3443049264258866,
          -0.5362598980753321
         ]
        },
        {
         "line": {
          "color": "salmon",
          "width": 1.5
         },
         "marker": {
          "color": "salmon",
          "size": 8,
          "symbol": "x"
         },
         "mode": "markers+lines",
         "name": "Surname 79",
         "opacity": 0.4,
         "type": "scatter",
         "x": [
          0,
          1,
          2,
          3,
          4,
          5,
          6,
          7,
          8,
          9,
          10,
          11,
          12,
          13,
          14,
          15,
          16,
          17,
          18,
          19,
          20
         ],
         "y": [
          -11.49801786023901,
          -1.889977373743793,
          3.647605131064082,
          1.8850135229318556,
          3.2586862483698553,
          4.498400255606505,
          4.220120275512549,
          4.354413624585993,
          3.8636838629061074,
          4.47871783937249,
          3.0555861227120413,
          4.539179640329074,
          4.485281462354954,
          3.7503554984947507,
          5.723911504182006,
          3.3850960704576796,
          3.5206195565487195,
          3.0299569611557953,
          3.355553416200583,
          4.341612582908785,
          3.2102745459300146
         ]
        },
        {
         "line": {
          "color": "salmon",
          "width": 1.5
         },
         "marker": {
          "color": "salmon",
          "size": 8,
          "symbol": "x"
         },
         "mode": "markers+lines",
         "name": "Surname 80",
         "opacity": 0.4,
         "type": "scatter",
         "x": [
          0,
          1,
          2,
          3,
          4,
          5,
          6,
          7,
          8,
          9,
          10,
          11,
          12,
          13,
          14,
          15,
          16,
          17,
          18,
          19,
          20
         ],
         "y": [
          -12.679324125195294,
          -8.296473972821083,
          -3.83597293541155,
          -2.5731534817607624,
          -5.105581840076944,
          -4.847357969249221,
          -2.370264021053041,
          -2.2237786386937883,
          -3.7723723634552884,
          -2.5628029113288457,
          -4.4395923293514254,
          -3.274523583532051,
          -3.9547856632716942,
          -1.9972977178508462,
          -2.504540892835121,
          -4.830968647476422,
          -3.4344903324653204,
          -1.2036412277220165,
          -2.7624165215881233,
          -2.7477843008278326,
          -2.5686337713226295
         ]
        },
        {
         "line": {
          "color": "salmon",
          "width": 1.5
         },
         "marker": {
          "color": "salmon",
          "size": 8,
          "symbol": "x"
         },
         "mode": "markers+lines",
         "name": "Surname 81",
         "opacity": 0.4,
         "type": "scatter",
         "x": [
          0,
          1,
          2,
          3,
          4,
          5,
          6,
          7,
          8,
          9,
          10,
          11,
          12,
          13,
          14,
          15,
          16,
          17,
          18,
          19,
          20
         ],
         "y": [
          -6.706888389638553,
          0.6340741677158293,
          2.1845660865457437,
          4.5378950842420505,
          4.498913870924742,
          4.692394686121392,
          3.5882002119501535,
          2.005558314871844,
          2.649197262257024,
          3.578953118028292,
          3.4532968918283045,
          4.162993453322706,
          3.4982862775861623,
          4.600689676106311,
          5.54605608774391,
          4.06370509507829,
          3.8747191211816014,
          4.411966553983599,
          5.137075767612393,
          3.850330277571132,
          3.9600772583253527
         ]
        },
        {
         "line": {
          "color": "salmon",
          "width": 1.5
         },
         "marker": {
          "color": "salmon",
          "size": 8,
          "symbol": "x"
         },
         "mode": "markers+lines",
         "name": "Surname 82",
         "opacity": 0.4,
         "type": "scatter",
         "x": [
          0,
          1,
          2,
          3,
          4,
          5,
          6,
          7,
          8,
          9,
          10,
          11,
          12,
          13,
          14,
          15,
          16,
          17,
          18,
          19,
          20
         ],
         "y": [
          -12.53018120383046,
          3.0075930246864018,
          5.336893557432512,
          6.421311075305923,
          6.142201546166349,
          5.447340391525371,
          6.9609709647927485,
          8.129150394407365,
          6.564563688325556,
          7.543764276933536,
          7.950206125244914,
          8.621189588753804,
          9.975523197933862,
          7.472506042789297,
          9.3410928229849,
          5.9392720641341405,
          8.576191901925752,
          9.715446521117391,
          8.218496080084147,
          6.658730836348955,
          7.9170613103211
         ]
        },
        {
         "line": {
          "color": "salmon",
          "width": 1.5
         },
         "marker": {
          "color": "salmon",
          "size": 8,
          "symbol": "x"
         },
         "mode": "markers+lines",
         "name": "Surname 83",
         "opacity": 0.4,
         "type": "scatter",
         "x": [
          0,
          1,
          2,
          3,
          4,
          5,
          6,
          7,
          8,
          9,
          10,
          11,
          12,
          13,
          14,
          15,
          16,
          17,
          18,
          19,
          20
         ],
         "y": [
          -7.54526429115509,
          3.475097107070456,
          7.444410470854326,
          7.721913355627922,
          9.217078433583229,
          9.34056145538743,
          8.490720151701474,
          9.79890703829479,
          9.792030628909963,
          9.05290954085084,
          8.026110195673297,
          7.877034643201159,
          10.36235990646822,
          8.554478216430844,
          9.342016684895617,
          8.464923555320047,
          7.391511943139008,
          8.258495861238496,
          8.506163951444947,
          8.59841251002692,
          8.876688286139721
         ]
        },
        {
         "line": {
          "color": "salmon",
          "width": 1.5
         },
         "marker": {
          "color": "salmon",
          "size": 8,
          "symbol": "x"
         },
         "mode": "markers+lines",
         "name": "Surname 84",
         "opacity": 0.4,
         "type": "scatter",
         "x": [
          0,
          1,
          2,
          3,
          4,
          5,
          6,
          7,
          8,
          9,
          10,
          11,
          12,
          13,
          14,
          15,
          16,
          17,
          18,
          19,
          20
         ],
         "y": [
          -9.391851048801596,
          0.096808567222604,
          3.6617348927169595,
          3.1378338493068845,
          3.6904740696321823,
          2.0430747909846905,
          3.805626480178228,
          2.347703296869794,
          4.670203178577339,
          5.913359145036495,
          2.3397328325731896,
          3.0581623607056994,
          3.802312764845557,
          2.7665848020941834,
          3.3108264323447116,
          3.9556388621635032,
          2.93565654659337,
          2.577879329938371,
          3.1550654591708187,
          2.5406895082086742,
          3.961481236182488
         ]
        },
        {
         "line": {
          "color": "salmon",
          "width": 1.5
         },
         "marker": {
          "color": "salmon",
          "size": 8,
          "symbol": "x"
         },
         "mode": "markers+lines",
         "name": "Surname 85",
         "opacity": 0.4,
         "type": "scatter",
         "x": [
          0,
          1,
          2,
          3,
          4,
          5,
          6,
          7,
          8,
          9,
          10,
          11,
          12,
          13,
          14,
          15,
          16,
          17,
          18,
          19,
          20
         ],
         "y": [
          -8.645547171952828,
          5.424801834227138,
          11.482647880473738,
          12.954171726466203,
          13.184087816616255,
          11.544567563250864,
          11.772191673998368,
          15.095671840481641,
          13.345377858815622,
          14.511968062780069,
          15.57518702919506,
          14.65002264403412,
          13.825236549684876,
          15.171964570267034,
          13.525870787095942,
          13.893957727170603,
          12.785648795905413,
          14.2628090208131,
          14.309445805221424,
          14.21726079809011,
          11.75334585673694
         ]
        },
        {
         "line": {
          "color": "salmon",
          "width": 1.5
         },
         "marker": {
          "color": "salmon",
          "size": 8,
          "symbol": "x"
         },
         "mode": "markers+lines",
         "name": "Surname 86",
         "opacity": 0.4,
         "type": "scatter",
         "x": [
          0,
          1,
          2,
          3,
          4,
          5,
          6,
          7,
          8,
          9,
          10,
          11,
          12,
          13,
          14,
          15,
          16,
          17,
          18,
          19,
          20
         ],
         "y": [
          -11.864549585947088,
          4.392522162658632,
          6.574265037952455,
          7.44507759563061,
          9.05702862863815,
          7.930713122966237,
          9.583585394738014,
          8.259776457310995,
          9.329126793450378,
          10.569836766978579,
          10.233145925379201,
          9.613149050939812,
          9.628455970390226,
          8.6752456686829,
          10.167169100408316,
          11.724767839562748,
          7.9352948003235575,
          9.402641752776447,
          7.70066751234301,
          11.07682893470623,
          8.95693588489004
         ]
        },
        {
         "line": {
          "color": "salmon",
          "width": 1.5
         },
         "marker": {
          "color": "salmon",
          "size": 8,
          "symbol": "x"
         },
         "mode": "markers+lines",
         "name": "Surname 87",
         "opacity": 0.4,
         "type": "scatter",
         "x": [
          0,
          1,
          2,
          3,
          4,
          5,
          6,
          7,
          8,
          9,
          10,
          11,
          12,
          13,
          14,
          15,
          16,
          17,
          18,
          19,
          20
         ],
         "y": [
          -10.409319774336291,
          3.840597949895616,
          6.8929463644221975,
          8.833070814704072,
          10.521409983459847,
          9.28133158573184,
          8.463423143002506,
          10.02835362451984,
          9.697010665824315,
          8.84378922629335,
          6.490882999404555,
          8.001335535237263,
          8.521310813532088,
          10.3762552716164,
          9.509710139959816,
          6.689673278650658,
          8.881528748924536,
          9.025528121836063,
          8.559052065987538,
          9.703415610478261,
          9.332997431644724
         ]
        },
        {
         "line": {
          "color": "salmon",
          "width": 1.5
         },
         "marker": {
          "color": "salmon",
          "size": 8,
          "symbol": "x"
         },
         "mode": "markers+lines",
         "name": "Surname 88",
         "opacity": 0.4,
         "type": "scatter",
         "x": [
          0,
          1,
          2,
          3,
          4,
          5,
          6,
          7,
          8,
          9,
          10,
          11,
          12,
          13,
          14,
          15,
          16,
          17,
          18,
          19,
          20
         ],
         "y": [
          -12.832589379894626,
          -3.2692980812951458,
          3.9239709233695947,
          2.6523005764245884,
          1.524537800381738,
          1.311356502941516,
          2.8473049223611815,
          2.486920171732069,
          4.895168603678115,
          2.426967100192914,
          1.4669608168675474,
          3.007717669945174,
          3.4059945999047283,
          4.120084719874793,
          2.8134317335393764,
          3.460142412435717,
          3.843875962105716,
          2.8865035265062047,
          2.2051525183294096,
          2.9788014141828563,
          3.2119992362335914
         ]
        },
        {
         "line": {
          "color": "salmon",
          "width": 1.5
         },
         "marker": {
          "color": "salmon",
          "size": 8,
          "symbol": "x"
         },
         "mode": "markers+lines",
         "name": "Surname 89",
         "opacity": 0.4,
         "type": "scatter",
         "x": [
          0,
          1,
          2,
          3,
          4,
          5,
          6,
          7,
          8,
          9,
          10,
          11,
          12,
          13,
          14,
          15,
          16,
          17,
          18,
          19,
          20
         ],
         "y": [
          -8.741594976555108,
          -2.4683593126000822,
          -2.1942969244844233,
          -0.4979479050890911,
          -1.5285677372575188,
          -1.0431239102012322,
          0.7482527824340349,
          0.9046000024926776,
          -0.5149384464327742,
          0.412008698909205,
          -0.602226319562622,
          -2.592442377434643,
          -0.8331650490494438,
          -0.7503377252137365,
          -1.1779540101354258,
          -1.3263870822464399,
          -1.769568114654725,
          -0.9499221036404017,
          -1.7387126466857539,
          0.14536971891147166,
          -0.4715288427280835
         ]
        },
        {
         "line": {
          "color": "salmon",
          "width": 1.5
         },
         "marker": {
          "color": "salmon",
          "size": 8,
          "symbol": "x"
         },
         "mode": "markers+lines",
         "name": "Surname 90",
         "opacity": 0.4,
         "type": "scatter",
         "x": [
          0,
          1,
          2,
          3,
          4,
          5,
          6,
          7,
          8,
          9,
          10,
          11,
          12,
          13,
          14,
          15,
          16,
          17,
          18,
          19,
          20
         ],
         "y": [
          -6.493919935139205,
          9.73643792724297,
          12.439903151400888,
          12.846717043121936,
          14.530546571412387,
          14.18732504749333,
          13.600930157065074,
          15.082632855652454,
          14.8236515914952,
          14.759362890236485,
          12.58905355870361,
          12.47074762676726,
          13.169611844716469,
          15.654047192734687,
          14.344739530705915,
          14.30359086387376,
          12.114627791456465,
          13.382013957408919,
          13.239493223215117,
          13.169478864310879,
          12.229938142459721
         ]
        },
        {
         "line": {
          "color": "salmon",
          "width": 1.5
         },
         "marker": {
          "color": "salmon",
          "size": 8,
          "symbol": "x"
         },
         "mode": "markers+lines",
         "name": "Surname 91",
         "opacity": 0.4,
         "type": "scatter",
         "x": [
          0,
          1,
          2,
          3,
          4,
          5,
          6,
          7,
          8,
          9,
          10,
          11,
          12,
          13,
          14,
          15,
          16,
          17,
          18,
          19,
          20
         ],
         "y": [
          -13.723323821886256,
          2.104941934840975,
          6.456263783700444,
          9.684061672370229,
          10.338372632427863,
          10.169615261349133,
          10.382518019867318,
          11.2882249449893,
          8.145849366774028,
          9.10277356712359,
          9.753444170723448,
          9.851080343388656,
          10.6309512069411,
          11.770589622025383,
          8.592559411018922,
          9.016249169384736,
          10.709785626126806,
          11.428490581687319,
          9.141781819269877,
          10.019241909877728,
          10.483631008418858
         ]
        },
        {
         "line": {
          "color": "salmon",
          "width": 1.5
         },
         "marker": {
          "color": "salmon",
          "size": 8,
          "symbol": "x"
         },
         "mode": "markers+lines",
         "name": "Surname 92",
         "opacity": 0.4,
         "type": "scatter",
         "x": [
          0,
          1,
          2,
          3,
          4,
          5,
          6,
          7,
          8,
          9,
          10,
          11,
          12,
          13,
          14,
          15,
          16,
          17,
          18,
          19,
          20
         ],
         "y": [
          -10.232857102498327,
          -6.789061840873779,
          -4.754145648177295,
          -4.6960853663943265,
          -5.5797002486025695,
          -4.825992121565746,
          -5.747498543528116,
          -5.6247345932976,
          -4.747561688420743,
          -5.891743362330693,
          -6.155938600940103,
          -7.713959003509874,
          -3.8680699666748466,
          -5.049041005145509,
          -5.001049177175636,
          -4.2965794201873,
          -4.768877834159582,
          -6.008202069181654,
          -6.17180779472187,
          -5.549723543738422,
          -5.770367061441489
         ]
        },
        {
         "line": {
          "color": "salmon",
          "width": 1.5
         },
         "marker": {
          "color": "salmon",
          "size": 8,
          "symbol": "x"
         },
         "mode": "markers+lines",
         "name": "Surname 93",
         "opacity": 0.4,
         "type": "scatter",
         "x": [
          0,
          1,
          2,
          3,
          4,
          5,
          6,
          7,
          8,
          9,
          10,
          11,
          12,
          13,
          14,
          15,
          16,
          17,
          18,
          19,
          20
         ],
         "y": [
          -11.912648214575217,
          6.87205887406413,
          11.734956900208509,
          12.829680133292632,
          15.37244366850499,
          13.095926757929307,
          15.307637470204924,
          11.868516979887488,
          13.834377322176396,
          15.423994125460306,
          14.811578162785516,
          13.241615885788182,
          15.2161418305407,
          14.813735885545448,
          14.002596323757567,
          14.241406564906793,
          15.77010153474292,
          14.552987213864881,
          16.3834255055442,
          13.939215301746009,
          14.482244267297594
         ]
        },
        {
         "line": {
          "color": "salmon",
          "width": 1.5
         },
         "marker": {
          "color": "salmon",
          "size": 8,
          "symbol": "x"
         },
         "mode": "markers+lines",
         "name": "Surname 94",
         "opacity": 0.4,
         "type": "scatter",
         "x": [
          0,
          1,
          2,
          3,
          4,
          5,
          6,
          7,
          8,
          9,
          10,
          11,
          12,
          13,
          14,
          15,
          16,
          17,
          18,
          19,
          20
         ],
         "y": [
          -15.45933346033894,
          -4.239202060638611,
          -2.533590213717237,
          -1.534049245946157,
          -0.195108690221388,
          -0.5764401390755062,
          1.3867485901439531,
          0.23501526329675254,
          0.7313233060131233,
          0.45616939699330744,
          -0.41769764486406424,
          0.12103860731836119,
          -0.04256940404984913,
          0.9369526726012547,
          0.6579267416631037,
          -0.6442277943500696,
          -1.1736266707302856,
          0.978066449839434,
          -2.3395870674899615,
          -1.3226951778009826,
          0.12090281123816443
         ]
        },
        {
         "line": {
          "color": "salmon",
          "width": 1.5
         },
         "marker": {
          "color": "salmon",
          "size": 8,
          "symbol": "x"
         },
         "mode": "markers+lines",
         "name": "Surname 95",
         "opacity": 0.4,
         "type": "scatter",
         "x": [
          0,
          1,
          2,
          3,
          4,
          5,
          6,
          7,
          8,
          9,
          10,
          11,
          12,
          13,
          14,
          15,
          16,
          17,
          18,
          19,
          20
         ],
         "y": [
          -9.463368929463753,
          -0.5433502613939454,
          5.18382212117691,
          6.220883116152745,
          3.7650188525086628,
          4.076456728377958,
          4.934958556594411,
          5.926311676205635,
          6.635892966203958,
          4.504012908601871,
          5.257854183561109,
          4.2481838596100445,
          3.4954015737218187,
          6.303172312790427,
          5.114558353482228,
          4.877526448485565,
          4.046133376945835,
          5.862126529763394,
          6.561509587855653,
          5.125169792921351,
          2.437179034581439
         ]
        },
        {
         "line": {
          "color": "salmon",
          "width": 1.5
         },
         "marker": {
          "color": "salmon",
          "size": 8,
          "symbol": "x"
         },
         "mode": "markers+lines",
         "name": "Surname 96",
         "opacity": 0.4,
         "type": "scatter",
         "x": [
          0,
          1,
          2,
          3,
          4,
          5,
          6,
          7,
          8,
          9,
          10,
          11,
          12,
          13,
          14,
          15,
          16,
          17,
          18,
          19,
          20
         ],
         "y": [
          -13.174003906323156,
          2.1737538688569855,
          8.01709300031696,
          7.74286175109178,
          10.295330493003302,
          10.286958252596554,
          7.924651576981546,
          10.560559674969499,
          8.28003620409864,
          10.886971002310123,
          10.064325954079365,
          10.603678477771657,
          10.76419062157463,
          10.64653234063736,
          9.529963459283268,
          10.61742416348604,
          8.722512191393015,
          8.017828890328303,
          10.202011927164708,
          9.161484259955543,
          9.995801062943366
         ]
        },
        {
         "line": {
          "color": "salmon",
          "width": 1.5
         },
         "marker": {
          "color": "salmon",
          "size": 8,
          "symbol": "x"
         },
         "mode": "markers+lines",
         "name": "Surname 97",
         "opacity": 0.4,
         "type": "scatter",
         "x": [
          0,
          1,
          2,
          3,
          4,
          5,
          6,
          7,
          8,
          9,
          10,
          11,
          12,
          13,
          14,
          15,
          16,
          17,
          18,
          19,
          20
         ],
         "y": [
          -11.301967352471168,
          -2.0171869049749516,
          1.2585332721376874,
          2.2427131580564104,
          2.3688434826383165,
          2.378096439912167,
          2.387338185120367,
          3.605833611839241,
          3.369856342276849,
          2.3321810826695892,
          1.94834761157943,
          2.5160294916338684,
          3.398888653555982,
          2.6152049068662544,
          0.7510668163620928,
          3.547448017897941,
          3.2675403065138022,
          1.5958219163806695,
          1.994746513132156,
          3.5519793930322625,
          0.5889938607524552
         ]
        },
        {
         "line": {
          "color": "salmon",
          "width": 1.5
         },
         "marker": {
          "color": "salmon",
          "size": 8,
          "symbol": "x"
         },
         "mode": "markers+lines",
         "name": "Surname 98",
         "opacity": 0.4,
         "type": "scatter",
         "x": [
          0,
          1,
          2,
          3,
          4,
          5,
          6,
          7,
          8,
          9,
          10,
          11,
          12,
          13,
          14,
          15,
          16,
          17,
          18,
          19,
          20
         ],
         "y": [
          -8.789026343452738,
          1.9703257778052998,
          4.398819812098459,
          4.545413876746797,
          6.722588446756288,
          1.8436092475150718,
          5.079933010927768,
          5.26712159397285,
          5.543804797389759,
          4.80488206500784,
          4.695540582006691,
          3.675573497604251,
          3.8643146810468068,
          5.545401642587289,
          3.6480894113440145,
          4.549170165823278,
          6.141523592688673,
          5.713852345684762,
          5.195068077741553,
          6.7291407672833605,
          5.161841968696721
         ]
        },
        {
         "line": {
          "color": "salmon",
          "width": 1.5
         },
         "marker": {
          "color": "salmon",
          "size": 8,
          "symbol": "x"
         },
         "mode": "markers+lines",
         "name": "Surname 99",
         "opacity": 0.4,
         "type": "scatter",
         "x": [
          0,
          1,
          2,
          3,
          4,
          5,
          6,
          7,
          8,
          9,
          10,
          11,
          12,
          13,
          14,
          15,
          16,
          17,
          18,
          19,
          20
         ],
         "y": [
          -6.728630887091908,
          -2.917690542394089,
          -2.003910206320582,
          -4.069584017360809,
          -2.6231835409817714,
          -0.24021291052025462,
          -1.5396085536935595,
          -0.6876878950563037,
          -3.328992125105558,
          -1.3859059457084206,
          -1.0980175015595057,
          -1.5889540592531213,
          -0.5217745532263789,
          -1.4739745454349642,
          -1.7751113993497414,
          -1.7369798988081209,
          -2.7616948680285534,
          -3.128026817398871,
          -4.140169736176071,
          -1.5080508899628478,
          -0.5530894237703294
         ]
        },
        {
         "line": {
          "color": "black",
          "dash": "dash",
          "width": 2.5
         },
         "mode": "lines",
         "name": "mu",
         "type": "scatter",
         "x": [
          0,
          1,
          2,
          3,
          4,
          5,
          6,
          7,
          8,
          9,
          10,
          11,
          12,
          13,
          14,
          15,
          16,
          17,
          18,
          19,
          20
         ],
         "y": [
          4.802939112245161,
          4.802939112245161,
          4.802939112245161,
          4.802939112245161,
          4.802939112245161,
          4.802939112245161,
          4.802939112245161,
          4.802939112245161,
          4.802939112245161,
          4.802939112245161,
          4.802939112245161,
          4.802939112245161,
          4.802939112245161,
          4.802939112245161,
          4.802939112245161,
          4.802939112245161,
          4.802939112245161,
          4.802939112245161,
          4.802939112245161,
          4.802939112245161,
          4.802939112245161
         ]
        }
       ],
       "layout": {
        "font": {
         "color": "black",
         "family": "Times New Roman",
         "size": 24
        },
        "legend": {
         "title": {
          "text": "Surnames"
         }
        },
        "margin": {
         "b": 10,
         "l": 10,
         "r": 10,
         "t": 10
        },
        "plot_bgcolor": "rgba(0,0,0,0)",
        "showlegend": false,
        "template": {
         "data": {
          "bar": [
           {
            "error_x": {
             "color": "#2a3f5f"
            },
            "error_y": {
             "color": "#2a3f5f"
            },
            "marker": {
             "line": {
              "color": "#E5ECF6",
              "width": 0.5
             },
             "pattern": {
              "fillmode": "overlay",
              "size": 10,
              "solidity": 0.2
             }
            },
            "type": "bar"
           }
          ],
          "barpolar": [
           {
            "marker": {
             "line": {
              "color": "#E5ECF6",
              "width": 0.5
             },
             "pattern": {
              "fillmode": "overlay",
              "size": 10,
              "solidity": 0.2
             }
            },
            "type": "barpolar"
           }
          ],
          "carpet": [
           {
            "aaxis": {
             "endlinecolor": "#2a3f5f",
             "gridcolor": "white",
             "linecolor": "white",
             "minorgridcolor": "white",
             "startlinecolor": "#2a3f5f"
            },
            "baxis": {
             "endlinecolor": "#2a3f5f",
             "gridcolor": "white",
             "linecolor": "white",
             "minorgridcolor": "white",
             "startlinecolor": "#2a3f5f"
            },
            "type": "carpet"
           }
          ],
          "choropleth": [
           {
            "colorbar": {
             "outlinewidth": 0,
             "ticks": ""
            },
            "type": "choropleth"
           }
          ],
          "contour": [
           {
            "colorbar": {
             "outlinewidth": 0,
             "ticks": ""
            },
            "colorscale": [
             [
              0,
              "#0d0887"
             ],
             [
              0.1111111111111111,
              "#46039f"
             ],
             [
              0.2222222222222222,
              "#7201a8"
             ],
             [
              0.3333333333333333,
              "#9c179e"
             ],
             [
              0.4444444444444444,
              "#bd3786"
             ],
             [
              0.5555555555555556,
              "#d8576b"
             ],
             [
              0.6666666666666666,
              "#ed7953"
             ],
             [
              0.7777777777777778,
              "#fb9f3a"
             ],
             [
              0.8888888888888888,
              "#fdca26"
             ],
             [
              1,
              "#f0f921"
             ]
            ],
            "type": "contour"
           }
          ],
          "contourcarpet": [
           {
            "colorbar": {
             "outlinewidth": 0,
             "ticks": ""
            },
            "type": "contourcarpet"
           }
          ],
          "heatmap": [
           {
            "colorbar": {
             "outlinewidth": 0,
             "ticks": ""
            },
            "colorscale": [
             [
              0,
              "#0d0887"
             ],
             [
              0.1111111111111111,
              "#46039f"
             ],
             [
              0.2222222222222222,
              "#7201a8"
             ],
             [
              0.3333333333333333,
              "#9c179e"
             ],
             [
              0.4444444444444444,
              "#bd3786"
             ],
             [
              0.5555555555555556,
              "#d8576b"
             ],
             [
              0.6666666666666666,
              "#ed7953"
             ],
             [
              0.7777777777777778,
              "#fb9f3a"
             ],
             [
              0.8888888888888888,
              "#fdca26"
             ],
             [
              1,
              "#f0f921"
             ]
            ],
            "type": "heatmap"
           }
          ],
          "heatmapgl": [
           {
            "colorbar": {
             "outlinewidth": 0,
             "ticks": ""
            },
            "colorscale": [
             [
              0,
              "#0d0887"
             ],
             [
              0.1111111111111111,
              "#46039f"
             ],
             [
              0.2222222222222222,
              "#7201a8"
             ],
             [
              0.3333333333333333,
              "#9c179e"
             ],
             [
              0.4444444444444444,
              "#bd3786"
             ],
             [
              0.5555555555555556,
              "#d8576b"
             ],
             [
              0.6666666666666666,
              "#ed7953"
             ],
             [
              0.7777777777777778,
              "#fb9f3a"
             ],
             [
              0.8888888888888888,
              "#fdca26"
             ],
             [
              1,
              "#f0f921"
             ]
            ],
            "type": "heatmapgl"
           }
          ],
          "histogram": [
           {
            "marker": {
             "pattern": {
              "fillmode": "overlay",
              "size": 10,
              "solidity": 0.2
             }
            },
            "type": "histogram"
           }
          ],
          "histogram2d": [
           {
            "colorbar": {
             "outlinewidth": 0,
             "ticks": ""
            },
            "colorscale": [
             [
              0,
              "#0d0887"
             ],
             [
              0.1111111111111111,
              "#46039f"
             ],
             [
              0.2222222222222222,
              "#7201a8"
             ],
             [
              0.3333333333333333,
              "#9c179e"
             ],
             [
              0.4444444444444444,
              "#bd3786"
             ],
             [
              0.5555555555555556,
              "#d8576b"
             ],
             [
              0.6666666666666666,
              "#ed7953"
             ],
             [
              0.7777777777777778,
              "#fb9f3a"
             ],
             [
              0.8888888888888888,
              "#fdca26"
             ],
             [
              1,
              "#f0f921"
             ]
            ],
            "type": "histogram2d"
           }
          ],
          "histogram2dcontour": [
           {
            "colorbar": {
             "outlinewidth": 0,
             "ticks": ""
            },
            "colorscale": [
             [
              0,
              "#0d0887"
             ],
             [
              0.1111111111111111,
              "#46039f"
             ],
             [
              0.2222222222222222,
              "#7201a8"
             ],
             [
              0.3333333333333333,
              "#9c179e"
             ],
             [
              0.4444444444444444,
              "#bd3786"
             ],
             [
              0.5555555555555556,
              "#d8576b"
             ],
             [
              0.6666666666666666,
              "#ed7953"
             ],
             [
              0.7777777777777778,
              "#fb9f3a"
             ],
             [
              0.8888888888888888,
              "#fdca26"
             ],
             [
              1,
              "#f0f921"
             ]
            ],
            "type": "histogram2dcontour"
           }
          ],
          "mesh3d": [
           {
            "colorbar": {
             "outlinewidth": 0,
             "ticks": ""
            },
            "type": "mesh3d"
           }
          ],
          "parcoords": [
           {
            "line": {
             "colorbar": {
              "outlinewidth": 0,
              "ticks": ""
             }
            },
            "type": "parcoords"
           }
          ],
          "pie": [
           {
            "automargin": true,
            "type": "pie"
           }
          ],
          "scatter": [
           {
            "fillpattern": {
             "fillmode": "overlay",
             "size": 10,
             "solidity": 0.2
            },
            "type": "scatter"
           }
          ],
          "scatter3d": [
           {
            "line": {
             "colorbar": {
              "outlinewidth": 0,
              "ticks": ""
             }
            },
            "marker": {
             "colorbar": {
              "outlinewidth": 0,
              "ticks": ""
             }
            },
            "type": "scatter3d"
           }
          ],
          "scattercarpet": [
           {
            "marker": {
             "colorbar": {
              "outlinewidth": 0,
              "ticks": ""
             }
            },
            "type": "scattercarpet"
           }
          ],
          "scattergeo": [
           {
            "marker": {
             "colorbar": {
              "outlinewidth": 0,
              "ticks": ""
             }
            },
            "type": "scattergeo"
           }
          ],
          "scattergl": [
           {
            "marker": {
             "colorbar": {
              "outlinewidth": 0,
              "ticks": ""
             }
            },
            "type": "scattergl"
           }
          ],
          "scattermapbox": [
           {
            "marker": {
             "colorbar": {
              "outlinewidth": 0,
              "ticks": ""
             }
            },
            "type": "scattermapbox"
           }
          ],
          "scatterpolar": [
           {
            "marker": {
             "colorbar": {
              "outlinewidth": 0,
              "ticks": ""
             }
            },
            "type": "scatterpolar"
           }
          ],
          "scatterpolargl": [
           {
            "marker": {
             "colorbar": {
              "outlinewidth": 0,
              "ticks": ""
             }
            },
            "type": "scatterpolargl"
           }
          ],
          "scatterternary": [
           {
            "marker": {
             "colorbar": {
              "outlinewidth": 0,
              "ticks": ""
             }
            },
            "type": "scatterternary"
           }
          ],
          "surface": [
           {
            "colorbar": {
             "outlinewidth": 0,
             "ticks": ""
            },
            "colorscale": [
             [
              0,
              "#0d0887"
             ],
             [
              0.1111111111111111,
              "#46039f"
             ],
             [
              0.2222222222222222,
              "#7201a8"
             ],
             [
              0.3333333333333333,
              "#9c179e"
             ],
             [
              0.4444444444444444,
              "#bd3786"
             ],
             [
              0.5555555555555556,
              "#d8576b"
             ],
             [
              0.6666666666666666,
              "#ed7953"
             ],
             [
              0.7777777777777778,
              "#fb9f3a"
             ],
             [
              0.8888888888888888,
              "#fdca26"
             ],
             [
              1,
              "#f0f921"
             ]
            ],
            "type": "surface"
           }
          ],
          "table": [
           {
            "cells": {
             "fill": {
              "color": "#EBF0F8"
             },
             "line": {
              "color": "white"
             }
            },
            "header": {
             "fill": {
              "color": "#C8D4E3"
             },
             "line": {
              "color": "white"
             }
            },
            "type": "table"
           }
          ]
         },
         "layout": {
          "annotationdefaults": {
           "arrowcolor": "#2a3f5f",
           "arrowhead": 0,
           "arrowwidth": 1
          },
          "autotypenumbers": "strict",
          "coloraxis": {
           "colorbar": {
            "outlinewidth": 0,
            "ticks": ""
           }
          },
          "colorscale": {
           "diverging": [
            [
             0,
             "#8e0152"
            ],
            [
             0.1,
             "#c51b7d"
            ],
            [
             0.2,
             "#de77ae"
            ],
            [
             0.3,
             "#f1b6da"
            ],
            [
             0.4,
             "#fde0ef"
            ],
            [
             0.5,
             "#f7f7f7"
            ],
            [
             0.6,
             "#e6f5d0"
            ],
            [
             0.7,
             "#b8e186"
            ],
            [
             0.8,
             "#7fbc41"
            ],
            [
             0.9,
             "#4d9221"
            ],
            [
             1,
             "#276419"
            ]
           ],
           "sequential": [
            [
             0,
             "#0d0887"
            ],
            [
             0.1111111111111111,
             "#46039f"
            ],
            [
             0.2222222222222222,
             "#7201a8"
            ],
            [
             0.3333333333333333,
             "#9c179e"
            ],
            [
             0.4444444444444444,
             "#bd3786"
            ],
            [
             0.5555555555555556,
             "#d8576b"
            ],
            [
             0.6666666666666666,
             "#ed7953"
            ],
            [
             0.7777777777777778,
             "#fb9f3a"
            ],
            [
             0.8888888888888888,
             "#fdca26"
            ],
            [
             1,
             "#f0f921"
            ]
           ],
           "sequentialminus": [
            [
             0,
             "#0d0887"
            ],
            [
             0.1111111111111111,
             "#46039f"
            ],
            [
             0.2222222222222222,
             "#7201a8"
            ],
            [
             0.3333333333333333,
             "#9c179e"
            ],
            [
             0.4444444444444444,
             "#bd3786"
            ],
            [
             0.5555555555555556,
             "#d8576b"
            ],
            [
             0.6666666666666666,
             "#ed7953"
            ],
            [
             0.7777777777777778,
             "#fb9f3a"
            ],
            [
             0.8888888888888888,
             "#fdca26"
            ],
            [
             1,
             "#f0f921"
            ]
           ]
          },
          "colorway": [
           "#636efa",
           "#EF553B",
           "#00cc96",
           "#ab63fa",
           "#FFA15A",
           "#19d3f3",
           "#FF6692",
           "#B6E880",
           "#FF97FF",
           "#FECB52"
          ],
          "font": {
           "color": "#2a3f5f"
          },
          "geo": {
           "bgcolor": "white",
           "lakecolor": "white",
           "landcolor": "#E5ECF6",
           "showlakes": true,
           "showland": true,
           "subunitcolor": "white"
          },
          "hoverlabel": {
           "align": "left"
          },
          "hovermode": "closest",
          "mapbox": {
           "style": "light"
          },
          "paper_bgcolor": "white",
          "plot_bgcolor": "#E5ECF6",
          "polar": {
           "angularaxis": {
            "gridcolor": "white",
            "linecolor": "white",
            "ticks": ""
           },
           "bgcolor": "#E5ECF6",
           "radialaxis": {
            "gridcolor": "white",
            "linecolor": "white",
            "ticks": ""
           }
          },
          "scene": {
           "xaxis": {
            "backgroundcolor": "#E5ECF6",
            "gridcolor": "white",
            "gridwidth": 2,
            "linecolor": "white",
            "showbackground": true,
            "ticks": "",
            "zerolinecolor": "white"
           },
           "yaxis": {
            "backgroundcolor": "#E5ECF6",
            "gridcolor": "white",
            "gridwidth": 2,
            "linecolor": "white",
            "showbackground": true,
            "ticks": "",
            "zerolinecolor": "white"
           },
           "zaxis": {
            "backgroundcolor": "#E5ECF6",
            "gridcolor": "white",
            "gridwidth": 2,
            "linecolor": "white",
            "showbackground": true,
            "ticks": "",
            "zerolinecolor": "white"
           }
          },
          "shapedefaults": {
           "line": {
            "color": "#2a3f5f"
           }
          },
          "ternary": {
           "aaxis": {
            "gridcolor": "white",
            "linecolor": "white",
            "ticks": ""
           },
           "baxis": {
            "gridcolor": "white",
            "linecolor": "white",
            "ticks": ""
           },
           "bgcolor": "#E5ECF6",
           "caxis": {
            "gridcolor": "white",
            "linecolor": "white",
            "ticks": ""
           }
          },
          "title": {
           "x": 0.05
          },
          "xaxis": {
           "automargin": true,
           "gridcolor": "white",
           "linecolor": "white",
           "ticks": "",
           "title": {
            "standoff": 15
           },
           "zerolinecolor": "white",
           "zerolinewidth": 2
          },
          "yaxis": {
           "automargin": true,
           "gridcolor": "white",
           "linecolor": "white",
           "ticks": "",
           "title": {
            "standoff": 15
           },
           "zerolinecolor": "white",
           "zerolinewidth": 2
          }
         }
        },
        "title": {
         "font": {
          "family": "Times New Roman"
         }
        },
        "xaxis": {
         "title": {
          "text": "Time"
         }
        },
        "yaxis": {
         "title": {
          "text": "ln(Wealth)"
         }
        }
       }
      }
     },
     "metadata": {},
     "output_type": "display_data"
    }
   ],
   "source": [
    "color_start ='gray' #'#636EFA'\n",
    "color_end ='salmon' #'#EF553B'\n",
    "top_setting = dict(color = color_start, symbol = 'circle', size = 8)\n",
    "bottom_setting = dict(color = color_end, symbol = 'x', size = 8)\n",
    "\n",
    "fig = go.Figure()\n",
    "\n",
    "# Add traces for 'high' group to color them differently\n",
    "for i in df_scenario_1[df_scenario_1['Group'] == 'high']['Surname'].unique():\n",
    "    df_nid = df_scenario_1[df_scenario_1['Surname'] == i]\n",
    "    fig.add_trace(go.Scatter(x=df_nid['Time'], \n",
    "                             y=df_nid['log_Wealth']+df_nid['log_random'], \n",
    "                             mode='markers+lines', \n",
    "                             name=f'Surname {i}', \n",
    "                             opacity=0.4, \n",
    "                             line=dict(color= color_start, width=1.5),\n",
    "                             marker = top_setting)) \n",
    "\n",
    "\n",
    "# Add traces for 'low' group \n",
    "for i in df_scenario_1[df_scenario_1['Group'] == 'low']['Surname'].unique():\n",
    "    df_nid = df_scenario_1[df_scenario_1['Surname'] == i]\n",
    "    fig.add_trace(go.Scatter(x=df_nid['Time'], \n",
    "                             y=df_nid['log_Wealth']+df_nid['log_random'], \n",
    "                             mode='markers+lines', \n",
    "                             name=f'Surname {i}', \n",
    "                             opacity=0.4, \n",
    "                             line=dict(color= color_end, width=1.5),\n",
    "                             marker=bottom_setting)) \n",
    "                            \n",
    "\n",
    "\n",
    "fig.add_trace(go.Scatter(x=population_data_1['Time'], y=population_data_1['mu'],\n",
    "                         mode='lines', name='mu', line=dict(color='black', dash='dash', width=2.5)))\n",
    "\n",
    "fig.update_layout(\n",
    "    # title=f'ln(Wealth) over time: surname-specific functions in grey and population-wise convergence value {round(mu_population_1,2)} in red',\n",
    "                  xaxis_title='Time',\n",
    "                  yaxis_title='ln(Wealth)',\n",
    "                  legend_title='Surnames',\n",
    "                  font_family=\"Times New Roman\",\n",
    "                  title_font_family=\"Times New Roman\",\n",
    "                  font_size=24,\n",
    "                  font_color='black',\n",
    "                  # paper_bgcolor='rgba(0,0,0,0)',\n",
    "                  plot_bgcolor = 'rgba(0,0,0,0)', \n",
    "                  showlegend=False,\n",
    "                  margin=dict(l=10, r=10, t=10, b=10)\n",
    "                 )\n",
    "\n",
    "fig.show()"
   ]
  },
  {
   "cell_type": "code",
   "execution_count": 80,
   "id": "a8b9d089",
   "metadata": {},
   "outputs": [],
   "source": [
    "fig.write_image(path+\"/img_revised/section1_a2.pdf\")"
   ]
  },
  {
   "cell_type": "code",
   "execution_count": 74,
   "id": "47d766bf-7b4c-447b-bf8b-17bc598e8035",
   "metadata": {
    "tags": []
   },
   "outputs": [
    {
     "data": {
      "application/vnd.plotly.v1+json": {
       "config": {
        "plotlyServerURL": "https://plot.ly"
       },
       "data": [
        {
         "line": {
          "color": "gray",
          "width": 1.5
         },
         "marker": {
          "color": "gray",
          "size": 8,
          "symbol": "circle"
         },
         "mode": "markers+lines",
         "name": "Surname 0",
         "opacity": 0.4,
         "type": "scatter",
         "x": [
          0,
          1,
          2,
          3,
          4,
          5,
          6,
          7,
          8,
          9,
          10,
          11,
          12,
          13,
          14,
          15,
          16,
          17,
          18,
          19,
          20
         ],
         "y": [
          8.28518730400427,
          9.064641758013856,
          8.444422212695814,
          5.5843638684733845,
          6.123330277042369,
          5.898223343886323,
          7.099626458252326,
          5.233556897209973,
          6.033454883899001,
          5.1753507183222665,
          5.682320225525011,
          4.242965513163552,
          5.862179958579982,
          4.599565476715071,
          5.967335914423954,
          5.172433777879565,
          5.021068653244254,
          4.0374425032486005,
          4.4904939803048975,
          5.650424740573088,
          4.082440774213946
         ]
        },
        {
         "line": {
          "color": "gray",
          "width": 1.5
         },
         "marker": {
          "color": "gray",
          "size": 8,
          "symbol": "circle"
         },
         "mode": "markers+lines",
         "name": "Surname 1",
         "opacity": 0.4,
         "type": "scatter",
         "x": [
          0,
          1,
          2,
          3,
          4,
          5,
          6,
          7,
          8,
          9,
          10,
          11,
          12,
          13,
          14,
          15,
          16,
          17,
          18,
          19,
          20
         ],
         "y": [
          7.491717012606857,
          8.54723051181033,
          7.786942907483531,
          7.2303228940278625,
          8.204193199384843,
          4.658092135555121,
          6.847267035912623,
          5.00990329957298,
          4.377527750120771,
          4.45596411303271,
          6.33369531917193,
          6.0935363628026025,
          4.602451426240227,
          6.365517776338404,
          6.648661956437483,
          6.1881973685312595,
          6.326674599189036,
          6.0289664784691,
          3.830987826202345,
          4.403965661823813,
          4.142570820615782
         ]
        },
        {
         "line": {
          "color": "gray",
          "width": 1.5
         },
         "marker": {
          "color": "gray",
          "size": 8,
          "symbol": "circle"
         },
         "mode": "markers+lines",
         "name": "Surname 2",
         "opacity": 0.4,
         "type": "scatter",
         "x": [
          0,
          1,
          2,
          3,
          4,
          5,
          6,
          7,
          8,
          9,
          10,
          11,
          12,
          13,
          14,
          15,
          16,
          17,
          18,
          19,
          20
         ],
         "y": [
          7.705825539136143,
          10.112763447657509,
          6.489725053911947,
          8.682174127461527,
          6.186806178205232,
          6.091207311105771,
          6.531102102191695,
          7.2145845899218735,
          8.3378239221423,
          4.194339242297318,
          6.345388420587192,
          5.062071979224582,
          5.546320643917262,
          4.171775294542543,
          6.765061688669464,
          5.245733676897682,
          4.602392166715637,
          4.609167040287752,
          6.233048398838743,
          5.254255843119926,
          3.811351438535434
         ]
        },
        {
         "line": {
          "color": "gray",
          "width": 1.5
         },
         "marker": {
          "color": "gray",
          "size": 8,
          "symbol": "circle"
         },
         "mode": "markers+lines",
         "name": "Surname 3",
         "opacity": 0.4,
         "type": "scatter",
         "x": [
          0,
          1,
          2,
          3,
          4,
          5,
          6,
          7,
          8,
          9,
          10,
          11,
          12,
          13,
          14,
          15,
          16,
          17,
          18,
          19,
          20
         ],
         "y": [
          13.02332774493581,
          10.141401318205805,
          8.77204815107903,
          10.878934212995638,
          7.96392492059097,
          7.096734495495174,
          6.202458065133554,
          8.09753415258065,
          7.7436807788542925,
          7.834355163750001,
          6.053089191144358,
          4.795476050587169,
          5.065462175111486,
          6.408700071840179,
          4.600152909471525,
          4.7102613980080035,
          5.558490342277414,
          4.989386746703105,
          6.189164163033044,
          4.222360268761824,
          5.705325320017876
         ]
        },
        {
         "line": {
          "color": "gray",
          "width": 1.5
         },
         "marker": {
          "color": "gray",
          "size": 8,
          "symbol": "circle"
         },
         "mode": "markers+lines",
         "name": "Surname 4",
         "opacity": 0.4,
         "type": "scatter",
         "x": [
          0,
          1,
          2,
          3,
          4,
          5,
          6,
          7,
          8,
          9,
          10,
          11,
          12,
          13,
          14,
          15,
          16,
          17,
          18,
          19,
          20
         ],
         "y": [
          5.5720896936007085,
          5.107431964899955,
          6.878976464559386,
          6.560406306983817,
          4.73612545024656,
          6.503147646297186,
          6.825057974769854,
          5.35330752806703,
          5.1038677223791025,
          5.858111294772624,
          4.673280805445435,
          4.370360352771666,
          6.320186658217379,
          6.85286630621416,
          3.680347589388823,
          4.465857454573172,
          4.266750631663759,
          7.156346824330536,
          3.642434442498749,
          4.7576554566085925,
          5.70696028353403
         ]
        },
        {
         "line": {
          "color": "gray",
          "width": 1.5
         },
         "marker": {
          "color": "gray",
          "size": 8,
          "symbol": "circle"
         },
         "mode": "markers+lines",
         "name": "Surname 5",
         "opacity": 0.4,
         "type": "scatter",
         "x": [
          0,
          1,
          2,
          3,
          4,
          5,
          6,
          7,
          8,
          9,
          10,
          11,
          12,
          13,
          14,
          15,
          16,
          17,
          18,
          19,
          20
         ],
         "y": [
          10.404831550746536,
          8.24680538624223,
          8.200179206747187,
          7.872992470683766,
          5.869793365864852,
          6.953422486242182,
          5.497602931009137,
          6.389872065043615,
          4.546080809898974,
          5.324358599460752,
          4.318068902696506,
          5.1252773329565535,
          5.697673056062502,
          4.986831569299029,
          6.0368618576137125,
          5.514619638425333,
          5.895498952825642,
          5.3556944304256096,
          2.6862846120065407,
          5.290641360284725,
          2.612702884610499
         ]
        },
        {
         "line": {
          "color": "gray",
          "width": 1.5
         },
         "marker": {
          "color": "gray",
          "size": 8,
          "symbol": "circle"
         },
         "mode": "markers+lines",
         "name": "Surname 6",
         "opacity": 0.4,
         "type": "scatter",
         "x": [
          0,
          1,
          2,
          3,
          4,
          5,
          6,
          7,
          8,
          9,
          10,
          11,
          12,
          13,
          14,
          15,
          16,
          17,
          18,
          19,
          20
         ],
         "y": [
          15.075367516185237,
          12.109130269556271,
          9.864805653077681,
          8.124944914792273,
          7.91680139737407,
          7.637374625642741,
          8.19966738361984,
          6.696244342250737,
          5.927033215909512,
          7.344323162352138,
          6.591614998819499,
          4.578463407354161,
          7.690339015211618,
          5.677917760667392,
          4.617280123003934,
          4.753863201004333,
          5.954118940889893,
          6.117156848409793,
          4.594751484845153,
          5.352083871884459,
          6.342964666779932
         ]
        },
        {
         "line": {
          "color": "gray",
          "width": 1.5
         },
         "marker": {
          "color": "gray",
          "size": 8,
          "symbol": "circle"
         },
         "mode": "markers+lines",
         "name": "Surname 7",
         "opacity": 0.4,
         "type": "scatter",
         "x": [
          0,
          1,
          2,
          3,
          4,
          5,
          6,
          7,
          8,
          9,
          10,
          11,
          12,
          13,
          14,
          15,
          16,
          17,
          18,
          19,
          20
         ],
         "y": [
          11.439653195818675,
          9.335565934179598,
          9.26830069408556,
          7.618854061297657,
          7.414274984581294,
          7.337862982686332,
          4.747693416649586,
          5.984402907337549,
          6.205532379837166,
          7.122361244859944,
          6.130749109336702,
          6.570876823952654,
          6.490735302607429,
          4.788032841520805,
          4.2985560674096925,
          4.041942268342251,
          8.098308604920904,
          6.544004915238189,
          5.047349879024155,
          5.689206855634842,
          5.684351745384672
         ]
        },
        {
         "line": {
          "color": "gray",
          "width": 1.5
         },
         "marker": {
          "color": "gray",
          "size": 8,
          "symbol": "circle"
         },
         "mode": "markers+lines",
         "name": "Surname 8",
         "opacity": 0.4,
         "type": "scatter",
         "x": [
          0,
          1,
          2,
          3,
          4,
          5,
          6,
          7,
          8,
          9,
          10,
          11,
          12,
          13,
          14,
          15,
          16,
          17,
          18,
          19,
          20
         ],
         "y": [
          11.334012487743363,
          10.211220377081276,
          8.361028673985391,
          8.942038028757874,
          7.893218986477769,
          4.240333410294392,
          6.006213172575715,
          6.332093932281092,
          7.498967272530935,
          6.1330279311059765,
          6.193121692643038,
          6.767259993336618,
          7.16698181443716,
          5.975803585048808,
          4.362126842745413,
          6.241134971675259,
          4.6131294851425375,
          4.433565580332036,
          3.7401723102074396,
          5.114549625615732,
          4.713038274723109
         ]
        },
        {
         "line": {
          "color": "gray",
          "width": 1.5
         },
         "marker": {
          "color": "gray",
          "size": 8,
          "symbol": "circle"
         },
         "mode": "markers+lines",
         "name": "Surname 9",
         "opacity": 0.4,
         "type": "scatter",
         "x": [
          0,
          1,
          2,
          3,
          4,
          5,
          6,
          7,
          8,
          9,
          10,
          11,
          12,
          13,
          14,
          15,
          16,
          17,
          18,
          19,
          20
         ],
         "y": [
          11.397758556371937,
          12.922560313189091,
          12.218214417643821,
          8.044412612545406,
          6.022388061095526,
          7.978916822652238,
          8.253577008547147,
          5.849244971336594,
          6.191638831165539,
          7.037373475325966,
          6.371159837077435,
          6.611554685830985,
          7.087280781816795,
          4.303696707773128,
          4.416822608087352,
          5.56106976915813,
          6.427757005255829,
          6.819382915574375,
          4.502464068936281,
          5.455695871920387,
          3.6352066497744455
         ]
        },
        {
         "line": {
          "color": "gray",
          "width": 1.5
         },
         "marker": {
          "color": "gray",
          "size": 8,
          "symbol": "circle"
         },
         "mode": "markers+lines",
         "name": "Surname 10",
         "opacity": 0.4,
         "type": "scatter",
         "x": [
          0,
          1,
          2,
          3,
          4,
          5,
          6,
          7,
          8,
          9,
          10,
          11,
          12,
          13,
          14,
          15,
          16,
          17,
          18,
          19,
          20
         ],
         "y": [
          10.83533244635668,
          8.662626252163609,
          7.932323217255896,
          7.543792758078303,
          7.299167674977721,
          5.320207043372178,
          7.279163445079619,
          8.02710592491259,
          6.853874682403923,
          7.0951951884915285,
          6.748643567407016,
          7.41608852483552,
          7.301516408595691,
          6.897678789180256,
          5.226982275660563,
          5.556319791593858,
          5.243325463580281,
          4.024677982772342,
          5.9068199755135815,
          4.738203023256157,
          6.195111402787603
         ]
        },
        {
         "line": {
          "color": "gray",
          "width": 1.5
         },
         "marker": {
          "color": "gray",
          "size": 8,
          "symbol": "circle"
         },
         "mode": "markers+lines",
         "name": "Surname 11",
         "opacity": 0.4,
         "type": "scatter",
         "x": [
          0,
          1,
          2,
          3,
          4,
          5,
          6,
          7,
          8,
          9,
          10,
          11,
          12,
          13,
          14,
          15,
          16,
          17,
          18,
          19,
          20
         ],
         "y": [
          10.974486949295903,
          10.313571115164617,
          8.435919786853873,
          8.26790041945649,
          7.287836013475818,
          6.393620149359378,
          4.634920970076898,
          5.617958158733643,
          6.92375861655175,
          5.8903581631129525,
          4.782238552118777,
          5.803337509954893,
          6.7580741098076205,
          4.865333624503988,
          4.245643979131161,
          4.940475862704475,
          5.1852093354750055,
          5.135085584271864,
          5.529402318598936,
          5.313447566801623,
          4.808340479862535
         ]
        },
        {
         "line": {
          "color": "gray",
          "width": 1.5
         },
         "marker": {
          "color": "gray",
          "size": 8,
          "symbol": "circle"
         },
         "mode": "markers+lines",
         "name": "Surname 12",
         "opacity": 0.4,
         "type": "scatter",
         "x": [
          0,
          1,
          2,
          3,
          4,
          5,
          6,
          7,
          8,
          9,
          10,
          11,
          12,
          13,
          14,
          15,
          16,
          17,
          18,
          19,
          20
         ],
         "y": [
          8.158795480674865,
          8.377815416326904,
          10.287273761485585,
          7.011618415118683,
          5.000683307118777,
          6.0915206190906375,
          6.708838168097762,
          6.220692450703739,
          5.958578352194197,
          5.137129726686295,
          5.2782673453643465,
          4.712923758739969,
          4.9749591893034895,
          5.144508021473595,
          5.467222380933409,
          6.315132387051529,
          4.740267791629085,
          6.003563217423483,
          5.2078594273514165,
          6.086236458809115,
          5.246647011760162
         ]
        },
        {
         "line": {
          "color": "gray",
          "width": 1.5
         },
         "marker": {
          "color": "gray",
          "size": 8,
          "symbol": "circle"
         },
         "mode": "markers+lines",
         "name": "Surname 13",
         "opacity": 0.4,
         "type": "scatter",
         "x": [
          0,
          1,
          2,
          3,
          4,
          5,
          6,
          7,
          8,
          9,
          10,
          11,
          12,
          13,
          14,
          15,
          16,
          17,
          18,
          19,
          20
         ],
         "y": [
          10.29203596780748,
          9.40568204537049,
          9.666908876843006,
          9.460132662175212,
          6.655673493375112,
          6.767951950380633,
          7.094843399709619,
          4.288152077396916,
          4.409090104620981,
          6.738075500614088,
          5.2314852060730965,
          6.578522500792022,
          5.547755715162403,
          5.324058779183971,
          5.495294759725696,
          4.458948087225975,
          6.827140319262509,
          4.978370401695375,
          4.103584924439134,
          5.2239494922612435,
          3.976532544377866
         ]
        },
        {
         "line": {
          "color": "gray",
          "width": 1.5
         },
         "marker": {
          "color": "gray",
          "size": 8,
          "symbol": "circle"
         },
         "mode": "markers+lines",
         "name": "Surname 14",
         "opacity": 0.4,
         "type": "scatter",
         "x": [
          0,
          1,
          2,
          3,
          4,
          5,
          6,
          7,
          8,
          9,
          10,
          11,
          12,
          13,
          14,
          15,
          16,
          17,
          18,
          19,
          20
         ],
         "y": [
          7.801504433894293,
          5.81207216246376,
          6.637874909426561,
          7.068970924229284,
          7.000815712483482,
          4.555775029230736,
          5.778750239610413,
          5.056533205557346,
          6.359970748915934,
          6.409653809988081,
          5.68440795746339,
          4.227159971430571,
          5.186415918439242,
          6.728611644889612,
          5.561503697120293,
          5.6342724091509915,
          5.683398689127216,
          4.515150393581714,
          3.8087006518336732,
          6.294330601747821,
          6.784176691025332
         ]
        },
        {
         "line": {
          "color": "gray",
          "width": 1.5
         },
         "marker": {
          "color": "gray",
          "size": 8,
          "symbol": "circle"
         },
         "mode": "markers+lines",
         "name": "Surname 15",
         "opacity": 0.4,
         "type": "scatter",
         "x": [
          0,
          1,
          2,
          3,
          4,
          5,
          6,
          7,
          8,
          9,
          10,
          11,
          12,
          13,
          14,
          15,
          16,
          17,
          18,
          19,
          20
         ],
         "y": [
          9.008603380101393,
          7.043779618898361,
          8.435240688093101,
          5.471836870654958,
          7.15311469544388,
          5.805976154864392,
          7.018159663933495,
          6.857553849636039,
          4.596462732095696,
          6.177879839123524,
          4.839123472242311,
          5.060771092926668,
          4.287038041472955,
          6.379959862117151,
          5.430233509692942,
          5.170417132309591,
          5.592679157088324,
          5.072039865485438,
          3.8913143013853753,
          5.224278250878579,
          6.633628577041792
         ]
        },
        {
         "line": {
          "color": "gray",
          "width": 1.5
         },
         "marker": {
          "color": "gray",
          "size": 8,
          "symbol": "circle"
         },
         "mode": "markers+lines",
         "name": "Surname 16",
         "opacity": 0.4,
         "type": "scatter",
         "x": [
          0,
          1,
          2,
          3,
          4,
          5,
          6,
          7,
          8,
          9,
          10,
          11,
          12,
          13,
          14,
          15,
          16,
          17,
          18,
          19,
          20
         ],
         "y": [
          8.771653355934559,
          8.42182798793358,
          6.407298490445531,
          8.824384791263718,
          6.245428735066272,
          6.7837360780148845,
          4.806310126573451,
          5.208676295697137,
          4.910662715724725,
          6.933009310191393,
          4.858788436301546,
          7.761450208182264,
          5.266775589278885,
          4.8216434517989,
          6.1879477217825976,
          4.710363557641417,
          5.371105634106268,
          7.428891512510587,
          6.270754874289084,
          5.64972039600332,
          3.4010213928530657
         ]
        },
        {
         "line": {
          "color": "gray",
          "width": 1.5
         },
         "marker": {
          "color": "gray",
          "size": 8,
          "symbol": "circle"
         },
         "mode": "markers+lines",
         "name": "Surname 17",
         "opacity": 0.4,
         "type": "scatter",
         "x": [
          0,
          1,
          2,
          3,
          4,
          5,
          6,
          7,
          8,
          9,
          10,
          11,
          12,
          13,
          14,
          15,
          16,
          17,
          18,
          19,
          20
         ],
         "y": [
          10.433174510782292,
          10.274141414244989,
          9.727489039794948,
          9.156341702779716,
          8.094687840450113,
          6.238978035239641,
          8.361085885526734,
          7.482552240982588,
          5.971849121050812,
          7.577133337415611,
          5.736466816629356,
          6.151699575791282,
          5.031163189227084,
          5.400335250797225,
          5.147321810742969,
          4.611863932213682,
          4.725684261988576,
          5.969479145717101,
          7.326002063501609,
          6.155181852895767,
          7.074951883120884
         ]
        },
        {
         "line": {
          "color": "gray",
          "width": 1.5
         },
         "marker": {
          "color": "gray",
          "size": 8,
          "symbol": "circle"
         },
         "mode": "markers+lines",
         "name": "Surname 18",
         "opacity": 0.4,
         "type": "scatter",
         "x": [
          0,
          1,
          2,
          3,
          4,
          5,
          6,
          7,
          8,
          9,
          10,
          11,
          12,
          13,
          14,
          15,
          16,
          17,
          18,
          19,
          20
         ],
         "y": [
          9.382158159326172,
          7.837156998548463,
          7.621126522442265,
          7.505207843248466,
          6.495184300820532,
          3.8565531359376104,
          4.987592861763798,
          5.707986624600736,
          4.744656386840342,
          4.911946365314767,
          5.227756358578134,
          6.1274885070438945,
          3.3492418219534956,
          3.4952723921614535,
          5.129282266050185,
          4.429500322362529,
          4.202587584996835,
          5.917161008894755,
          6.426697836099357,
          5.509797509629663,
          3.667817952967437
         ]
        },
        {
         "line": {
          "color": "gray",
          "width": 1.5
         },
         "marker": {
          "color": "gray",
          "size": 8,
          "symbol": "circle"
         },
         "mode": "markers+lines",
         "name": "Surname 19",
         "opacity": 0.4,
         "type": "scatter",
         "x": [
          0,
          1,
          2,
          3,
          4,
          5,
          6,
          7,
          8,
          9,
          10,
          11,
          12,
          13,
          14,
          15,
          16,
          17,
          18,
          19,
          20
         ],
         "y": [
          7.971955305639344,
          6.163517621110289,
          7.301287239208735,
          7.00733221499379,
          5.13332321788215,
          5.3037669632869315,
          6.769634964130304,
          7.05027807568254,
          5.020654568073714,
          5.118518496745554,
          5.663753076481507,
          5.526060277840467,
          4.419311645189117,
          5.74174920028322,
          5.1366269836639145,
          5.494122671417467,
          8.365062477573202,
          3.8134651150884826,
          5.719703375861986,
          4.673231431032111,
          5.201318764294305
         ]
        },
        {
         "line": {
          "color": "gray",
          "width": 1.5
         },
         "marker": {
          "color": "gray",
          "size": 8,
          "symbol": "circle"
         },
         "mode": "markers+lines",
         "name": "Surname 20",
         "opacity": 0.4,
         "type": "scatter",
         "x": [
          0,
          1,
          2,
          3,
          4,
          5,
          6,
          7,
          8,
          9,
          10,
          11,
          12,
          13,
          14,
          15,
          16,
          17,
          18,
          19,
          20
         ],
         "y": [
          11.828805357528228,
          9.056428597303302,
          7.440126671987256,
          6.65972483761907,
          7.114794672137087,
          6.755441087499841,
          6.0820064964124105,
          4.394198151778139,
          6.748012135969707,
          6.72670458370559,
          5.0858235503182625,
          5.39916378262636,
          4.84203595622118,
          4.893265103322042,
          5.724315188105905,
          4.391498590387268,
          4.467247406870988,
          4.884574253146094,
          6.872251582507527,
          3.6023588614778568,
          3.860232000184348
         ]
        },
        {
         "line": {
          "color": "gray",
          "width": 1.5
         },
         "marker": {
          "color": "gray",
          "size": 8,
          "symbol": "circle"
         },
         "mode": "markers+lines",
         "name": "Surname 21",
         "opacity": 0.4,
         "type": "scatter",
         "x": [
          0,
          1,
          2,
          3,
          4,
          5,
          6,
          7,
          8,
          9,
          10,
          11,
          12,
          13,
          14,
          15,
          16,
          17,
          18,
          19,
          20
         ],
         "y": [
          11.15696688883532,
          11.083062212416005,
          8.412786326794645,
          8.501299036307206,
          6.9673635315150415,
          4.767111781334494,
          6.517616198905208,
          7.383177686578854,
          5.664317021678627,
          5.242742580065437,
          6.659157263206046,
          6.451440171794953,
          5.058034925503968,
          4.004319190258528,
          3.156724956444428,
          4.6214855033028925,
          5.164366036436875,
          3.885795955859342,
          5.2963737561502064,
          4.0830625381727605,
          4.050647070380494
         ]
        },
        {
         "line": {
          "color": "gray",
          "width": 1.5
         },
         "marker": {
          "color": "gray",
          "size": 8,
          "symbol": "circle"
         },
         "mode": "markers+lines",
         "name": "Surname 22",
         "opacity": 0.4,
         "type": "scatter",
         "x": [
          0,
          1,
          2,
          3,
          4,
          5,
          6,
          7,
          8,
          9,
          10,
          11,
          12,
          13,
          14,
          15,
          16,
          17,
          18,
          19,
          20
         ],
         "y": [
          10.23203406335163,
          9.38749357312324,
          6.773072389251813,
          8.087726573044039,
          6.566917883334729,
          7.33936002299341,
          7.632805011515185,
          7.735836164867044,
          5.691263191335917,
          4.7360599837175075,
          6.235950370289449,
          6.559402011101479,
          4.730519695285044,
          4.876904329436315,
          6.372065915200949,
          3.918844514347955,
          5.540797742016082,
          5.736600952310637,
          5.092918170291009,
          6.10295004622571,
          5.171885464070297
         ]
        },
        {
         "line": {
          "color": "gray",
          "width": 1.5
         },
         "marker": {
          "color": "gray",
          "size": 8,
          "symbol": "circle"
         },
         "mode": "markers+lines",
         "name": "Surname 23",
         "opacity": 0.4,
         "type": "scatter",
         "x": [
          0,
          1,
          2,
          3,
          4,
          5,
          6,
          7,
          8,
          9,
          10,
          11,
          12,
          13,
          14,
          15,
          16,
          17,
          18,
          19,
          20
         ],
         "y": [
          11.33060800341918,
          10.839609910858714,
          9.26288970984533,
          8.149253953694494,
          7.263400652416001,
          7.650671252282167,
          6.5917348388103765,
          6.8448940111772485,
          4.802417145475796,
          4.546701087170291,
          4.864657039528719,
          4.684290854896019,
          6.033043389297629,
          5.622635785110992,
          5.33376014523814,
          5.9275076713481445,
          2.6892672924379273,
          4.431444288389973,
          6.927813073420459,
          4.425383855003787,
          5.5087449011630065
         ]
        },
        {
         "line": {
          "color": "gray",
          "width": 1.5
         },
         "marker": {
          "color": "gray",
          "size": 8,
          "symbol": "circle"
         },
         "mode": "markers+lines",
         "name": "Surname 24",
         "opacity": 0.4,
         "type": "scatter",
         "x": [
          0,
          1,
          2,
          3,
          4,
          5,
          6,
          7,
          8,
          9,
          10,
          11,
          12,
          13,
          14,
          15,
          16,
          17,
          18,
          19,
          20
         ],
         "y": [
          12.611753499670362,
          9.50710988571493,
          8.634657781361812,
          9.123255013280442,
          6.616661435948308,
          6.800207342502505,
          7.82055178851497,
          5.622455838505659,
          5.472598858111182,
          6.650362472666633,
          6.26159588951461,
          6.286588828182329,
          5.5170877557426525,
          6.205541342752461,
          6.740637777190312,
          2.4796702587472557,
          4.19405822935734,
          4.924986192189891,
          5.574809241458049,
          4.252504484980369,
          5.220141922186337
         ]
        },
        {
         "line": {
          "color": "gray",
          "width": 1.5
         },
         "marker": {
          "color": "gray",
          "size": 8,
          "symbol": "circle"
         },
         "mode": "markers+lines",
         "name": "Surname 25",
         "opacity": 0.4,
         "type": "scatter",
         "x": [
          0,
          1,
          2,
          3,
          4,
          5,
          6,
          7,
          8,
          9,
          10,
          11,
          12,
          13,
          14,
          15,
          16,
          17,
          18,
          19,
          20
         ],
         "y": [
          9.541007971448673,
          10.906180126810073,
          9.51973709252682,
          6.69321371817119,
          6.3185325198638544,
          6.081036543926429,
          7.210277603434882,
          5.65362341152991,
          4.912447713740368,
          7.410585278188352,
          5.788663472580434,
          4.565865176803364,
          6.488035052198116,
          6.435571506777907,
          4.668710952651765,
          3.930540571908346,
          5.677647927856011,
          3.5767333285612866,
          4.422237047974819,
          3.8686452206125037,
          5.074093469654331
         ]
        },
        {
         "line": {
          "color": "gray",
          "width": 1.5
         },
         "marker": {
          "color": "gray",
          "size": 8,
          "symbol": "circle"
         },
         "mode": "markers+lines",
         "name": "Surname 26",
         "opacity": 0.4,
         "type": "scatter",
         "x": [
          0,
          1,
          2,
          3,
          4,
          5,
          6,
          7,
          8,
          9,
          10,
          11,
          12,
          13,
          14,
          15,
          16,
          17,
          18,
          19,
          20
         ],
         "y": [
          13.509461591919743,
          11.84389869655977,
          10.287254989817205,
          5.738053416162344,
          7.337328628565853,
          7.821589465459258,
          6.9248177668520885,
          7.918103979511467,
          6.188929110530079,
          6.57166797971535,
          6.720174135532671,
          6.389764463964177,
          4.972511485095238,
          4.1616801142400055,
          6.107530207122303,
          6.332302252311859,
          5.545080498903552,
          4.89203938388559,
          4.8524959240170995,
          6.721728066909451,
          5.500761385839164
         ]
        },
        {
         "line": {
          "color": "gray",
          "width": 1.5
         },
         "marker": {
          "color": "gray",
          "size": 8,
          "symbol": "circle"
         },
         "mode": "markers+lines",
         "name": "Surname 27",
         "opacity": 0.4,
         "type": "scatter",
         "x": [
          0,
          1,
          2,
          3,
          4,
          5,
          6,
          7,
          8,
          9,
          10,
          11,
          12,
          13,
          14,
          15,
          16,
          17,
          18,
          19,
          20
         ],
         "y": [
          8.021150269002314,
          8.867621564195543,
          6.862866476641024,
          7.529438433095509,
          7.905520194192991,
          6.335900424069617,
          6.321234791582087,
          5.690770248327485,
          5.43875008700974,
          7.41556313311984,
          5.565705396770434,
          4.564198694876818,
          4.615501454642162,
          5.995225939317604,
          6.540017279743768,
          5.099278898875115,
          6.138475809250887,
          4.086155533704717,
          7.01921658999718,
          5.822085183800368,
          3.661903726504434
         ]
        },
        {
         "line": {
          "color": "gray",
          "width": 1.5
         },
         "marker": {
          "color": "gray",
          "size": 8,
          "symbol": "circle"
         },
         "mode": "markers+lines",
         "name": "Surname 28",
         "opacity": 0.4,
         "type": "scatter",
         "x": [
          0,
          1,
          2,
          3,
          4,
          5,
          6,
          7,
          8,
          9,
          10,
          11,
          12,
          13,
          14,
          15,
          16,
          17,
          18,
          19,
          20
         ],
         "y": [
          8.28626068887371,
          7.722474101407499,
          5.733852481177605,
          6.0741498383801975,
          6.834516677181295,
          5.554581940251331,
          4.856186510352572,
          7.801059660128866,
          5.563689064820347,
          6.180877184220366,
          3.504503103099431,
          5.65365651911797,
          5.178331251300741,
          5.385946815232299,
          6.164638228169133,
          4.220665643589834,
          6.712908578530319,
          3.8244188818622202,
          5.616519897191325,
          4.651290696325147,
          5.500003884686227
         ]
        },
        {
         "line": {
          "color": "gray",
          "width": 1.5
         },
         "marker": {
          "color": "gray",
          "size": 8,
          "symbol": "circle"
         },
         "mode": "markers+lines",
         "name": "Surname 29",
         "opacity": 0.4,
         "type": "scatter",
         "x": [
          0,
          1,
          2,
          3,
          4,
          5,
          6,
          7,
          8,
          9,
          10,
          11,
          12,
          13,
          14,
          15,
          16,
          17,
          18,
          19,
          20
         ],
         "y": [
          11.905033065067917,
          11.313650458543245,
          9.568972188514156,
          8.893906811313487,
          6.868184578770439,
          7.96980178321506,
          5.939331782752128,
          7.5763337466878555,
          6.676156182743529,
          6.2044390422599545,
          7.140600046321233,
          4.90425614764024,
          6.776700388863704,
          5.757657907069738,
          6.918298975100481,
          4.851832388672852,
          6.325167798387794,
          4.842176948910894,
          3.520741262149516,
          4.336778854376087,
          5.672808947561357
         ]
        },
        {
         "line": {
          "color": "gray",
          "width": 1.5
         },
         "marker": {
          "color": "gray",
          "size": 8,
          "symbol": "circle"
         },
         "mode": "markers+lines",
         "name": "Surname 30",
         "opacity": 0.4,
         "type": "scatter",
         "x": [
          0,
          1,
          2,
          3,
          4,
          5,
          6,
          7,
          8,
          9,
          10,
          11,
          12,
          13,
          14,
          15,
          16,
          17,
          18,
          19,
          20
         ],
         "y": [
          9.372886136289956,
          8.67623470282886,
          7.3149227703547846,
          8.812636707890658,
          7.4550288818810975,
          6.054020279003019,
          5.543380012289004,
          5.873452644023045,
          5.24579778392141,
          5.149369121286472,
          3.988944768033823,
          6.406591409398848,
          4.948057997403524,
          5.338551031174641,
          6.445624970120286,
          4.737581132516864,
          3.7262378272182315,
          3.6279383558595084,
          4.914975432354611,
          4.790879932775084,
          3.697505833822117
         ]
        },
        {
         "line": {
          "color": "gray",
          "width": 1.5
         },
         "marker": {
          "color": "gray",
          "size": 8,
          "symbol": "circle"
         },
         "mode": "markers+lines",
         "name": "Surname 31",
         "opacity": 0.4,
         "type": "scatter",
         "x": [
          0,
          1,
          2,
          3,
          4,
          5,
          6,
          7,
          8,
          9,
          10,
          11,
          12,
          13,
          14,
          15,
          16,
          17,
          18,
          19,
          20
         ],
         "y": [
          10.499532964472932,
          7.153787391043714,
          6.338834605399681,
          7.061725713373444,
          7.393442535285942,
          7.0700017186157655,
          6.5161638463583405,
          6.258213727609176,
          4.907298127259292,
          6.7597171120494055,
          5.503758622036081,
          4.623219270708402,
          4.294096624110851,
          5.126832431520428,
          4.624884912585115,
          4.306974903017906,
          5.127974155565425,
          4.284782094222247,
          6.629709667031608,
          4.462238838689322,
          5.7484882033697104
         ]
        },
        {
         "line": {
          "color": "gray",
          "width": 1.5
         },
         "marker": {
          "color": "gray",
          "size": 8,
          "symbol": "circle"
         },
         "mode": "markers+lines",
         "name": "Surname 32",
         "opacity": 0.4,
         "type": "scatter",
         "x": [
          0,
          1,
          2,
          3,
          4,
          5,
          6,
          7,
          8,
          9,
          10,
          11,
          12,
          13,
          14,
          15,
          16,
          17,
          18,
          19,
          20
         ],
         "y": [
          6.202754780090336,
          6.920335443964177,
          5.641081846627489,
          7.398077643729281,
          6.002482602841624,
          6.445941221579646,
          3.84006718206128,
          5.250456761667978,
          5.933128927060397,
          5.81301489705042,
          5.451956447301141,
          5.7520298603565845,
          4.1605064781348275,
          5.415659876969533,
          6.3252104808130385,
          4.1592752973382785,
          4.692709882393944,
          7.3671937992966745,
          4.700901601954528,
          4.6446224908175235,
          6.78882713837563
         ]
        },
        {
         "line": {
          "color": "gray",
          "width": 1.5
         },
         "marker": {
          "color": "gray",
          "size": 8,
          "symbol": "circle"
         },
         "mode": "markers+lines",
         "name": "Surname 33",
         "opacity": 0.4,
         "type": "scatter",
         "x": [
          0,
          1,
          2,
          3,
          4,
          5,
          6,
          7,
          8,
          9,
          10,
          11,
          12,
          13,
          14,
          15,
          16,
          17,
          18,
          19,
          20
         ],
         "y": [
          7.361703669424118,
          8.615541639392314,
          8.250521453769249,
          6.966708908557266,
          8.943530549243594,
          4.736226154466638,
          3.610817066598642,
          6.668797509190957,
          8.439950986633551,
          6.320450117698573,
          5.378365771243917,
          6.602867643850345,
          4.6152526089038215,
          5.205897038156504,
          6.292369696406599,
          4.844912190982717,
          6.140794952852938,
          5.608599769665785,
          2.9833025708990433,
          6.7994671328407605,
          5.473163241801029
         ]
        },
        {
         "line": {
          "color": "gray",
          "width": 1.5
         },
         "marker": {
          "color": "gray",
          "size": 8,
          "symbol": "circle"
         },
         "mode": "markers+lines",
         "name": "Surname 34",
         "opacity": 0.4,
         "type": "scatter",
         "x": [
          0,
          1,
          2,
          3,
          4,
          5,
          6,
          7,
          8,
          9,
          10,
          11,
          12,
          13,
          14,
          15,
          16,
          17,
          18,
          19,
          20
         ],
         "y": [
          7.484906724542482,
          5.953329549211587,
          7.526234821154903,
          5.86742692123775,
          8.104343045823788,
          4.896345000113032,
          3.941422567126345,
          5.994675028267766,
          5.522846819483088,
          5.0095848421503195,
          6.241912532578162,
          5.0151274378403805,
          7.68228775087107,
          4.533297312276128,
          4.868667402862586,
          5.02502600149143,
          5.100328785890205,
          4.266431888928366,
          4.916593430942351,
          5.098668874221262,
          3.995601614315712
         ]
        },
        {
         "line": {
          "color": "gray",
          "width": 1.5
         },
         "marker": {
          "color": "gray",
          "size": 8,
          "symbol": "circle"
         },
         "mode": "markers+lines",
         "name": "Surname 35",
         "opacity": 0.4,
         "type": "scatter",
         "x": [
          0,
          1,
          2,
          3,
          4,
          5,
          6,
          7,
          8,
          9,
          10,
          11,
          12,
          13,
          14,
          15,
          16,
          17,
          18,
          19,
          20
         ],
         "y": [
          10.993823559918008,
          7.976043496847451,
          9.85269996330172,
          7.96880427552213,
          8.06225146831145,
          6.318816826858784,
          7.553373410201515,
          8.284181430880658,
          6.110412494869475,
          5.017621445660971,
          7.6887749359706365,
          4.167838774932014,
          6.388849221969544,
          4.221386418691322,
          5.506137536179944,
          5.285231292511375,
          3.91220519589167,
          4.830037491033879,
          4.021985213642956,
          7.024381367389341,
          6.839385414657988
         ]
        },
        {
         "line": {
          "color": "gray",
          "width": 1.5
         },
         "marker": {
          "color": "gray",
          "size": 8,
          "symbol": "circle"
         },
         "mode": "markers+lines",
         "name": "Surname 36",
         "opacity": 0.4,
         "type": "scatter",
         "x": [
          0,
          1,
          2,
          3,
          4,
          5,
          6,
          7,
          8,
          9,
          10,
          11,
          12,
          13,
          14,
          15,
          16,
          17,
          18,
          19,
          20
         ],
         "y": [
          6.366777967211927,
          6.628876852997641,
          6.119968349319228,
          5.445328691383397,
          7.092838350943762,
          5.602941609394075,
          4.389426743071931,
          6.530719349597,
          6.118217366407496,
          5.126102737331363,
          4.37447745100746,
          4.917401019305021,
          4.750210032762444,
          5.767845311104451,
          5.50867523924609,
          5.7711789686019195,
          5.256539881501251,
          4.8607284877649155,
          6.182663047947187,
          4.547866532531112,
          4.174878424670726
         ]
        },
        {
         "line": {
          "color": "gray",
          "width": 1.5
         },
         "marker": {
          "color": "gray",
          "size": 8,
          "symbol": "circle"
         },
         "mode": "markers+lines",
         "name": "Surname 37",
         "opacity": 0.4,
         "type": "scatter",
         "x": [
          0,
          1,
          2,
          3,
          4,
          5,
          6,
          7,
          8,
          9,
          10,
          11,
          12,
          13,
          14,
          15,
          16,
          17,
          18,
          19,
          20
         ],
         "y": [
          8.868324726026215,
          8.106627197796207,
          7.650064310114001,
          6.18090428751634,
          7.764282418084155,
          5.701545355171811,
          4.648921807743503,
          6.380061974106057,
          5.982666111898251,
          6.755486469793774,
          6.083873476605026,
          6.896849647470802,
          4.854588476757752,
          6.079810163122242,
          5.0925181270943405,
          5.4835457428610805,
          4.346804304511993,
          5.759494063023835,
          4.451232014644476,
          5.365140844527017,
          5.591416509780975
         ]
        },
        {
         "line": {
          "color": "gray",
          "width": 1.5
         },
         "marker": {
          "color": "gray",
          "size": 8,
          "symbol": "circle"
         },
         "mode": "markers+lines",
         "name": "Surname 38",
         "opacity": 0.4,
         "type": "scatter",
         "x": [
          0,
          1,
          2,
          3,
          4,
          5,
          6,
          7,
          8,
          9,
          10,
          11,
          12,
          13,
          14,
          15,
          16,
          17,
          18,
          19,
          20
         ],
         "y": [
          11.911841070258546,
          8.85692635984913,
          8.190576148651417,
          5.982665737179422,
          6.583191175993783,
          7.348909677907453,
          8.628756388356704,
          6.425463124105366,
          6.5353969001357735,
          6.173827620682216,
          4.839449414004337,
          7.012403051889288,
          4.605126149196269,
          4.984876147219741,
          6.731862507772465,
          5.5332559966843675,
          4.389441690968513,
          5.109078970998101,
          3.2341782370880146,
          4.65840927908614,
          5.458580167585751
         ]
        },
        {
         "line": {
          "color": "gray",
          "width": 1.5
         },
         "marker": {
          "color": "gray",
          "size": 8,
          "symbol": "circle"
         },
         "mode": "markers+lines",
         "name": "Surname 39",
         "opacity": 0.4,
         "type": "scatter",
         "x": [
          0,
          1,
          2,
          3,
          4,
          5,
          6,
          7,
          8,
          9,
          10,
          11,
          12,
          13,
          14,
          15,
          16,
          17,
          18,
          19,
          20
         ],
         "y": [
          6.557131007197654,
          7.403224211499819,
          9.580821011959735,
          8.6302665347169,
          8.680438745033909,
          6.762309344320277,
          5.397267867454923,
          7.979614363516893,
          6.643245677924212,
          5.496042611819693,
          4.516545756503212,
          5.840316513251066,
          4.985732559253526,
          5.551142133205657,
          6.509681566535701,
          6.291941359313226,
          6.041159187449633,
          5.704520174061664,
          5.281473490233461,
          4.617508412300612,
          6.126767548844145
         ]
        },
        {
         "line": {
          "color": "gray",
          "width": 1.5
         },
         "marker": {
          "color": "gray",
          "size": 8,
          "symbol": "circle"
         },
         "mode": "markers+lines",
         "name": "Surname 40",
         "opacity": 0.4,
         "type": "scatter",
         "x": [
          0,
          1,
          2,
          3,
          4,
          5,
          6,
          7,
          8,
          9,
          10,
          11,
          12,
          13,
          14,
          15,
          16,
          17,
          18,
          19,
          20
         ],
         "y": [
          12.00523207488014,
          8.779404324682035,
          10.247330606198712,
          8.281818706666591,
          8.638652832190813,
          5.966136070553654,
          7.353600367748419,
          7.92555922499916,
          6.953579209261546,
          6.215420372601599,
          6.927492660092181,
          5.89118639765812,
          6.964781262260133,
          8.569030209892961,
          7.112775689450305,
          4.954743340884225,
          5.37141807651564,
          4.79947229022117,
          4.5569260619305405,
          6.1468180887648085,
          4.226087016577548
         ]
        },
        {
         "line": {
          "color": "gray",
          "width": 1.5
         },
         "marker": {
          "color": "gray",
          "size": 8,
          "symbol": "circle"
         },
         "mode": "markers+lines",
         "name": "Surname 41",
         "opacity": 0.4,
         "type": "scatter",
         "x": [
          0,
          1,
          2,
          3,
          4,
          5,
          6,
          7,
          8,
          9,
          10,
          11,
          12,
          13,
          14,
          15,
          16,
          17,
          18,
          19,
          20
         ],
         "y": [
          11.943784415996543,
          9.723688984355135,
          9.995680682934797,
          8.0817540380857,
          7.083864378797973,
          7.5143543806466715,
          6.3038797799225055,
          6.585379338587271,
          4.728078317762794,
          5.81431852215232,
          4.783479081522715,
          5.993432690202331,
          4.672616913923125,
          3.4183145668367194,
          4.992062562548475,
          4.222613308390518,
          6.791272132698563,
          6.244079688585694,
          5.461688353202391,
          4.251908331495591,
          5.122410584227082
         ]
        },
        {
         "line": {
          "color": "gray",
          "width": 1.5
         },
         "marker": {
          "color": "gray",
          "size": 8,
          "symbol": "circle"
         },
         "mode": "markers+lines",
         "name": "Surname 42",
         "opacity": 0.4,
         "type": "scatter",
         "x": [
          0,
          1,
          2,
          3,
          4,
          5,
          6,
          7,
          8,
          9,
          10,
          11,
          12,
          13,
          14,
          15,
          16,
          17,
          18,
          19,
          20
         ],
         "y": [
          10.08981722965417,
          9.053868562681313,
          8.809339025705755,
          7.268361341823753,
          6.873920129347254,
          5.531422674553476,
          6.779242305551867,
          7.833982489736402,
          6.306963372858355,
          5.2312598805920745,
          5.470311138966243,
          6.739482132688143,
          5.144634463864538,
          5.82801841480345,
          6.155229493052505,
          5.973822965806793,
          5.977707737790363,
          5.288996258982805,
          4.169510153178367,
          6.09176678424632,
          3.302458692088976
         ]
        },
        {
         "line": {
          "color": "gray",
          "width": 1.5
         },
         "marker": {
          "color": "gray",
          "size": 8,
          "symbol": "circle"
         },
         "mode": "markers+lines",
         "name": "Surname 43",
         "opacity": 0.4,
         "type": "scatter",
         "x": [
          0,
          1,
          2,
          3,
          4,
          5,
          6,
          7,
          8,
          9,
          10,
          11,
          12,
          13,
          14,
          15,
          16,
          17,
          18,
          19,
          20
         ],
         "y": [
          10.025231693148308,
          11.409387388150687,
          7.907193236026514,
          4.960140283381199,
          5.7004547307965465,
          6.262466831057112,
          4.666778203187652,
          5.365506674978986,
          4.508799701103463,
          4.959069697530169,
          5.856600849208765,
          6.613541054142863,
          4.507222161562323,
          4.00893276846873,
          6.064332764467544,
          4.86433749871304,
          4.346238598998942,
          6.662956560874165,
          4.1190658992535525,
          5.496123276280501,
          3.4933607979452628
         ]
        },
        {
         "line": {
          "color": "gray",
          "width": 1.5
         },
         "marker": {
          "color": "gray",
          "size": 8,
          "symbol": "circle"
         },
         "mode": "markers+lines",
         "name": "Surname 44",
         "opacity": 0.4,
         "type": "scatter",
         "x": [
          0,
          1,
          2,
          3,
          4,
          5,
          6,
          7,
          8,
          9,
          10,
          11,
          12,
          13,
          14,
          15,
          16,
          17,
          18,
          19,
          20
         ],
         "y": [
          10.145864108488011,
          9.597345925334865,
          8.191658636992022,
          9.023778070794624,
          6.340969820857957,
          5.29116009881721,
          5.899477084470406,
          5.938296521699651,
          5.790383077498544,
          6.716265973770305,
          5.489633040523194,
          6.23173025225079,
          5.124224266727251,
          5.040906967951096,
          4.94779972144512,
          7.3330024893356285,
          4.8198685168829964,
          5.358365121437487,
          5.079476793386932,
          5.121666459575101,
          5.867236518701112
         ]
        },
        {
         "line": {
          "color": "gray",
          "width": 1.5
         },
         "marker": {
          "color": "gray",
          "size": 8,
          "symbol": "circle"
         },
         "mode": "markers+lines",
         "name": "Surname 45",
         "opacity": 0.4,
         "type": "scatter",
         "x": [
          0,
          1,
          2,
          3,
          4,
          5,
          6,
          7,
          8,
          9,
          10,
          11,
          12,
          13,
          14,
          15,
          16,
          17,
          18,
          19,
          20
         ],
         "y": [
          10.12266363401687,
          10.071201868071821,
          8.50578783986666,
          8.659636219863339,
          8.057466357510133,
          8.114403284206396,
          6.496452143237697,
          7.306117080719671,
          5.765069822737011,
          7.733856791509043,
          6.317362055201449,
          6.336353710466849,
          7.861862096890318,
          5.613410125241334,
          4.871664303135949,
          5.421594905860588,
          4.0814275035244245,
          4.5128254316731855,
          7.48410297671986,
          4.69009576808857,
          5.272060872555549
         ]
        },
        {
         "line": {
          "color": "gray",
          "width": 1.5
         },
         "marker": {
          "color": "gray",
          "size": 8,
          "symbol": "circle"
         },
         "mode": "markers+lines",
         "name": "Surname 46",
         "opacity": 0.4,
         "type": "scatter",
         "x": [
          0,
          1,
          2,
          3,
          4,
          5,
          6,
          7,
          8,
          9,
          10,
          11,
          12,
          13,
          14,
          15,
          16,
          17,
          18,
          19,
          20
         ],
         "y": [
          8.755321739968426,
          8.813835686685874,
          7.168941999435897,
          5.953459855702081,
          4.850306242170018,
          6.09551775195986,
          5.749002925391959,
          5.691160380854045,
          4.522020875223848,
          5.533606538364512,
          4.516443500402364,
          3.6925075432069923,
          7.457388086739261,
          3.5939258547871082,
          6.2068634292826985,
          4.302523670331537,
          5.4909952195738185,
          4.988918965267196,
          6.08927137455176,
          4.04954089948351,
          6.921870294450583
         ]
        },
        {
         "line": {
          "color": "gray",
          "width": 1.5
         },
         "marker": {
          "color": "gray",
          "size": 8,
          "symbol": "circle"
         },
         "mode": "markers+lines",
         "name": "Surname 47",
         "opacity": 0.4,
         "type": "scatter",
         "x": [
          0,
          1,
          2,
          3,
          4,
          5,
          6,
          7,
          8,
          9,
          10,
          11,
          12,
          13,
          14,
          15,
          16,
          17,
          18,
          19,
          20
         ],
         "y": [
          11.240726130022333,
          9.494258921045652,
          8.230170246758844,
          6.82145648891771,
          9.534387368575237,
          6.503012869447185,
          5.867436368325045,
          6.095920368408765,
          5.0385028830234395,
          6.01544022504017,
          5.74615557370043,
          4.202725846949605,
          6.330227855949006,
          5.900511696411891,
          4.143758793339187,
          4.106662709359127,
          5.201396364484921,
          4.767928732285567,
          6.063254729312225,
          3.1572034119535686,
          4.006949874339734
         ]
        },
        {
         "line": {
          "color": "gray",
          "width": 1.5
         },
         "marker": {
          "color": "gray",
          "size": 8,
          "symbol": "circle"
         },
         "mode": "markers+lines",
         "name": "Surname 48",
         "opacity": 0.4,
         "type": "scatter",
         "x": [
          0,
          1,
          2,
          3,
          4,
          5,
          6,
          7,
          8,
          9,
          10,
          11,
          12,
          13,
          14,
          15,
          16,
          17,
          18,
          19,
          20
         ],
         "y": [
          8.750914293913736,
          9.207918660595078,
          7.0074830307142,
          7.323112663728047,
          6.210613921233902,
          8.259451100622687,
          7.747143919673277,
          4.083213679119974,
          6.266058554109022,
          5.789501459881072,
          6.498971981017653,
          7.218362618658719,
          5.582597828444355,
          4.597852525277631,
          4.160570936358167,
          5.625219771258958,
          6.005251907498318,
          5.551173334116665,
          4.638917382946823,
          4.751809213973733,
          4.6913927383560425
         ]
        },
        {
         "line": {
          "color": "gray",
          "width": 1.5
         },
         "marker": {
          "color": "gray",
          "size": 8,
          "symbol": "circle"
         },
         "mode": "markers+lines",
         "name": "Surname 49",
         "opacity": 0.4,
         "type": "scatter",
         "x": [
          0,
          1,
          2,
          3,
          4,
          5,
          6,
          7,
          8,
          9,
          10,
          11,
          12,
          13,
          14,
          15,
          16,
          17,
          18,
          19,
          20
         ],
         "y": [
          11.671457384776847,
          10.153168767695192,
          9.513412221938971,
          6.971708878981066,
          7.592413531496938,
          7.294621608519561,
          9.128530223719409,
          8.159168757778836,
          7.227775060696699,
          7.215936937037865,
          5.142138404820845,
          5.406922217779172,
          6.055610527860479,
          5.936332619957636,
          5.929659377481951,
          4.802890206603033,
          5.977520305331035,
          6.596781093761504,
          5.453621775741149,
          6.74951615187287,
          2.742007304659061
         ]
        },
        {
         "line": {
          "color": "salmon",
          "width": 1.5
         },
         "marker": {
          "color": "salmon",
          "size": 8,
          "symbol": "x"
         },
         "mode": "markers+lines",
         "name": "Surname 50",
         "opacity": 0.4,
         "type": "scatter",
         "x": [
          0,
          1,
          2,
          3,
          4,
          5,
          6,
          7,
          8,
          9,
          10,
          11,
          12,
          13,
          14,
          15,
          16,
          17,
          18,
          19,
          20
         ],
         "y": [
          -13.380349750869248,
          -9.404782510591959,
          -7.451257779297361,
          -5.844173674211544,
          -5.0590515337271285,
          -2.4765511846734976,
          -1.9721900899183846,
          -0.08533423011399438,
          0.24180336702588032,
          0.8751502342750243,
          1.8488554286014052,
          1.6400319108790393,
          2.1640384855880352,
          1.8742595105656774,
          3.158855553552143,
          2.6801869544470973,
          2.8073263888535784,
          4.165047849839246,
          6.185860439355238,
          5.109811168744633,
          4.447751863788377
         ]
        },
        {
         "line": {
          "color": "salmon",
          "width": 1.5
         },
         "marker": {
          "color": "salmon",
          "size": 8,
          "symbol": "x"
         },
         "mode": "markers+lines",
         "name": "Surname 51",
         "opacity": 0.4,
         "type": "scatter",
         "x": [
          0,
          1,
          2,
          3,
          4,
          5,
          6,
          7,
          8,
          9,
          10,
          11,
          12,
          13,
          14,
          15,
          16,
          17,
          18,
          19,
          20
         ],
         "y": [
          -11.067330688762633,
          -6.862124454685466,
          -3.536907238297818,
          -0.7237941309410709,
          1.7700147450966028,
          2.473310409999913,
          1.8526499643607868,
          1.462874070120257,
          2.6648180824773426,
          1.8814422155785744,
          4.555287815099154,
          3.1870751331873572,
          3.9349601799411555,
          3.062924266964601,
          3.406484648497277,
          4.270791857796796,
          6.266949093171389,
          5.665985594031596,
          3.4230189272979765,
          4.50246213891247,
          4.037958135090512
         ]
        },
        {
         "line": {
          "color": "salmon",
          "width": 1.5
         },
         "marker": {
          "color": "salmon",
          "size": 8,
          "symbol": "x"
         },
         "mode": "markers+lines",
         "name": "Surname 52",
         "opacity": 0.4,
         "type": "scatter",
         "x": [
          0,
          1,
          2,
          3,
          4,
          5,
          6,
          7,
          8,
          9,
          10,
          11,
          12,
          13,
          14,
          15,
          16,
          17,
          18,
          19,
          20
         ],
         "y": [
          -9.521613612346002,
          -10.197530797353153,
          -5.504215862999896,
          -6.116288979653088,
          -4.115545781202237,
          -1.1912905395035978,
          0.3310572715750864,
          -0.18675740548203362,
          0.7577129072081787,
          2.3058802911911327,
          1.7703460632458485,
          3.2616943632343407,
          2.566349042821865,
          3.3658091625579525,
          1.132592271310271,
          5.446399588331361,
          6.500418818272094,
          4.133935282841063,
          5.307369373971002,
          4.11137672739753,
          3.0835595946463448
         ]
        },
        {
         "line": {
          "color": "salmon",
          "width": 1.5
         },
         "marker": {
          "color": "salmon",
          "size": 8,
          "symbol": "x"
         },
         "mode": "markers+lines",
         "name": "Surname 53",
         "opacity": 0.4,
         "type": "scatter",
         "x": [
          0,
          1,
          2,
          3,
          4,
          5,
          6,
          7,
          8,
          9,
          10,
          11,
          12,
          13,
          14,
          15,
          16,
          17,
          18,
          19,
          20
         ],
         "y": [
          -11.325353061542959,
          -8.736671948775577,
          -6.101190378817899,
          -2.2918822671129604,
          -1.1099566388643403,
          -1.470288903642247,
          0.43967328082037976,
          2.1984439519985997,
          3.646792972482472,
          2.631030295224023,
          2.302818002773246,
          3.9710458254373964,
          4.656218230515627,
          3.666115099507416,
          4.12072723251602,
          5.197715050206272,
          4.683610757068543,
          4.188388920710517,
          6.1758082427710175,
          5.100308910114336,
          5.466013449366828
         ]
        },
        {
         "line": {
          "color": "salmon",
          "width": 1.5
         },
         "marker": {
          "color": "salmon",
          "size": 8,
          "symbol": "x"
         },
         "mode": "markers+lines",
         "name": "Surname 54",
         "opacity": 0.4,
         "type": "scatter",
         "x": [
          0,
          1,
          2,
          3,
          4,
          5,
          6,
          7,
          8,
          9,
          10,
          11,
          12,
          13,
          14,
          15,
          16,
          17,
          18,
          19,
          20
         ],
         "y": [
          -9.229153394231645,
          -7.764560045473362,
          -5.861971209232841,
          -3.78858351378351,
          -0.07809145127494177,
          -1.809855832788519,
          -0.5398410232545043,
          0.4134002065994612,
          1.7639363675285766,
          2.973009010051872,
          3.120136737757378,
          2.6805890156229486,
          3.756875101321504,
          4.6050066854745895,
          5.309835890966585,
          3.7583542256685027,
          4.0317304817056145,
          4.204681601681266,
          5.103206600180122,
          5.400592990460803,
          5.122394354297661
         ]
        },
        {
         "line": {
          "color": "salmon",
          "width": 1.5
         },
         "marker": {
          "color": "salmon",
          "size": 8,
          "symbol": "x"
         },
         "mode": "markers+lines",
         "name": "Surname 55",
         "opacity": 0.4,
         "type": "scatter",
         "x": [
          0,
          1,
          2,
          3,
          4,
          5,
          6,
          7,
          8,
          9,
          10,
          11,
          12,
          13,
          14,
          15,
          16,
          17,
          18,
          19,
          20
         ],
         "y": [
          -14.542177980601476,
          -11.010619992082413,
          -9.977816828191997,
          -7.107967287102006,
          -5.087580903993578,
          -1.2392933502395134,
          -1.6711181508034452,
          -0.18340503439215644,
          0.560241363609193,
          1.69465539349174,
          3.1725444920869004,
          2.0097103148211537,
          2.23074526430967,
          4.32686405124767,
          2.852737384700787,
          1.7316912228504044,
          3.5207496601263566,
          4.8238782461079035,
          3.2423721699917762,
          5.023023427097887,
          4.106381375399014
         ]
        },
        {
         "line": {
          "color": "salmon",
          "width": 1.5
         },
         "marker": {
          "color": "salmon",
          "size": 8,
          "symbol": "x"
         },
         "mode": "markers+lines",
         "name": "Surname 56",
         "opacity": 0.4,
         "type": "scatter",
         "x": [
          0,
          1,
          2,
          3,
          4,
          5,
          6,
          7,
          8,
          9,
          10,
          11,
          12,
          13,
          14,
          15,
          16,
          17,
          18,
          19,
          20
         ],
         "y": [
          -6.2928350836081375,
          -4.480944555262586,
          -0.5797774715592556,
          -1.0840967100479266,
          -0.9464389159526843,
          2.0330441136386153,
          4.339740262759192,
          2.7454333638714554,
          2.882538680933799,
          3.232464541409604,
          4.22206812902457,
          5.241774828134275,
          5.814763695291012,
          3.495805409530303,
          4.88235705260438,
          3.1720346732082785,
          4.951690903394066,
          4.600051298680105,
          5.110106143541559,
          3.6156433679233126,
          5.604063249556379
         ]
        },
        {
         "line": {
          "color": "salmon",
          "width": 1.5
         },
         "marker": {
          "color": "salmon",
          "size": 8,
          "symbol": "x"
         },
         "mode": "markers+lines",
         "name": "Surname 57",
         "opacity": 0.4,
         "type": "scatter",
         "x": [
          0,
          1,
          2,
          3,
          4,
          5,
          6,
          7,
          8,
          9,
          10,
          11,
          12,
          13,
          14,
          15,
          16,
          17,
          18,
          19,
          20
         ],
         "y": [
          -9.092471013793233,
          -6.6752182761645225,
          -4.055862954869466,
          -0.5903585426332648,
          -0.4820610226613888,
          1.8218732301559035,
          2.0952885591832593,
          2.8237303374559697,
          2.5776851014170252,
          3.497793778965352,
          5.014335807498502,
          5.585926159591111,
          2.513738500057152,
          5.988202525181591,
          5.139551517249385,
          5.546229702760817,
          5.875567179353147,
          5.189405516918891,
          3.120335198063784,
          4.490064736289534,
          4.471295032389846
         ]
        },
        {
         "line": {
          "color": "salmon",
          "width": 1.5
         },
         "marker": {
          "color": "salmon",
          "size": 8,
          "symbol": "x"
         },
         "mode": "markers+lines",
         "name": "Surname 58",
         "opacity": 0.4,
         "type": "scatter",
         "x": [
          0,
          1,
          2,
          3,
          4,
          5,
          6,
          7,
          8,
          9,
          10,
          11,
          12,
          13,
          14,
          15,
          16,
          17,
          18,
          19,
          20
         ],
         "y": [
          -6.098922707198484,
          -1.7066201144795972,
          -0.27352067476788966,
          2.53514459710554,
          2.147535611998421,
          1.1937541785129524,
          4.7766180203968815,
          2.800351921620754,
          3.796961982980607,
          2.879439282877363,
          4.839048957644589,
          5.55161885103389,
          4.325833378493344,
          4.729856611494081,
          4.885118864487911,
          4.892071643816687,
          4.8119352047829365,
          5.275537068035253,
          4.828550492579819,
          4.520691697690915,
          5.9757951331229275
         ]
        },
        {
         "line": {
          "color": "salmon",
          "width": 1.5
         },
         "marker": {
          "color": "salmon",
          "size": 8,
          "symbol": "x"
         },
         "mode": "markers+lines",
         "name": "Surname 59",
         "opacity": 0.4,
         "type": "scatter",
         "x": [
          0,
          1,
          2,
          3,
          4,
          5,
          6,
          7,
          8,
          9,
          10,
          11,
          12,
          13,
          14,
          15,
          16,
          17,
          18,
          19,
          20
         ],
         "y": [
          -11.78740798253475,
          -7.52991058343527,
          -4.116207828005951,
          -1.7240604454711017,
          0.7985201819626739,
          1.9957859310670942,
          1.4307707931746063,
          3.6517203421979767,
          1.889487661611377,
          2.3697034907536247,
          3.235031492764494,
          5.339598089054772,
          3.500032565873172,
          5.539708069203148,
          5.896428689645167,
          5.301445492967913,
          5.611411908307331,
          4.542874180793924,
          5.181264822722174,
          4.463914987675224,
          4.534278735112939
         ]
        },
        {
         "line": {
          "color": "salmon",
          "width": 1.5
         },
         "marker": {
          "color": "salmon",
          "size": 8,
          "symbol": "x"
         },
         "mode": "markers+lines",
         "name": "Surname 60",
         "opacity": 0.4,
         "type": "scatter",
         "x": [
          0,
          1,
          2,
          3,
          4,
          5,
          6,
          7,
          8,
          9,
          10,
          11,
          12,
          13,
          14,
          15,
          16,
          17,
          18,
          19,
          20
         ],
         "y": [
          -7.941653704758685,
          -4.927141436539901,
          -0.3314753091114957,
          -2.6247157333388853,
          1.0703927677437788,
          1.298308764734766,
          1.020381450350175,
          3.322984387621443,
          3.508904510973066,
          2.697404991193904,
          3.4139726113949713,
          4.619582753780666,
          2.492398568311929,
          4.331745894346058,
          4.086262084250754,
          4.109097517143393,
          2.8054470815839276,
          5.215665782412835,
          4.824259724806602,
          5.582342295105424,
          3.557709033235186
         ]
        },
        {
         "line": {
          "color": "salmon",
          "width": 1.5
         },
         "marker": {
          "color": "salmon",
          "size": 8,
          "symbol": "x"
         },
         "mode": "markers+lines",
         "name": "Surname 61",
         "opacity": 0.4,
         "type": "scatter",
         "x": [
          0,
          1,
          2,
          3,
          4,
          5,
          6,
          7,
          8,
          9,
          10,
          11,
          12,
          13,
          14,
          15,
          16,
          17,
          18,
          19,
          20
         ],
         "y": [
          -10.632106270557493,
          -7.246705523356496,
          -4.023502703035558,
          -5.005956085429489,
          -1.1390491924728994,
          -0.814287085775212,
          0.9573161852551826,
          1.2916198486206176,
          2.9399148089158906,
          1.09079911511394,
          4.1956941731103115,
          2.088948748167821,
          4.479893610360949,
          4.28554227541777,
          5.566724835420556,
          3.9329151865360252,
          5.077394951388034,
          4.024443601241232,
          4.471176408457538,
          3.873923415857196,
          6.157080310103006
         ]
        },
        {
         "line": {
          "color": "salmon",
          "width": 1.5
         },
         "marker": {
          "color": "salmon",
          "size": 8,
          "symbol": "x"
         },
         "mode": "markers+lines",
         "name": "Surname 62",
         "opacity": 0.4,
         "type": "scatter",
         "x": [
          0,
          1,
          2,
          3,
          4,
          5,
          6,
          7,
          8,
          9,
          10,
          11,
          12,
          13,
          14,
          15,
          16,
          17,
          18,
          19,
          20
         ],
         "y": [
          -8.145610804895556,
          -4.594305964784954,
          -1.2474947612932248,
          -1.5025365365297978,
          0.6305580962719493,
          -0.2527227549868205,
          3.0086991798573175,
          2.2425076138183564,
          2.0616718597733223,
          3.4909566820396067,
          5.26844930648536,
          5.342522561813507,
          3.1599208679283777,
          3.4223979194871528,
          4.757863836831302,
          2.8282792451288707,
          6.321289556491701,
          4.782968687478747,
          4.813117264645584,
          3.7533030977732347,
          5.1805379269457115
         ]
        },
        {
         "line": {
          "color": "salmon",
          "width": 1.5
         },
         "marker": {
          "color": "salmon",
          "size": 8,
          "symbol": "x"
         },
         "mode": "markers+lines",
         "name": "Surname 63",
         "opacity": 0.4,
         "type": "scatter",
         "x": [
          0,
          1,
          2,
          3,
          4,
          5,
          6,
          7,
          8,
          9,
          10,
          11,
          12,
          13,
          14,
          15,
          16,
          17,
          18,
          19,
          20
         ],
         "y": [
          -11.017130675335624,
          -5.8398361676521535,
          -6.233347620175116,
          -2.6437569748244165,
          -0.8779851263735498,
          -0.062440848780443425,
          -0.35628956531405254,
          3.2149132468325767,
          1.4894058908904573,
          3.5157217961768468,
          4.242424346903045,
          4.508371411838409,
          3.1559589626010665,
          6.634818566708266,
          4.530806959124012,
          5.054461669543083,
          5.653512925451368,
          4.835913390108859,
          5.062851300938433,
          3.6654115077437686,
          5.055765041756253
         ]
        },
        {
         "line": {
          "color": "salmon",
          "width": 1.5
         },
         "marker": {
          "color": "salmon",
          "size": 8,
          "symbol": "x"
         },
         "mode": "markers+lines",
         "name": "Surname 64",
         "opacity": 0.4,
         "type": "scatter",
         "x": [
          0,
          1,
          2,
          3,
          4,
          5,
          6,
          7,
          8,
          9,
          10,
          11,
          12,
          13,
          14,
          15,
          16,
          17,
          18,
          19,
          20
         ],
         "y": [
          -6.506955419191586,
          -5.927894369004712,
          -3.916248031132528,
          -2.301988436439965,
          -1.0881670619138724,
          0.8876427749390574,
          0.3857725472700334,
          0.8782155660707117,
          3.6210996216822577,
          3.4990237414429695,
          0.8523832500552859,
          2.0312897460584014,
          4.381388404750702,
          6.049126609177627,
          6.519224791335041,
          5.093498948127439,
          3.622019666758178,
          3.5837666774874988,
          3.650990015370212,
          5.6187884686977645,
          5.817832159530643
         ]
        },
        {
         "line": {
          "color": "salmon",
          "width": 1.5
         },
         "marker": {
          "color": "salmon",
          "size": 8,
          "symbol": "x"
         },
         "mode": "markers+lines",
         "name": "Surname 65",
         "opacity": 0.4,
         "type": "scatter",
         "x": [
          0,
          1,
          2,
          3,
          4,
          5,
          6,
          7,
          8,
          9,
          10,
          11,
          12,
          13,
          14,
          15,
          16,
          17,
          18,
          19,
          20
         ],
         "y": [
          -14.710108306418313,
          -9.433694004723153,
          -6.205090729726367,
          -5.002123059611869,
          -2.9497342968347895,
          -1.6840380154035879,
          0.6303106348935552,
          2.1929471300183447,
          1.0711705045280373,
          0.5114634400257012,
          1.9689231385715704,
          3.6590409135215927,
          4.113299849765142,
          3.944740228783112,
          5.076786424304945,
          4.9959185925211465,
          2.5504727056183407,
          4.038639268698237,
          3.9784450375740876,
          3.023394822850526,
          3.630154416238724
         ]
        },
        {
         "line": {
          "color": "salmon",
          "width": 1.5
         },
         "marker": {
          "color": "salmon",
          "size": 8,
          "symbol": "x"
         },
         "mode": "markers+lines",
         "name": "Surname 66",
         "opacity": 0.4,
         "type": "scatter",
         "x": [
          0,
          1,
          2,
          3,
          4,
          5,
          6,
          7,
          8,
          9,
          10,
          11,
          12,
          13,
          14,
          15,
          16,
          17,
          18,
          19,
          20
         ],
         "y": [
          -8.712719334704865,
          -5.927321215741382,
          -3.3762557448023336,
          -2.270566321184736,
          -0.9796271638957915,
          1.82203413315702,
          0.8905799575088547,
          3.548331171459971,
          1.684324184216627,
          3.9755274840736385,
          3.3432764339725476,
          4.0495264319589594,
          3.751132848840728,
          3.791079353986324,
          2.3510655363145556,
          3.5555488197099994,
          3.3537102493840365,
          3.9155732949052737,
          5.926707399145643,
          5.287905724731969,
          5.8455471985923415
         ]
        },
        {
         "line": {
          "color": "salmon",
          "width": 1.5
         },
         "marker": {
          "color": "salmon",
          "size": 8,
          "symbol": "x"
         },
         "mode": "markers+lines",
         "name": "Surname 67",
         "opacity": 0.4,
         "type": "scatter",
         "x": [
          0,
          1,
          2,
          3,
          4,
          5,
          6,
          7,
          8,
          9,
          10,
          11,
          12,
          13,
          14,
          15,
          16,
          17,
          18,
          19,
          20
         ],
         "y": [
          -10.516910878528243,
          -6.360800554503937,
          -3.9019211692619127,
          -2.1493417119588747,
          0.32853416959746207,
          1.9996385910842034,
          2.3329311628365574,
          3.414567319505407,
          1.885381390864545,
          3.864405918897852,
          1.588839439544262,
          3.526983069349403,
          5.402321197845152,
          5.538282612109339,
          5.481246680196765,
          5.406215360535411,
          4.378167896801284,
          2.3891449684710575,
          5.424496732234733,
          4.706047099403545,
          5.93922219879653
         ]
        },
        {
         "line": {
          "color": "salmon",
          "width": 1.5
         },
         "marker": {
          "color": "salmon",
          "size": 8,
          "symbol": "x"
         },
         "mode": "markers+lines",
         "name": "Surname 68",
         "opacity": 0.4,
         "type": "scatter",
         "x": [
          0,
          1,
          2,
          3,
          4,
          5,
          6,
          7,
          8,
          9,
          10,
          11,
          12,
          13,
          14,
          15,
          16,
          17,
          18,
          19,
          20
         ],
         "y": [
          -14.588065267046112,
          -8.340983813893404,
          -5.655190376020193,
          -5.982655889980833,
          -2.501000709598212,
          -2.2642163735712333,
          -1.7631044201292458,
          -0.7927984961324054,
          0.6806792189295832,
          0.875892935407149,
          1.6709713249570095,
          2.8872070646286407,
          2.0340929770746996,
          1.375695016254029,
          4.944926274953165,
          4.202530643007014,
          5.496247352935234,
          4.375966940959126,
          3.116172508778016,
          5.361900479778909,
          4.393217816866856
         ]
        },
        {
         "line": {
          "color": "salmon",
          "width": 1.5
         },
         "marker": {
          "color": "salmon",
          "size": 8,
          "symbol": "x"
         },
         "mode": "markers+lines",
         "name": "Surname 69",
         "opacity": 0.4,
         "type": "scatter",
         "x": [
          0,
          1,
          2,
          3,
          4,
          5,
          6,
          7,
          8,
          9,
          10,
          11,
          12,
          13,
          14,
          15,
          16,
          17,
          18,
          19,
          20
         ],
         "y": [
          -10.469266337360208,
          -7.676537965270723,
          -3.9920949191772674,
          -1.0631345474274978,
          -0.7679888605110571,
          -0.46308814367199064,
          2.831445720924073,
          1.3898785297547362,
          3.555135249831153,
          2.375210060754476,
          3.6144983475156933,
          2.6224585615221745,
          3.693313971847275,
          4.376384171420321,
          4.380863011170412,
          3.9748622161770375,
          5.582476911106942,
          5.9656034440616255,
          3.809970655281343,
          4.213631882885494,
          4.558225921503272
         ]
        },
        {
         "line": {
          "color": "salmon",
          "width": 1.5
         },
         "marker": {
          "color": "salmon",
          "size": 8,
          "symbol": "x"
         },
         "mode": "markers+lines",
         "name": "Surname 70",
         "opacity": 0.4,
         "type": "scatter",
         "x": [
          0,
          1,
          2,
          3,
          4,
          5,
          6,
          7,
          8,
          9,
          10,
          11,
          12,
          13,
          14,
          15,
          16,
          17,
          18,
          19,
          20
         ],
         "y": [
          -15.378440502770987,
          -10.481592669281959,
          -6.1849608804030005,
          -4.808812041102965,
          -3.199641182275366,
          -0.4375772347940844,
          0.5577768243403206,
          2.3710174287001484,
          -0.3559906660726331,
          1.5695912380409451,
          4.266876684214541,
          5.149041065558826,
          4.153744502822755,
          3.5632275516705687,
          4.833492669982105,
          4.280710701204921,
          6.178944629822341,
          4.654809788757766,
          4.368779829954537,
          4.371164739652754,
          5.205809794155278
         ]
        },
        {
         "line": {
          "color": "salmon",
          "width": 1.5
         },
         "marker": {
          "color": "salmon",
          "size": 8,
          "symbol": "x"
         },
         "mode": "markers+lines",
         "name": "Surname 71",
         "opacity": 0.4,
         "type": "scatter",
         "x": [
          0,
          1,
          2,
          3,
          4,
          5,
          6,
          7,
          8,
          9,
          10,
          11,
          12,
          13,
          14,
          15,
          16,
          17,
          18,
          19,
          20
         ],
         "y": [
          -10.507246017531314,
          -5.846576542658861,
          -5.752148537032435,
          -3.3920027722510073,
          -2.7968411735322958,
          -1.4730411211665608,
          1.275328272495425,
          1.2644294718832019,
          3.088382564929996,
          1.767245090063859,
          3.1477380169975575,
          3.852821334086651,
          4.282382656231985,
          4.376586247771015,
          2.541254129135127,
          5.517702831447511,
          2.97464557056931,
          3.3890072752490523,
          4.845980426261166,
          5.115172038499504,
          2.8276762354230414
         ]
        },
        {
         "line": {
          "color": "salmon",
          "width": 1.5
         },
         "marker": {
          "color": "salmon",
          "size": 8,
          "symbol": "x"
         },
         "mode": "markers+lines",
         "name": "Surname 72",
         "opacity": 0.4,
         "type": "scatter",
         "x": [
          0,
          1,
          2,
          3,
          4,
          5,
          6,
          7,
          8,
          9,
          10,
          11,
          12,
          13,
          14,
          15,
          16,
          17,
          18,
          19,
          20
         ],
         "y": [
          -9.824445166770296,
          -7.420688643986515,
          -4.593014180390647,
          -1.7805477761264696,
          0.21707888987471302,
          0.5914218236170861,
          3.2940507490446844,
          2.604583024293744,
          4.59793711393868,
          4.045908079682079,
          5.225051144584594,
          2.706707827446661,
          4.122187612021215,
          3.746879994791728,
          4.420565965333011,
          3.9906283314452065,
          5.184204486507947,
          5.787528754961194,
          3.2035989047765714,
          4.866788680959401,
          4.66515429461607
         ]
        },
        {
         "line": {
          "color": "salmon",
          "width": 1.5
         },
         "marker": {
          "color": "salmon",
          "size": 8,
          "symbol": "x"
         },
         "mode": "markers+lines",
         "name": "Surname 73",
         "opacity": 0.4,
         "type": "scatter",
         "x": [
          0,
          1,
          2,
          3,
          4,
          5,
          6,
          7,
          8,
          9,
          10,
          11,
          12,
          13,
          14,
          15,
          16,
          17,
          18,
          19,
          20
         ],
         "y": [
          -11.721196443964052,
          -9.876010389295441,
          -7.157766025180253,
          -2.8440335136334527,
          -2.9734547576597548,
          -1.694169862589644,
          0.6818931544861566,
          2.7122400397074857,
          0.7116417310508703,
          3.708686852233105,
          3.7325324073545065,
          4.054504396299961,
          2.4494780205375326,
          5.552814752688377,
          1.725519413345991,
          6.354593222552056,
          4.117656992835256,
          5.4512410461625675,
          4.559883843946797,
          4.633508478181432,
          5.041726615858614
         ]
        },
        {
         "line": {
          "color": "salmon",
          "width": 1.5
         },
         "marker": {
          "color": "salmon",
          "size": 8,
          "symbol": "x"
         },
         "mode": "markers+lines",
         "name": "Surname 74",
         "opacity": 0.4,
         "type": "scatter",
         "x": [
          0,
          1,
          2,
          3,
          4,
          5,
          6,
          7,
          8,
          9,
          10,
          11,
          12,
          13,
          14,
          15,
          16,
          17,
          18,
          19,
          20
         ],
         "y": [
          -14.654380179549914,
          -10.15568925321962,
          -6.069854321056086,
          -3.3667939318907467,
          -1.7291443287351733,
          0.13263319077867058,
          1.3269199611216416,
          1.0558631973483505,
          3.6300698910301445,
          2.5925583156247645,
          4.5644529038011745,
          3.9584949028651035,
          2.423323041024025,
          4.518593248413371,
          4.104252978927121,
          5.075051750616729,
          5.718184993261658,
          4.680696580609804,
          4.978758575820246,
          4.822199762476597,
          6.337921984479823
         ]
        },
        {
         "line": {
          "color": "salmon",
          "width": 1.5
         },
         "marker": {
          "color": "salmon",
          "size": 8,
          "symbol": "x"
         },
         "mode": "markers+lines",
         "name": "Surname 75",
         "opacity": 0.4,
         "type": "scatter",
         "x": [
          0,
          1,
          2,
          3,
          4,
          5,
          6,
          7,
          8,
          9,
          10,
          11,
          12,
          13,
          14,
          15,
          16,
          17,
          18,
          19,
          20
         ],
         "y": [
          -10.114017621775863,
          -5.571064122797171,
          -4.252766449224028,
          -2.267220564199677,
          -1.2378328571965893,
          0.6571624121146407,
          0.4108980843386044,
          1.911100500384288,
          1.02446305254466,
          1.1796404637863038,
          2.763515390244674,
          2.167621159222419,
          5.678712279060788,
          3.8549319040912846,
          4.686985821212272,
          6.239831289864892,
          2.0987828147952263,
          3.7276463678393235,
          4.000612589521799,
          3.8260059094124137,
          4.075540081559884
         ]
        },
        {
         "line": {
          "color": "salmon",
          "width": 1.5
         },
         "marker": {
          "color": "salmon",
          "size": 8,
          "symbol": "x"
         },
         "mode": "markers+lines",
         "name": "Surname 76",
         "opacity": 0.4,
         "type": "scatter",
         "x": [
          0,
          1,
          2,
          3,
          4,
          5,
          6,
          7,
          8,
          9,
          10,
          11,
          12,
          13,
          14,
          15,
          16,
          17,
          18,
          19,
          20
         ],
         "y": [
          -9.703540763199028,
          -4.315875722326427,
          -5.495409488164634,
          -0.6434950272784886,
          -0.772421962405705,
          0.63081892829591,
          0.5786706037163911,
          0.4319545225632222,
          1.5097295802797799,
          1.744096835430439,
          4.109977210241101,
          4.396098593835006,
          5.319162977602174,
          4.852514963883355,
          4.708802580114421,
          4.895941027738819,
          4.922048577497713,
          3.2605146164412346,
          5.500206255577552,
          4.03907203811333,
          4.441531163196846
         ]
        },
        {
         "line": {
          "color": "salmon",
          "width": 1.5
         },
         "marker": {
          "color": "salmon",
          "size": 8,
          "symbol": "x"
         },
         "mode": "markers+lines",
         "name": "Surname 77",
         "opacity": 0.4,
         "type": "scatter",
         "x": [
          0,
          1,
          2,
          3,
          4,
          5,
          6,
          7,
          8,
          9,
          10,
          11,
          12,
          13,
          14,
          15,
          16,
          17,
          18,
          19,
          20
         ],
         "y": [
          -11.593136606618629,
          -7.223372741688644,
          -5.342484818437913,
          -2.5965224098103947,
          -0.6078020949368065,
          -0.06662737235791293,
          -0.018738844571679847,
          3.213150274247207,
          3.9043110635308507,
          0.3684431527309133,
          4.213630048990998,
          3.156770200621883,
          4.836045130015388,
          3.46336044655094,
          4.917887146131409,
          4.777455957578325,
          3.9337082568185067,
          3.8861252835049607,
          6.7579800343140235,
          6.01101549656409,
          4.358596539318291
         ]
        },
        {
         "line": {
          "color": "salmon",
          "width": 1.5
         },
         "marker": {
          "color": "salmon",
          "size": 8,
          "symbol": "x"
         },
         "mode": "markers+lines",
         "name": "Surname 78",
         "opacity": 0.4,
         "type": "scatter",
         "x": [
          0,
          1,
          2,
          3,
          4,
          5,
          6,
          7,
          8,
          9,
          10,
          11,
          12,
          13,
          14,
          15,
          16,
          17,
          18,
          19,
          20
         ],
         "y": [
          -9.376676934541798,
          -4.448778053919289,
          -3.87492147627674,
          -3.3110539770412792,
          0.056925819553636514,
          0.8290198280912981,
          3.561848852318957,
          1.3631771381876623,
          2.2905127444429003,
          2.763349383982738,
          1.8304556060821768,
          3.2833839210991713,
          3.883658730290657,
          5.319307679373551,
          2.7017549697645977,
          4.804433466731404,
          4.811154682801135,
          5.578920505663229,
          4.552243010055457,
          4.694445006849695,
          4.481251283918956
         ]
        },
        {
         "line": {
          "color": "salmon",
          "width": 1.5
         },
         "marker": {
          "color": "salmon",
          "size": 8,
          "symbol": "x"
         },
         "mode": "markers+lines",
         "name": "Surname 79",
         "opacity": 0.4,
         "type": "scatter",
         "x": [
          0,
          1,
          2,
          3,
          4,
          5,
          6,
          7,
          8,
          9,
          10,
          11,
          12,
          13,
          14,
          15,
          16,
          17,
          18,
          19,
          20
         ],
         "y": [
          -8.913134320277702,
          -8.080965405580532,
          -6.238205946284032,
          -4.9282834141237615,
          -3.299781938849935,
          -1.5296594266433245,
          -0.23322998044940085,
          -0.8464346975442347,
          2.702744707468934,
          1.6129653480029948,
          2.01071792240046,
          2.7378847148541277,
          2.8825975567145603,
          3.983032983215071,
          4.008084475747093,
          2.697975610791697,
          4.504751221440719,
          4.208812485963827,
          3.6274835872570215,
          4.330967864861275,
          5.125084742128109
         ]
        },
        {
         "line": {
          "color": "salmon",
          "width": 1.5
         },
         "marker": {
          "color": "salmon",
          "size": 8,
          "symbol": "x"
         },
         "mode": "markers+lines",
         "name": "Surname 80",
         "opacity": 0.4,
         "type": "scatter",
         "x": [
          0,
          1,
          2,
          3,
          4,
          5,
          6,
          7,
          8,
          9,
          10,
          11,
          12,
          13,
          14,
          15,
          16,
          17,
          18,
          19,
          20
         ],
         "y": [
          -12.479755750204404,
          -7.998804913330193,
          -5.999114845678615,
          -4.641800190330714,
          -4.488032917764116,
          -0.8878930582476037,
          0.4261810835661122,
          0.7721041946056331,
          -0.3655897535099595,
          3.960644164067884,
          -0.18475307340717473,
          1.294396071197973,
          3.9322375238325877,
          2.861363091517645,
          3.4232884446363707,
          4.746096951875054,
          4.541572664109319,
          4.882937118785646,
          4.231470548672557,
          3.3812574942657574,
          3.023686845676382
         ]
        },
        {
         "line": {
          "color": "salmon",
          "width": 1.5
         },
         "marker": {
          "color": "salmon",
          "size": 8,
          "symbol": "x"
         },
         "mode": "markers+lines",
         "name": "Surname 81",
         "opacity": 0.4,
         "type": "scatter",
         "x": [
          0,
          1,
          2,
          3,
          4,
          5,
          6,
          7,
          8,
          9,
          10,
          11,
          12,
          13,
          14,
          15,
          16,
          17,
          18,
          19,
          20
         ],
         "y": [
          -9.515978420052578,
          -4.837267908814575,
          -2.638530687704052,
          -0.3219752458483037,
          1.5419840038919688,
          2.4544190593886106,
          2.328577158014546,
          2.882691546702733,
          4.001658882500708,
          3.983074645617436,
          3.3407013014281395,
          3.303142039706331,
          4.271808981788897,
          4.521572108263216,
          4.27944447694524,
          3.00274680342729,
          3.7256937350420527,
          2.5632724854685973,
          1.745748465803584,
          3.6603117660589355,
          3.3916719923615526
         ]
        },
        {
         "line": {
          "color": "salmon",
          "width": 1.5
         },
         "marker": {
          "color": "salmon",
          "size": 8,
          "symbol": "x"
         },
         "mode": "markers+lines",
         "name": "Surname 82",
         "opacity": 0.4,
         "type": "scatter",
         "x": [
          0,
          1,
          2,
          3,
          4,
          5,
          6,
          7,
          8,
          9,
          10,
          11,
          12,
          13,
          14,
          15,
          16,
          17,
          18,
          19,
          20
         ],
         "y": [
          -13.027284996152517,
          -10.386531199146958,
          -5.379938452683942,
          -4.469032144395993,
          -3.9616563709902852,
          -2.3188305420020945,
          -1.1708367266189286,
          0.711211263324208,
          1.2719974117668025,
          1.8959618776448166,
          2.69852237880042,
          3.840714221205741,
          1.930337128744957,
          2.0775114763821225,
          5.754315539438529,
          4.717460238737403,
          1.9449539808893257,
          3.461355132891228,
          4.417871554901019,
          5.354675497217086,
          4.643055434072393
         ]
        },
        {
         "line": {
          "color": "salmon",
          "width": 1.5
         },
         "marker": {
          "color": "salmon",
          "size": 8,
          "symbol": "x"
         },
         "mode": "markers+lines",
         "name": "Surname 83",
         "opacity": 0.4,
         "type": "scatter",
         "x": [
          0,
          1,
          2,
          3,
          4,
          5,
          6,
          7,
          8,
          9,
          10,
          11,
          12,
          13,
          14,
          15,
          16,
          17,
          18,
          19,
          20
         ],
         "y": [
          -7.287798540456137,
          -7.7301913902202735,
          -1.4246172034233078,
          -0.5112302920145353,
          -0.6121709466635991,
          -0.4365540475445726,
          3.430050008742646,
          1.2275052634069017,
          1.7520879415254385,
          2.0775149047314763,
          3.5582771176949985,
          4.501513605510505,
          3.3019638678133294,
          4.984103185352386,
          3.25006274204868,
          3.7958303957952655,
          4.582639509376459,
          6.137956162943778,
          5.33098834298038,
          6.283749594779662,
          4.150727291825883
         ]
        },
        {
         "line": {
          "color": "salmon",
          "width": 1.5
         },
         "marker": {
          "color": "salmon",
          "size": 8,
          "symbol": "x"
         },
         "mode": "markers+lines",
         "name": "Surname 84",
         "opacity": 0.4,
         "type": "scatter",
         "x": [
          0,
          1,
          2,
          3,
          4,
          5,
          6,
          7,
          8,
          9,
          10,
          11,
          12,
          13,
          14,
          15,
          16,
          17,
          18,
          19,
          20
         ],
         "y": [
          -8.825629331909958,
          -6.769575113364059,
          -1.6595438816999817,
          -2.2278450049038225,
          -0.5323031523266656,
          0.22806043735143555,
          1.5318701637393912,
          1.9796646686064339,
          3.1325247573960957,
          3.0742731920925834,
          4.530250210699054,
          3.925259441802575,
          2.8979546419066584,
          5.0074086606361785,
          6.159354240330928,
          4.020169954836555,
          4.56822496066762,
          5.50032531311504,
          3.301951682622769,
          5.479433318289804,
          4.539957272679445
         ]
        },
        {
         "line": {
          "color": "salmon",
          "width": 1.5
         },
         "marker": {
          "color": "salmon",
          "size": 8,
          "symbol": "x"
         },
         "mode": "markers+lines",
         "name": "Surname 85",
         "opacity": 0.4,
         "type": "scatter",
         "x": [
          0,
          1,
          2,
          3,
          4,
          5,
          6,
          7,
          8,
          9,
          10,
          11,
          12,
          13,
          14,
          15,
          16,
          17,
          18,
          19,
          20
         ],
         "y": [
          -8.15165459406091,
          -6.708543525306274,
          -3.8093940200259757,
          -2.599635379145963,
          -0.842564775556807,
          1.5435092358070492,
          1.560213459459615,
          1.9074591359624344,
          2.5140688025707316,
          2.878180753115322,
          4.18598501547943,
          5.182482831151917,
          3.1129839123926235,
          3.746669722533076,
          5.826311619706799,
          5.996633125105029,
          3.207411904442056,
          3.796644824289106,
          3.3860127187430153,
          5.204244343234443,
          4.427694646873281
         ]
        },
        {
         "line": {
          "color": "salmon",
          "width": 1.5
         },
         "marker": {
          "color": "salmon",
          "size": 8,
          "symbol": "x"
         },
         "mode": "markers+lines",
         "name": "Surname 86",
         "opacity": 0.4,
         "type": "scatter",
         "x": [
          0,
          1,
          2,
          3,
          4,
          5,
          6,
          7,
          8,
          9,
          10,
          11,
          12,
          13,
          14,
          15,
          16,
          17,
          18,
          19,
          20
         ],
         "y": [
          -11.58561659239494,
          -7.318511666366641,
          -5.457209808858039,
          -2.658649560768227,
          -0.5798250113194741,
          2.1924079038970996,
          2.3382535191310456,
          1.213841831166578,
          2.287738515313137,
          2.514000099709177,
          4.314330162152581,
          3.516080651387394,
          4.471488729351661,
          3.5912472684079657,
          3.1750099086084953,
          5.854163364766816,
          5.891393837797647,
          3.4611469192869015,
          5.136123212058694,
          3.975720864107579,
          3.890433506474314
         ]
        },
        {
         "line": {
          "color": "salmon",
          "width": 1.5
         },
         "marker": {
          "color": "salmon",
          "size": 8,
          "symbol": "x"
         },
         "mode": "markers+lines",
         "name": "Surname 87",
         "opacity": 0.4,
         "type": "scatter",
         "x": [
          0,
          1,
          2,
          3,
          4,
          5,
          6,
          7,
          8,
          9,
          10,
          11,
          12,
          13,
          14,
          15,
          16,
          17,
          18,
          19,
          20
         ],
         "y": [
          -11.081198791921848,
          -7.452933518625176,
          -6.183085468775261,
          -2.0793195064163066,
          0.01592285852767783,
          0.5884270407325115,
          2.606564642100281,
          2.461230950377044,
          3.991200928464555,
          2.3513093422443934,
          3.436769436601765,
          5.3943841184125105,
          5.00946729513295,
          4.102751248492686,
          3.134365236570739,
          4.457465556129011,
          5.168521620028992,
          5.213360494741883,
          4.8019668188863625,
          6.328531211161731,
          5.958153324254535
         ]
        },
        {
         "line": {
          "color": "salmon",
          "width": 1.5
         },
         "marker": {
          "color": "salmon",
          "size": 8,
          "symbol": "x"
         },
         "mode": "markers+lines",
         "name": "Surname 88",
         "opacity": 0.4,
         "type": "scatter",
         "x": [
          0,
          1,
          2,
          3,
          4,
          5,
          6,
          7,
          8,
          9,
          10,
          11,
          12,
          13,
          14,
          15,
          16,
          17,
          18,
          19,
          20
         ],
         "y": [
          -12.859055385275035,
          -9.386136477595079,
          -5.086575557214576,
          -3.219072794098407,
          -2.4646564482156146,
          0.6406844731670484,
          1.7914978675977133,
          1.7358529556635272,
          5.525599762916995,
          1.835203124783661,
          4.970739645320975,
          5.473142369497835,
          5.5907669998927885,
          5.077833367985482,
          5.570722415963413,
          3.3952594149541273,
          3.682713741757495,
          3.3830778182355736,
          3.046131918573484,
          6.008773372857324,
          6.178285095557992
         ]
        },
        {
         "line": {
          "color": "salmon",
          "width": 1.5
         },
         "marker": {
          "color": "salmon",
          "size": 8,
          "symbol": "x"
         },
         "mode": "markers+lines",
         "name": "Surname 89",
         "opacity": 0.4,
         "type": "scatter",
         "x": [
          0,
          1,
          2,
          3,
          4,
          5,
          6,
          7,
          8,
          9,
          10,
          11,
          12,
          13,
          14,
          15,
          16,
          17,
          18,
          19,
          20
         ],
         "y": [
          -9.601675558232404,
          -6.496004662020122,
          -5.332884589250512,
          -1.6176236479285164,
          0.061614629159534334,
          0.15130838799355073,
          2.9819305104540286,
          1.0315947859867551,
          3.245439008194933,
          4.246151017742912,
          2.4675568564841637,
          3.0468555212521355,
          4.203915585778461,
          3.182444773769232,
          2.326256442756432,
          4.115598614901798,
          4.777823010075643,
          3.2451957789384323,
          4.298295054562843,
          3.0857549504821504,
          4.184798064349414
         ]
        },
        {
         "line": {
          "color": "salmon",
          "width": 1.5
         },
         "marker": {
          "color": "salmon",
          "size": 8,
          "symbol": "x"
         },
         "mode": "markers+lines",
         "name": "Surname 90",
         "opacity": 0.4,
         "type": "scatter",
         "x": [
          0,
          1,
          2,
          3,
          4,
          5,
          6,
          7,
          8,
          9,
          10,
          11,
          12,
          13,
          14,
          15,
          16,
          17,
          18,
          19,
          20
         ],
         "y": [
          -6.646961933113682,
          -5.424626487688284,
          -2.814858470866758,
          -1.2051860382165858,
          0.5029554510148511,
          2.0318442928534473,
          -0.6801247270231396,
          0.9585679522454456,
          3.1674405520851145,
          4.099219033486108,
          4.005113061273633,
          2.003949193505193,
          3.653964704494654,
          4.744976180317516,
          2.9059178184439833,
          4.502420136985369,
          4.436248553237624,
          2.930042039711133,
          5.1588630434662885,
          5.4847356282545014,
          2.7056865150059712
         ]
        },
        {
         "line": {
          "color": "salmon",
          "width": 1.5
         },
         "marker": {
          "color": "salmon",
          "size": 8,
          "symbol": "x"
         },
         "mode": "markers+lines",
         "name": "Surname 91",
         "opacity": 0.4,
         "type": "scatter",
         "x": [
          0,
          1,
          2,
          3,
          4,
          5,
          6,
          7,
          8,
          9,
          10,
          11,
          12,
          13,
          14,
          15,
          16,
          17,
          18,
          19,
          20
         ],
         "y": [
          -13.761615330641517,
          -10.150112931704232,
          -7.045380684808676,
          -4.239068298267699,
          -5.46392820552557,
          -1.6484648540403575,
          -0.3995885360088443,
          -0.19522041749237878,
          1.6443164021797951,
          2.7857649366109425,
          3.398511128128829,
          2.7134339545105193,
          3.2400995545819975,
          2.671731296002731,
          2.358147183306947,
          2.6700593016764858,
          5.747452676388172,
          2.786937297544238,
          6.277091025035137,
          5.440027106183772,
          6.865681258275671
         ]
        },
        {
         "line": {
          "color": "salmon",
          "width": 1.5
         },
         "marker": {
          "color": "salmon",
          "size": 8,
          "symbol": "x"
         },
         "mode": "markers+lines",
         "name": "Surname 92",
         "opacity": 0.4,
         "type": "scatter",
         "x": [
          0,
          1,
          2,
          3,
          4,
          5,
          6,
          7,
          8,
          9,
          10,
          11,
          12,
          13,
          14,
          15,
          16,
          17,
          18,
          19,
          20
         ],
         "y": [
          -10.943262395949493,
          -8.418646443750125,
          -4.153774612190092,
          -4.105784866251377,
          -2.7291861052694637,
          1.2335376601966357,
          -0.2248501958488964,
          2.6225317222369435,
          2.6678835063947606,
          2.5548687111252883,
          0.9480769479234641,
          2.3085027842781667,
          4.665515919431105,
          4.151118093854063,
          3.130837915628554,
          4.47234561265511,
          4.936122513482479,
          5.38282238074963,
          5.958333066778735,
          4.016779544909553,
          3.496339566307732
         ]
        },
        {
         "line": {
          "color": "salmon",
          "width": 1.5
         },
         "marker": {
          "color": "salmon",
          "size": 8,
          "symbol": "x"
         },
         "mode": "markers+lines",
         "name": "Surname 93",
         "opacity": 0.4,
         "type": "scatter",
         "x": [
          0,
          1,
          2,
          3,
          4,
          5,
          6,
          7,
          8,
          9,
          10,
          11,
          12,
          13,
          14,
          15,
          16,
          17,
          18,
          19,
          20
         ],
         "y": [
          -12.424165461113,
          -8.423912603586807,
          -4.983570865091957,
          -2.9413080232942708,
          -1.9716417413093597,
          0.575408515527336,
          -0.4483460723230679,
          1.5810601081583737,
          3.190917503194172,
          2.7053380427269396,
          3.941376074799097,
          3.069903274946485,
          5.245037120623073,
          4.592758761636723,
          5.280515103608191,
          5.465115158312513,
          4.9392100083039745,
          4.365176517512181,
          4.997679012700315,
          5.554425194512706,
          6.3486449728028145
         ]
        },
        {
         "line": {
          "color": "salmon",
          "width": 1.5
         },
         "marker": {
          "color": "salmon",
          "size": 8,
          "symbol": "x"
         },
         "mode": "markers+lines",
         "name": "Surname 94",
         "opacity": 0.4,
         "type": "scatter",
         "x": [
          0,
          1,
          2,
          3,
          4,
          5,
          6,
          7,
          8,
          9,
          10,
          11,
          12,
          13,
          14,
          15,
          16,
          17,
          18,
          19,
          20
         ],
         "y": [
          -15.681623114475183,
          -12.211486853963102,
          -7.38333312229248,
          -5.498936831491756,
          -3.6464796377895397,
          -1.6961368409141753,
          0.35508755906475237,
          0.40840039004656914,
          0.8684070143606568,
          2.7119590184379687,
          3.870944989817265,
          2.776369509248565,
          4.718801329283187,
          2.6242283972308003,
          5.345380417411391,
          4.295742142441924,
          3.808799558019167,
          3.879120303791798,
          4.589423395591674,
          4.443331371166158,
          4.592328830935937
         ]
        },
        {
         "line": {
          "color": "salmon",
          "width": 1.5
         },
         "marker": {
          "color": "salmon",
          "size": 8,
          "symbol": "x"
         },
         "mode": "markers+lines",
         "name": "Surname 95",
         "opacity": 0.4,
         "type": "scatter",
         "x": [
          0,
          1,
          2,
          3,
          4,
          5,
          6,
          7,
          8,
          9,
          10,
          11,
          12,
          13,
          14,
          15,
          16,
          17,
          18,
          19,
          20
         ],
         "y": [
          -11.27300585944607,
          -7.291050865990757,
          -7.605173249482373,
          -4.953549458559462,
          -3.4560531391739904,
          -0.889530650909815,
          -0.27808511956167026,
          1.1968316853719358,
          1.1205044906360837,
          0.9079319144287581,
          4.079824350915667,
          2.961615580312446,
          4.77874233472822,
          3.059113734438289,
          3.3817192867221477,
          3.2681313017899525,
          6.652783946960794,
          4.053641657649828,
          5.505883877969698,
          5.2113706517503715,
          3.961025597415002
         ]
        },
        {
         "line": {
          "color": "salmon",
          "width": 1.5
         },
         "marker": {
          "color": "salmon",
          "size": 8,
          "symbol": "x"
         },
         "mode": "markers+lines",
         "name": "Surname 96",
         "opacity": 0.4,
         "type": "scatter",
         "x": [
          0,
          1,
          2,
          3,
          4,
          5,
          6,
          7,
          8,
          9,
          10,
          11,
          12,
          13,
          14,
          15,
          16,
          17,
          18,
          19,
          20
         ],
         "y": [
          -11.66532921521741,
          -11.035361592513095,
          -8.069933528316595,
          -3.5118868116915003,
          -2.7243351587184637,
          -1.0130756688419593,
          -0.9238058283975245,
          -0.4182193319876937,
          2.333361947995007,
          3.5197133630700264,
          2.3329436582823204,
          3.748283645575688,
          5.711842547369137,
          4.900980375542023,
          4.295500387730309,
          3.984056054599244,
          5.015849505665982,
          3.9357025938707757,
          3.3102207631252316,
          2.6890858101142623,
          4.71631824203209
         ]
        },
        {
         "line": {
          "color": "salmon",
          "width": 1.5
         },
         "marker": {
          "color": "salmon",
          "size": 8,
          "symbol": "x"
         },
         "mode": "markers+lines",
         "name": "Surname 97",
         "opacity": 0.4,
         "type": "scatter",
         "x": [
          0,
          1,
          2,
          3,
          4,
          5,
          6,
          7,
          8,
          9,
          10,
          11,
          12,
          13,
          14,
          15,
          16,
          17,
          18,
          19,
          20
         ],
         "y": [
          -11.518892181862439,
          -7.275952773226976,
          -4.459234454102961,
          -2.067519907053064,
          0.4559342256553486,
          0.7265228635306414,
          0.5812080500852705,
          1.6041091363733866,
          2.727235233159181,
          5.5258479198406505,
          2.8447141149134283,
          2.9473065200893735,
          4.876574429210526,
          6.976270686208055,
          5.94629095402429,
          5.347177018588739,
          5.008196307231439,
          6.719162530226026,
          5.395906718508592,
          5.218873277140343,
          4.401269003107437
         ]
        },
        {
         "line": {
          "color": "salmon",
          "width": 1.5
         },
         "marker": {
          "color": "salmon",
          "size": 8,
          "symbol": "x"
         },
         "mode": "markers+lines",
         "name": "Surname 98",
         "opacity": 0.4,
         "type": "scatter",
         "x": [
          0,
          1,
          2,
          3,
          4,
          5,
          6,
          7,
          8,
          9,
          10,
          11,
          12,
          13,
          14,
          15,
          16,
          17,
          18,
          19,
          20
         ],
         "y": [
          -8.12445031820212,
          -6.556026327760459,
          -3.1346392203354223,
          0.6994699795744508,
          -0.6276468656447245,
          1.353802568481096,
          1.3963702142486696,
          2.6654761100146085,
          4.22908895315917,
          4.065386949819911,
          1.972577142977404,
          6.70976793909481,
          5.88405525055364,
          4.134744636852215,
          5.077956566593729,
          5.4218826870046355,
          4.323422034899886,
          5.0491812969859895,
          5.009360230916786,
          5.569595574489238,
          5.042748555376775
         ]
        },
        {
         "line": {
          "color": "salmon",
          "width": 1.5
         },
         "marker": {
          "color": "salmon",
          "size": 8,
          "symbol": "x"
         },
         "mode": "markers+lines",
         "name": "Surname 99",
         "opacity": 0.4,
         "type": "scatter",
         "x": [
          0,
          1,
          2,
          3,
          4,
          5,
          6,
          7,
          8,
          9,
          10,
          11,
          12,
          13,
          14,
          15,
          16,
          17,
          18,
          19,
          20
         ],
         "y": [
          -8.310106030661698,
          -5.54734301844693,
          -3.0778172808594175,
          -2.6852339798763536,
          0.9393358481355752,
          -0.16025070822002246,
          0.7591994198684653,
          1.5875563140375075,
          2.668084331134101,
          3.8753278431170917,
          3.576828496054983,
          3.701486736589537,
          3.9451818059284585,
          2.960160845611199,
          6.723825801532508,
          4.344656543807442,
          3.847843185230449,
          4.445214191300082,
          3.7199716775144225,
          5.442078774578207,
          3.954379666601259
         ]
        },
        {
         "line": {
          "color": "black",
          "dash": "dash",
          "width": 2.5
         },
         "mode": "lines",
         "name": "mu",
         "type": "scatter",
         "x": [
          0,
          1,
          2,
          3,
          4,
          5,
          6,
          7,
          8,
          9,
          10,
          11,
          12,
          13,
          14,
          15,
          16,
          17,
          18,
          19,
          20
         ],
         "y": [
          5,
          5,
          5,
          5,
          5,
          5,
          5,
          5,
          5,
          5,
          5,
          5,
          5,
          5,
          5,
          5,
          5,
          5,
          5,
          5,
          5
         ]
        }
       ],
       "layout": {
        "font": {
         "color": "black",
         "family": "Times New Roman",
         "size": 24
        },
        "legend": {
         "title": {
          "text": "Surnames"
         }
        },
        "margin": {
         "b": 10,
         "l": 10,
         "r": 10,
         "t": 10
        },
        "plot_bgcolor": "rgba(0,0,0,0)",
        "showlegend": false,
        "template": {
         "data": {
          "bar": [
           {
            "error_x": {
             "color": "#2a3f5f"
            },
            "error_y": {
             "color": "#2a3f5f"
            },
            "marker": {
             "line": {
              "color": "#E5ECF6",
              "width": 0.5
             },
             "pattern": {
              "fillmode": "overlay",
              "size": 10,
              "solidity": 0.2
             }
            },
            "type": "bar"
           }
          ],
          "barpolar": [
           {
            "marker": {
             "line": {
              "color": "#E5ECF6",
              "width": 0.5
             },
             "pattern": {
              "fillmode": "overlay",
              "size": 10,
              "solidity": 0.2
             }
            },
            "type": "barpolar"
           }
          ],
          "carpet": [
           {
            "aaxis": {
             "endlinecolor": "#2a3f5f",
             "gridcolor": "white",
             "linecolor": "white",
             "minorgridcolor": "white",
             "startlinecolor": "#2a3f5f"
            },
            "baxis": {
             "endlinecolor": "#2a3f5f",
             "gridcolor": "white",
             "linecolor": "white",
             "minorgridcolor": "white",
             "startlinecolor": "#2a3f5f"
            },
            "type": "carpet"
           }
          ],
          "choropleth": [
           {
            "colorbar": {
             "outlinewidth": 0,
             "ticks": ""
            },
            "type": "choropleth"
           }
          ],
          "contour": [
           {
            "colorbar": {
             "outlinewidth": 0,
             "ticks": ""
            },
            "colorscale": [
             [
              0,
              "#0d0887"
             ],
             [
              0.1111111111111111,
              "#46039f"
             ],
             [
              0.2222222222222222,
              "#7201a8"
             ],
             [
              0.3333333333333333,
              "#9c179e"
             ],
             [
              0.4444444444444444,
              "#bd3786"
             ],
             [
              0.5555555555555556,
              "#d8576b"
             ],
             [
              0.6666666666666666,
              "#ed7953"
             ],
             [
              0.7777777777777778,
              "#fb9f3a"
             ],
             [
              0.8888888888888888,
              "#fdca26"
             ],
             [
              1,
              "#f0f921"
             ]
            ],
            "type": "contour"
           }
          ],
          "contourcarpet": [
           {
            "colorbar": {
             "outlinewidth": 0,
             "ticks": ""
            },
            "type": "contourcarpet"
           }
          ],
          "heatmap": [
           {
            "colorbar": {
             "outlinewidth": 0,
             "ticks": ""
            },
            "colorscale": [
             [
              0,
              "#0d0887"
             ],
             [
              0.1111111111111111,
              "#46039f"
             ],
             [
              0.2222222222222222,
              "#7201a8"
             ],
             [
              0.3333333333333333,
              "#9c179e"
             ],
             [
              0.4444444444444444,
              "#bd3786"
             ],
             [
              0.5555555555555556,
              "#d8576b"
             ],
             [
              0.6666666666666666,
              "#ed7953"
             ],
             [
              0.7777777777777778,
              "#fb9f3a"
             ],
             [
              0.8888888888888888,
              "#fdca26"
             ],
             [
              1,
              "#f0f921"
             ]
            ],
            "type": "heatmap"
           }
          ],
          "heatmapgl": [
           {
            "colorbar": {
             "outlinewidth": 0,
             "ticks": ""
            },
            "colorscale": [
             [
              0,
              "#0d0887"
             ],
             [
              0.1111111111111111,
              "#46039f"
             ],
             [
              0.2222222222222222,
              "#7201a8"
             ],
             [
              0.3333333333333333,
              "#9c179e"
             ],
             [
              0.4444444444444444,
              "#bd3786"
             ],
             [
              0.5555555555555556,
              "#d8576b"
             ],
             [
              0.6666666666666666,
              "#ed7953"
             ],
             [
              0.7777777777777778,
              "#fb9f3a"
             ],
             [
              0.8888888888888888,
              "#fdca26"
             ],
             [
              1,
              "#f0f921"
             ]
            ],
            "type": "heatmapgl"
           }
          ],
          "histogram": [
           {
            "marker": {
             "pattern": {
              "fillmode": "overlay",
              "size": 10,
              "solidity": 0.2
             }
            },
            "type": "histogram"
           }
          ],
          "histogram2d": [
           {
            "colorbar": {
             "outlinewidth": 0,
             "ticks": ""
            },
            "colorscale": [
             [
              0,
              "#0d0887"
             ],
             [
              0.1111111111111111,
              "#46039f"
             ],
             [
              0.2222222222222222,
              "#7201a8"
             ],
             [
              0.3333333333333333,
              "#9c179e"
             ],
             [
              0.4444444444444444,
              "#bd3786"
             ],
             [
              0.5555555555555556,
              "#d8576b"
             ],
             [
              0.6666666666666666,
              "#ed7953"
             ],
             [
              0.7777777777777778,
              "#fb9f3a"
             ],
             [
              0.8888888888888888,
              "#fdca26"
             ],
             [
              1,
              "#f0f921"
             ]
            ],
            "type": "histogram2d"
           }
          ],
          "histogram2dcontour": [
           {
            "colorbar": {
             "outlinewidth": 0,
             "ticks": ""
            },
            "colorscale": [
             [
              0,
              "#0d0887"
             ],
             [
              0.1111111111111111,
              "#46039f"
             ],
             [
              0.2222222222222222,
              "#7201a8"
             ],
             [
              0.3333333333333333,
              "#9c179e"
             ],
             [
              0.4444444444444444,
              "#bd3786"
             ],
             [
              0.5555555555555556,
              "#d8576b"
             ],
             [
              0.6666666666666666,
              "#ed7953"
             ],
             [
              0.7777777777777778,
              "#fb9f3a"
             ],
             [
              0.8888888888888888,
              "#fdca26"
             ],
             [
              1,
              "#f0f921"
             ]
            ],
            "type": "histogram2dcontour"
           }
          ],
          "mesh3d": [
           {
            "colorbar": {
             "outlinewidth": 0,
             "ticks": ""
            },
            "type": "mesh3d"
           }
          ],
          "parcoords": [
           {
            "line": {
             "colorbar": {
              "outlinewidth": 0,
              "ticks": ""
             }
            },
            "type": "parcoords"
           }
          ],
          "pie": [
           {
            "automargin": true,
            "type": "pie"
           }
          ],
          "scatter": [
           {
            "fillpattern": {
             "fillmode": "overlay",
             "size": 10,
             "solidity": 0.2
            },
            "type": "scatter"
           }
          ],
          "scatter3d": [
           {
            "line": {
             "colorbar": {
              "outlinewidth": 0,
              "ticks": ""
             }
            },
            "marker": {
             "colorbar": {
              "outlinewidth": 0,
              "ticks": ""
             }
            },
            "type": "scatter3d"
           }
          ],
          "scattercarpet": [
           {
            "marker": {
             "colorbar": {
              "outlinewidth": 0,
              "ticks": ""
             }
            },
            "type": "scattercarpet"
           }
          ],
          "scattergeo": [
           {
            "marker": {
             "colorbar": {
              "outlinewidth": 0,
              "ticks": ""
             }
            },
            "type": "scattergeo"
           }
          ],
          "scattergl": [
           {
            "marker": {
             "colorbar": {
              "outlinewidth": 0,
              "ticks": ""
             }
            },
            "type": "scattergl"
           }
          ],
          "scattermapbox": [
           {
            "marker": {
             "colorbar": {
              "outlinewidth": 0,
              "ticks": ""
             }
            },
            "type": "scattermapbox"
           }
          ],
          "scatterpolar": [
           {
            "marker": {
             "colorbar": {
              "outlinewidth": 0,
              "ticks": ""
             }
            },
            "type": "scatterpolar"
           }
          ],
          "scatterpolargl": [
           {
            "marker": {
             "colorbar": {
              "outlinewidth": 0,
              "ticks": ""
             }
            },
            "type": "scatterpolargl"
           }
          ],
          "scatterternary": [
           {
            "marker": {
             "colorbar": {
              "outlinewidth": 0,
              "ticks": ""
             }
            },
            "type": "scatterternary"
           }
          ],
          "surface": [
           {
            "colorbar": {
             "outlinewidth": 0,
             "ticks": ""
            },
            "colorscale": [
             [
              0,
              "#0d0887"
             ],
             [
              0.1111111111111111,
              "#46039f"
             ],
             [
              0.2222222222222222,
              "#7201a8"
             ],
             [
              0.3333333333333333,
              "#9c179e"
             ],
             [
              0.4444444444444444,
              "#bd3786"
             ],
             [
              0.5555555555555556,
              "#d8576b"
             ],
             [
              0.6666666666666666,
              "#ed7953"
             ],
             [
              0.7777777777777778,
              "#fb9f3a"
             ],
             [
              0.8888888888888888,
              "#fdca26"
             ],
             [
              1,
              "#f0f921"
             ]
            ],
            "type": "surface"
           }
          ],
          "table": [
           {
            "cells": {
             "fill": {
              "color": "#EBF0F8"
             },
             "line": {
              "color": "white"
             }
            },
            "header": {
             "fill": {
              "color": "#C8D4E3"
             },
             "line": {
              "color": "white"
             }
            },
            "type": "table"
           }
          ]
         },
         "layout": {
          "annotationdefaults": {
           "arrowcolor": "#2a3f5f",
           "arrowhead": 0,
           "arrowwidth": 1
          },
          "autotypenumbers": "strict",
          "coloraxis": {
           "colorbar": {
            "outlinewidth": 0,
            "ticks": ""
           }
          },
          "colorscale": {
           "diverging": [
            [
             0,
             "#8e0152"
            ],
            [
             0.1,
             "#c51b7d"
            ],
            [
             0.2,
             "#de77ae"
            ],
            [
             0.3,
             "#f1b6da"
            ],
            [
             0.4,
             "#fde0ef"
            ],
            [
             0.5,
             "#f7f7f7"
            ],
            [
             0.6,
             "#e6f5d0"
            ],
            [
             0.7,
             "#b8e186"
            ],
            [
             0.8,
             "#7fbc41"
            ],
            [
             0.9,
             "#4d9221"
            ],
            [
             1,
             "#276419"
            ]
           ],
           "sequential": [
            [
             0,
             "#0d0887"
            ],
            [
             0.1111111111111111,
             "#46039f"
            ],
            [
             0.2222222222222222,
             "#7201a8"
            ],
            [
             0.3333333333333333,
             "#9c179e"
            ],
            [
             0.4444444444444444,
             "#bd3786"
            ],
            [
             0.5555555555555556,
             "#d8576b"
            ],
            [
             0.6666666666666666,
             "#ed7953"
            ],
            [
             0.7777777777777778,
             "#fb9f3a"
            ],
            [
             0.8888888888888888,
             "#fdca26"
            ],
            [
             1,
             "#f0f921"
            ]
           ],
           "sequentialminus": [
            [
             0,
             "#0d0887"
            ],
            [
             0.1111111111111111,
             "#46039f"
            ],
            [
             0.2222222222222222,
             "#7201a8"
            ],
            [
             0.3333333333333333,
             "#9c179e"
            ],
            [
             0.4444444444444444,
             "#bd3786"
            ],
            [
             0.5555555555555556,
             "#d8576b"
            ],
            [
             0.6666666666666666,
             "#ed7953"
            ],
            [
             0.7777777777777778,
             "#fb9f3a"
            ],
            [
             0.8888888888888888,
             "#fdca26"
            ],
            [
             1,
             "#f0f921"
            ]
           ]
          },
          "colorway": [
           "#636efa",
           "#EF553B",
           "#00cc96",
           "#ab63fa",
           "#FFA15A",
           "#19d3f3",
           "#FF6692",
           "#B6E880",
           "#FF97FF",
           "#FECB52"
          ],
          "font": {
           "color": "#2a3f5f"
          },
          "geo": {
           "bgcolor": "white",
           "lakecolor": "white",
           "landcolor": "#E5ECF6",
           "showlakes": true,
           "showland": true,
           "subunitcolor": "white"
          },
          "hoverlabel": {
           "align": "left"
          },
          "hovermode": "closest",
          "mapbox": {
           "style": "light"
          },
          "paper_bgcolor": "white",
          "plot_bgcolor": "#E5ECF6",
          "polar": {
           "angularaxis": {
            "gridcolor": "white",
            "linecolor": "white",
            "ticks": ""
           },
           "bgcolor": "#E5ECF6",
           "radialaxis": {
            "gridcolor": "white",
            "linecolor": "white",
            "ticks": ""
           }
          },
          "scene": {
           "xaxis": {
            "backgroundcolor": "#E5ECF6",
            "gridcolor": "white",
            "gridwidth": 2,
            "linecolor": "white",
            "showbackground": true,
            "ticks": "",
            "zerolinecolor": "white"
           },
           "yaxis": {
            "backgroundcolor": "#E5ECF6",
            "gridcolor": "white",
            "gridwidth": 2,
            "linecolor": "white",
            "showbackground": true,
            "ticks": "",
            "zerolinecolor": "white"
           },
           "zaxis": {
            "backgroundcolor": "#E5ECF6",
            "gridcolor": "white",
            "gridwidth": 2,
            "linecolor": "white",
            "showbackground": true,
            "ticks": "",
            "zerolinecolor": "white"
           }
          },
          "shapedefaults": {
           "line": {
            "color": "#2a3f5f"
           }
          },
          "ternary": {
           "aaxis": {
            "gridcolor": "white",
            "linecolor": "white",
            "ticks": ""
           },
           "baxis": {
            "gridcolor": "white",
            "linecolor": "white",
            "ticks": ""
           },
           "bgcolor": "#E5ECF6",
           "caxis": {
            "gridcolor": "white",
            "linecolor": "white",
            "ticks": ""
           }
          },
          "title": {
           "x": 0.05
          },
          "xaxis": {
           "automargin": true,
           "gridcolor": "white",
           "linecolor": "white",
           "ticks": "",
           "title": {
            "standoff": 15
           },
           "zerolinecolor": "white",
           "zerolinewidth": 2
          },
          "yaxis": {
           "automargin": true,
           "gridcolor": "white",
           "linecolor": "white",
           "ticks": "",
           "title": {
            "standoff": 15
           },
           "zerolinecolor": "white",
           "zerolinewidth": 2
          }
         }
        },
        "title": {
         "font": {
          "family": "Times New Roman"
         }
        },
        "xaxis": {
         "title": {
          "text": "Time"
         }
        },
        "yaxis": {
         "title": {
          "text": "ln(Wealth)"
         }
        }
       }
      }
     },
     "metadata": {},
     "output_type": "display_data"
    }
   ],
   "source": [
    "fig = go.Figure()\n",
    "\n",
    "# Add traces for 'high' group to color them differently\n",
    "for i in df_scenario_2[df_scenario_2['Group'] == 'high']['Surname'].unique():\n",
    "    df_nid = df_scenario_2[df_scenario_2['Surname'] == i]\n",
    "    fig.add_trace(go.Scatter(x=df_nid['Time'], \n",
    "                             y=df_nid['log_Wealth']+df_nid['log_random'], \n",
    "                             mode='markers+lines', \n",
    "                             name=f'Surname {i}', \n",
    "                             opacity=0.4, \n",
    "                             line=dict(color=color_start, width=1.5),\n",
    "                             marker=top_setting)) \n",
    "\n",
    "# Add traces for 'low' group \n",
    "for i in df_scenario_2[df_scenario_2['Group'] == 'low']['Surname'].unique():\n",
    "    df_nid = df_scenario_2[df_scenario_2['Surname'] == i]\n",
    "    fig.add_trace(go.Scatter(x=df_nid['Time'], \n",
    "                             y=df_nid['log_Wealth']+df_nid['log_random'], \n",
    "                             mode='markers+lines', \n",
    "                             name=f'Surname {i}', \n",
    "                             opacity=0.4, \n",
    "                             line=dict(color=color_end, width=1.5),\n",
    "                             marker=bottom_setting))\n",
    "\n",
    "\n",
    "\n",
    "\n",
    "fig.add_trace(go.Scatter(x=population_data_2['Time'], y=population_data_2['mu'],\n",
    "                         mode='lines', name='mu', line=dict(color='black', dash='dash', width=2.5)))\n",
    "\n",
    "fig.update_layout(\n",
    "    # title=f'ln(Wealth) over time: surname-specific functions in grey and population-wise convergence value {round(mu_population_2,2)} in red',\n",
    "                  xaxis_title='Time',\n",
    "                  yaxis_title='ln(Wealth)',\n",
    "                  legend_title='Surnames',\n",
    "                  font_family=\"Times New Roman\",\n",
    "                  title_font_family=\"Times New Roman\",\n",
    "                  font_size = 24,\n",
    "                  font_color='black',\n",
    "                  # paper_bgcolor='rgba(0,0,0,0)',\n",
    "                  plot_bgcolor = 'rgba(0,0,0,0)', \n",
    "                  showlegend=False,\n",
    "                  margin=dict(l=10, r=10, t=10, b=10)\n",
    "                 )\n",
    "\n",
    "fig.show()"
   ]
  },
  {
   "cell_type": "code",
   "execution_count": 75,
   "id": "bfe3ab0f",
   "metadata": {},
   "outputs": [],
   "source": [
    "fig.write_image(path+\"/img_revised/section1_b.pdf\")"
   ]
  },
  {
   "cell_type": "markdown",
   "id": "b62dc8a3-26e7-4ea0-9413-5b6df01f933e",
   "metadata": {},
   "source": [
    "# Figure 2. The role of $\\mu$ and $\\beta$."
   ]
  },
  {
   "cell_type": "code",
   "execution_count": 28,
   "id": "caeb3a12-b9cb-4e31-8c26-ab0818de7822",
   "metadata": {},
   "outputs": [
    {
     "data": {
      "application/vnd.plotly.v1+json": {
       "config": {
        "plotlyServerURL": "https://plot.ly"
       },
       "data": [
        {
         "line": {
          "color": "rgb(99, 110, 250)"
         },
         "marker": {
          "colorbar": {
           "thickness": 20,
           "ticktext": [
            1,
            9
           ],
           "tickvals": [
            1,
            9
           ],
           "title": {
            "text": "mu"
           }
          },
          "colorscale": [
           [
            0,
            "rgb(99, 110, 250)"
           ],
           [
            0.125,
            "rgb(117, 107, 226)"
           ],
           [
            0.25,
            "rgb(134, 104, 202)"
           ],
           [
            0.375,
            "rgb(152, 101, 178)"
           ],
           [
            0.5,
            "rgb(169, 98, 154)"
           ],
           [
            0.625,
            "rgb(187, 94, 131)"
           ],
           [
            0.75,
            "rgb(204, 91, 107)"
           ],
           [
            0.875,
            "rgb(222, 88, 83)"
           ],
           [
            1,
            "rgb(239, 85, 59)"
           ]
          ],
          "size": 0
         },
         "mode": "lines",
         "name": "mu = 1",
         "showlegend": false,
         "type": "scatter",
         "x": [
          0,
          1,
          2,
          3,
          4,
          5,
          6,
          7,
          8,
          9,
          10,
          11,
          12,
          13,
          14,
          15,
          16,
          17,
          18,
          19
         ],
         "y": [
          6.907755278982137,
          2.1815510557964277,
          1.2363102111592856,
          1.0472620422318573,
          1.0094524084463714,
          1.0018904816892744,
          1.0003780963378548,
          1.0000756192675708,
          1.0000151238535142,
          1.000003024770703,
          1.0000006049541406,
          1.000000120990828,
          1.0000000241981657,
          1.0000000048396331,
          1.0000000009679266,
          1.0000000001935854,
          1.000000000038717,
          1.0000000000077434,
          1.0000000000015488,
          1.0000000000003098
         ]
        },
        {
         "line": {
          "color": "rgb(117, 107, 226)"
         },
         "marker": {
          "colorbar": {
           "thickness": 20,
           "ticktext": [
            1,
            9
           ],
           "tickvals": [
            1,
            9
           ],
           "title": {
            "text": "mu"
           }
          },
          "colorscale": [
           [
            0,
            "rgb(99, 110, 250)"
           ],
           [
            0.125,
            "rgb(117, 107, 226)"
           ],
           [
            0.25,
            "rgb(134, 104, 202)"
           ],
           [
            0.375,
            "rgb(152, 101, 178)"
           ],
           [
            0.5,
            "rgb(169, 98, 154)"
           ],
           [
            0.625,
            "rgb(187, 94, 131)"
           ],
           [
            0.75,
            "rgb(204, 91, 107)"
           ],
           [
            0.875,
            "rgb(222, 88, 83)"
           ],
           [
            1,
            "rgb(239, 85, 59)"
           ]
          ],
          "size": 0
         },
         "mode": "lines",
         "name": "mu = 2",
         "showlegend": false,
         "type": "scatter",
         "x": [
          0,
          1,
          2,
          3,
          4,
          5,
          6,
          7,
          8,
          9,
          10,
          11,
          12,
          13,
          14,
          15,
          16,
          17,
          18,
          19
         ],
         "y": [
          6.907755278982137,
          2.9815510557964275,
          2.1963102111592856,
          2.039262042231857,
          2.0078524084463716,
          2.0015704816892743,
          2.000314096337855,
          2.000062819267571,
          2.000012563853514,
          2.000002512770703,
          2.0000005025541405,
          2.000000100510828,
          2.0000000201021657,
          2.000000004020433,
          2.0000000008040866,
          2.0000000001608176,
          2.0000000000321636,
          2.0000000000064326,
          2.0000000000012865,
          2.0000000000002576
         ]
        },
        {
         "line": {
          "color": "rgb(134, 104, 202)"
         },
         "marker": {
          "colorbar": {
           "thickness": 20,
           "ticktext": [
            1,
            9
           ],
           "tickvals": [
            1,
            9
           ],
           "title": {
            "text": "mu"
           }
          },
          "colorscale": [
           [
            0,
            "rgb(99, 110, 250)"
           ],
           [
            0.125,
            "rgb(117, 107, 226)"
           ],
           [
            0.25,
            "rgb(134, 104, 202)"
           ],
           [
            0.375,
            "rgb(152, 101, 178)"
           ],
           [
            0.5,
            "rgb(169, 98, 154)"
           ],
           [
            0.625,
            "rgb(187, 94, 131)"
           ],
           [
            0.75,
            "rgb(204, 91, 107)"
           ],
           [
            0.875,
            "rgb(222, 88, 83)"
           ],
           [
            1,
            "rgb(239, 85, 59)"
           ]
          ],
          "size": 0
         },
         "mode": "lines",
         "name": "mu = 3",
         "showlegend": false,
         "type": "scatter",
         "x": [
          0,
          1,
          2,
          3,
          4,
          5,
          6,
          7,
          8,
          9,
          10,
          11,
          12,
          13,
          14,
          15,
          16,
          17,
          18,
          19
         ],
         "y": [
          6.907755278982137,
          3.781551055796428,
          3.1563102111592856,
          3.031262042231857,
          3.0062524084463713,
          3.0012504816892744,
          3.000250096337855,
          3.0000500192675705,
          3.000010003853514,
          3.000002000770703,
          3.0000004001541405,
          3.0000000800308277,
          3.0000000160061657,
          3.000000003201233,
          3.0000000006402465,
          3.0000000001280496,
          3.00000000002561,
          3.000000000005122,
          3.0000000000010245,
          3.0000000000002047
         ]
        },
        {
         "line": {
          "color": "rgb(152, 101, 178)"
         },
         "marker": {
          "colorbar": {
           "thickness": 20,
           "ticktext": [
            1,
            9
           ],
           "tickvals": [
            1,
            9
           ],
           "title": {
            "text": "mu"
           }
          },
          "colorscale": [
           [
            0,
            "rgb(99, 110, 250)"
           ],
           [
            0.125,
            "rgb(117, 107, 226)"
           ],
           [
            0.25,
            "rgb(134, 104, 202)"
           ],
           [
            0.375,
            "rgb(152, 101, 178)"
           ],
           [
            0.5,
            "rgb(169, 98, 154)"
           ],
           [
            0.625,
            "rgb(187, 94, 131)"
           ],
           [
            0.75,
            "rgb(204, 91, 107)"
           ],
           [
            0.875,
            "rgb(222, 88, 83)"
           ],
           [
            1,
            "rgb(239, 85, 59)"
           ]
          ],
          "size": 0
         },
         "mode": "lines",
         "name": "mu = 4",
         "showlegend": false,
         "type": "scatter",
         "x": [
          0,
          1,
          2,
          3,
          4,
          5,
          6,
          7,
          8,
          9,
          10,
          11,
          12,
          13,
          14,
          15,
          16,
          17,
          18,
          19
         ],
         "y": [
          6.907755278982137,
          4.581551055796427,
          4.116310211159285,
          4.023262042231857,
          4.004652408446371,
          4.000930481689275,
          4.000186096337855,
          4.000037219267571,
          4.000007443853514,
          4.000001488770703,
          4.0000002977541405,
          4.000000059550828,
          4.000000011910166,
          4.000000002382033,
          4.0000000004764065,
          4.000000000095281,
          4.000000000019056,
          4.000000000003811,
          4.000000000000762,
          4.000000000000153
         ]
        },
        {
         "line": {
          "color": "rgb(169, 98, 154)"
         },
         "marker": {
          "colorbar": {
           "thickness": 20,
           "ticktext": [
            1,
            9
           ],
           "tickvals": [
            1,
            9
           ],
           "title": {
            "text": "mu"
           }
          },
          "colorscale": [
           [
            0,
            "rgb(99, 110, 250)"
           ],
           [
            0.125,
            "rgb(117, 107, 226)"
           ],
           [
            0.25,
            "rgb(134, 104, 202)"
           ],
           [
            0.375,
            "rgb(152, 101, 178)"
           ],
           [
            0.5,
            "rgb(169, 98, 154)"
           ],
           [
            0.625,
            "rgb(187, 94, 131)"
           ],
           [
            0.75,
            "rgb(204, 91, 107)"
           ],
           [
            0.875,
            "rgb(222, 88, 83)"
           ],
           [
            1,
            "rgb(239, 85, 59)"
           ]
          ],
          "size": 0
         },
         "mode": "lines",
         "name": "mu = 5",
         "showlegend": false,
         "type": "scatter",
         "x": [
          0,
          1,
          2,
          3,
          4,
          5,
          6,
          7,
          8,
          9,
          10,
          11,
          12,
          13,
          14,
          15,
          16,
          17,
          18,
          19
         ],
         "y": [
          6.907755278982137,
          5.381551055796428,
          5.076310211159285,
          5.015262042231857,
          5.003052408446371,
          5.000610481689274,
          5.000122096337855,
          5.000024419267571,
          5.000004883853514,
          5.000000976770703,
          5.000000195354141,
          5.0000000390708275,
          5.000000007814165,
          5.000000001562833,
          5.000000000312566,
          5.000000000062513,
          5.000000000012502,
          5.0000000000025,
          5.0000000000005,
          5.0000000000001
         ]
        },
        {
         "line": {
          "color": "rgb(187, 94, 131)"
         },
         "marker": {
          "colorbar": {
           "thickness": 20,
           "ticktext": [
            1,
            9
           ],
           "tickvals": [
            1,
            9
           ],
           "title": {
            "text": "mu"
           }
          },
          "colorscale": [
           [
            0,
            "rgb(99, 110, 250)"
           ],
           [
            0.125,
            "rgb(117, 107, 226)"
           ],
           [
            0.25,
            "rgb(134, 104, 202)"
           ],
           [
            0.375,
            "rgb(152, 101, 178)"
           ],
           [
            0.5,
            "rgb(169, 98, 154)"
           ],
           [
            0.625,
            "rgb(187, 94, 131)"
           ],
           [
            0.75,
            "rgb(204, 91, 107)"
           ],
           [
            0.875,
            "rgb(222, 88, 83)"
           ],
           [
            1,
            "rgb(239, 85, 59)"
           ]
          ],
          "size": 0
         },
         "mode": "lines",
         "name": "mu = 6",
         "showlegend": false,
         "type": "scatter",
         "x": [
          0,
          1,
          2,
          3,
          4,
          5,
          6,
          7,
          8,
          9,
          10,
          11,
          12,
          13,
          14,
          15,
          16,
          17,
          18,
          19
         ],
         "y": [
          6.907755278982137,
          6.181551055796428,
          6.036310211159285,
          6.007262042231857,
          6.0014524084463705,
          6.000290481689274,
          6.000058096337855,
          6.00001161926757,
          6.000002323853514,
          6.000000464770703,
          6.00000009295414,
          6.0000000185908275,
          6.000000003718166,
          6.000000000743633,
          6.000000000148726,
          6.000000000029745,
          6.000000000005949,
          6.00000000000119,
          6.000000000000238,
          6.000000000000048
         ]
        },
        {
         "line": {
          "color": "rgb(204, 91, 107)"
         },
         "marker": {
          "colorbar": {
           "thickness": 20,
           "ticktext": [
            1,
            9
           ],
           "tickvals": [
            1,
            9
           ],
           "title": {
            "text": "mu"
           }
          },
          "colorscale": [
           [
            0,
            "rgb(99, 110, 250)"
           ],
           [
            0.125,
            "rgb(117, 107, 226)"
           ],
           [
            0.25,
            "rgb(134, 104, 202)"
           ],
           [
            0.375,
            "rgb(152, 101, 178)"
           ],
           [
            0.5,
            "rgb(169, 98, 154)"
           ],
           [
            0.625,
            "rgb(187, 94, 131)"
           ],
           [
            0.75,
            "rgb(204, 91, 107)"
           ],
           [
            0.875,
            "rgb(222, 88, 83)"
           ],
           [
            1,
            "rgb(239, 85, 59)"
           ]
          ],
          "size": 0
         },
         "mode": "lines",
         "name": "mu = 7",
         "showlegend": false,
         "type": "scatter",
         "x": [
          0,
          1,
          2,
          3,
          4,
          5,
          6,
          7,
          8,
          9,
          10,
          11,
          12,
          13,
          14,
          15,
          16,
          17,
          18,
          19
         ],
         "y": [
          6.907755278982137,
          6.9815510557964275,
          6.996310211159285,
          6.999262042231857,
          6.999852408446371,
          6.9999704816892745,
          6.999994096337855,
          6.999998819267571,
          6.9999997638535145,
          6.999999952770703,
          6.99999999055414,
          6.999999998110828,
          6.999999999622166,
          6.999999999924433,
          6.999999999984887,
          6.9999999999969775,
          6.999999999999395,
          6.999999999999879,
          6.999999999999976,
          6.999999999999996
         ]
        },
        {
         "line": {
          "color": "rgb(222, 88, 83)"
         },
         "marker": {
          "colorbar": {
           "thickness": 20,
           "ticktext": [
            1,
            9
           ],
           "tickvals": [
            1,
            9
           ],
           "title": {
            "text": "mu"
           }
          },
          "colorscale": [
           [
            0,
            "rgb(99, 110, 250)"
           ],
           [
            0.125,
            "rgb(117, 107, 226)"
           ],
           [
            0.25,
            "rgb(134, 104, 202)"
           ],
           [
            0.375,
            "rgb(152, 101, 178)"
           ],
           [
            0.5,
            "rgb(169, 98, 154)"
           ],
           [
            0.625,
            "rgb(187, 94, 131)"
           ],
           [
            0.75,
            "rgb(204, 91, 107)"
           ],
           [
            0.875,
            "rgb(222, 88, 83)"
           ],
           [
            1,
            "rgb(239, 85, 59)"
           ]
          ],
          "size": 0
         },
         "mode": "lines",
         "name": "mu = 8",
         "showlegend": false,
         "type": "scatter",
         "x": [
          0,
          1,
          2,
          3,
          4,
          5,
          6,
          7,
          8,
          9,
          10,
          11,
          12,
          13,
          14,
          15,
          16,
          17,
          18,
          19
         ],
         "y": [
          6.907755278982137,
          7.781551055796427,
          7.956310211159285,
          7.991262042231857,
          7.998252408446371,
          7.999650481689274,
          7.999930096337855,
          7.9999860192675705,
          7.999997203853514,
          7.999999440770703,
          7.99999988815414,
          7.999999977630828,
          7.999999995526166,
          7.999999999105233,
          7.999999999821046,
          7.999999999964209,
          7.999999999992841,
          7.999999999998568,
          7.999999999999714,
          7.999999999999943
         ]
        },
        {
         "line": {
          "color": "rgb(239, 85, 59)"
         },
         "marker": {
          "colorbar": {
           "thickness": 20,
           "ticktext": [
            1,
            9
           ],
           "tickvals": [
            1,
            9
           ],
           "title": {
            "text": "mu"
           }
          },
          "colorscale": [
           [
            0,
            "rgb(99, 110, 250)"
           ],
           [
            0.125,
            "rgb(117, 107, 226)"
           ],
           [
            0.25,
            "rgb(134, 104, 202)"
           ],
           [
            0.375,
            "rgb(152, 101, 178)"
           ],
           [
            0.5,
            "rgb(169, 98, 154)"
           ],
           [
            0.625,
            "rgb(187, 94, 131)"
           ],
           [
            0.75,
            "rgb(204, 91, 107)"
           ],
           [
            0.875,
            "rgb(222, 88, 83)"
           ],
           [
            1,
            "rgb(239, 85, 59)"
           ]
          ],
          "size": 0
         },
         "mode": "lines",
         "name": "mu = 9",
         "showlegend": false,
         "type": "scatter",
         "x": [
          0,
          1,
          2,
          3,
          4,
          5,
          6,
          7,
          8,
          9,
          10,
          11,
          12,
          13,
          14,
          15,
          16,
          17,
          18,
          19
         ],
         "y": [
          6.907755278982137,
          8.581551055796428,
          8.916310211159287,
          8.983262042231857,
          8.996652408446371,
          8.999330481689276,
          8.999866096337856,
          8.999973219267572,
          8.999994643853514,
          8.999998928770703,
          8.999999785754142,
          8.999999957150827,
          8.999999991430165,
          8.999999998286032,
          8.999999999657206,
          8.999999999931442,
          8.999999999986288,
          8.999999999997257,
          8.999999999999451,
          8.99999999999989
         ]
        }
       ],
       "layout": {
        "font": {
         "color": "black",
         "family": "Times New Roman",
         "size": 24
        },
        "margin": {
         "b": 10,
         "l": 10,
         "r": 10,
         "t": 10
        },
        "plot_bgcolor": "rgba(0,0,0,0)",
        "template": {
         "data": {
          "bar": [
           {
            "error_x": {
             "color": "#2a3f5f"
            },
            "error_y": {
             "color": "#2a3f5f"
            },
            "marker": {
             "line": {
              "color": "#E5ECF6",
              "width": 0.5
             },
             "pattern": {
              "fillmode": "overlay",
              "size": 10,
              "solidity": 0.2
             }
            },
            "type": "bar"
           }
          ],
          "barpolar": [
           {
            "marker": {
             "line": {
              "color": "#E5ECF6",
              "width": 0.5
             },
             "pattern": {
              "fillmode": "overlay",
              "size": 10,
              "solidity": 0.2
             }
            },
            "type": "barpolar"
           }
          ],
          "carpet": [
           {
            "aaxis": {
             "endlinecolor": "#2a3f5f",
             "gridcolor": "white",
             "linecolor": "white",
             "minorgridcolor": "white",
             "startlinecolor": "#2a3f5f"
            },
            "baxis": {
             "endlinecolor": "#2a3f5f",
             "gridcolor": "white",
             "linecolor": "white",
             "minorgridcolor": "white",
             "startlinecolor": "#2a3f5f"
            },
            "type": "carpet"
           }
          ],
          "choropleth": [
           {
            "colorbar": {
             "outlinewidth": 0,
             "ticks": ""
            },
            "type": "choropleth"
           }
          ],
          "contour": [
           {
            "colorbar": {
             "outlinewidth": 0,
             "ticks": ""
            },
            "colorscale": [
             [
              0,
              "#0d0887"
             ],
             [
              0.1111111111111111,
              "#46039f"
             ],
             [
              0.2222222222222222,
              "#7201a8"
             ],
             [
              0.3333333333333333,
              "#9c179e"
             ],
             [
              0.4444444444444444,
              "#bd3786"
             ],
             [
              0.5555555555555556,
              "#d8576b"
             ],
             [
              0.6666666666666666,
              "#ed7953"
             ],
             [
              0.7777777777777778,
              "#fb9f3a"
             ],
             [
              0.8888888888888888,
              "#fdca26"
             ],
             [
              1,
              "#f0f921"
             ]
            ],
            "type": "contour"
           }
          ],
          "contourcarpet": [
           {
            "colorbar": {
             "outlinewidth": 0,
             "ticks": ""
            },
            "type": "contourcarpet"
           }
          ],
          "heatmap": [
           {
            "colorbar": {
             "outlinewidth": 0,
             "ticks": ""
            },
            "colorscale": [
             [
              0,
              "#0d0887"
             ],
             [
              0.1111111111111111,
              "#46039f"
             ],
             [
              0.2222222222222222,
              "#7201a8"
             ],
             [
              0.3333333333333333,
              "#9c179e"
             ],
             [
              0.4444444444444444,
              "#bd3786"
             ],
             [
              0.5555555555555556,
              "#d8576b"
             ],
             [
              0.6666666666666666,
              "#ed7953"
             ],
             [
              0.7777777777777778,
              "#fb9f3a"
             ],
             [
              0.8888888888888888,
              "#fdca26"
             ],
             [
              1,
              "#f0f921"
             ]
            ],
            "type": "heatmap"
           }
          ],
          "heatmapgl": [
           {
            "colorbar": {
             "outlinewidth": 0,
             "ticks": ""
            },
            "colorscale": [
             [
              0,
              "#0d0887"
             ],
             [
              0.1111111111111111,
              "#46039f"
             ],
             [
              0.2222222222222222,
              "#7201a8"
             ],
             [
              0.3333333333333333,
              "#9c179e"
             ],
             [
              0.4444444444444444,
              "#bd3786"
             ],
             [
              0.5555555555555556,
              "#d8576b"
             ],
             [
              0.6666666666666666,
              "#ed7953"
             ],
             [
              0.7777777777777778,
              "#fb9f3a"
             ],
             [
              0.8888888888888888,
              "#fdca26"
             ],
             [
              1,
              "#f0f921"
             ]
            ],
            "type": "heatmapgl"
           }
          ],
          "histogram": [
           {
            "marker": {
             "pattern": {
              "fillmode": "overlay",
              "size": 10,
              "solidity": 0.2
             }
            },
            "type": "histogram"
           }
          ],
          "histogram2d": [
           {
            "colorbar": {
             "outlinewidth": 0,
             "ticks": ""
            },
            "colorscale": [
             [
              0,
              "#0d0887"
             ],
             [
              0.1111111111111111,
              "#46039f"
             ],
             [
              0.2222222222222222,
              "#7201a8"
             ],
             [
              0.3333333333333333,
              "#9c179e"
             ],
             [
              0.4444444444444444,
              "#bd3786"
             ],
             [
              0.5555555555555556,
              "#d8576b"
             ],
             [
              0.6666666666666666,
              "#ed7953"
             ],
             [
              0.7777777777777778,
              "#fb9f3a"
             ],
             [
              0.8888888888888888,
              "#fdca26"
             ],
             [
              1,
              "#f0f921"
             ]
            ],
            "type": "histogram2d"
           }
          ],
          "histogram2dcontour": [
           {
            "colorbar": {
             "outlinewidth": 0,
             "ticks": ""
            },
            "colorscale": [
             [
              0,
              "#0d0887"
             ],
             [
              0.1111111111111111,
              "#46039f"
             ],
             [
              0.2222222222222222,
              "#7201a8"
             ],
             [
              0.3333333333333333,
              "#9c179e"
             ],
             [
              0.4444444444444444,
              "#bd3786"
             ],
             [
              0.5555555555555556,
              "#d8576b"
             ],
             [
              0.6666666666666666,
              "#ed7953"
             ],
             [
              0.7777777777777778,
              "#fb9f3a"
             ],
             [
              0.8888888888888888,
              "#fdca26"
             ],
             [
              1,
              "#f0f921"
             ]
            ],
            "type": "histogram2dcontour"
           }
          ],
          "mesh3d": [
           {
            "colorbar": {
             "outlinewidth": 0,
             "ticks": ""
            },
            "type": "mesh3d"
           }
          ],
          "parcoords": [
           {
            "line": {
             "colorbar": {
              "outlinewidth": 0,
              "ticks": ""
             }
            },
            "type": "parcoords"
           }
          ],
          "pie": [
           {
            "automargin": true,
            "type": "pie"
           }
          ],
          "scatter": [
           {
            "fillpattern": {
             "fillmode": "overlay",
             "size": 10,
             "solidity": 0.2
            },
            "type": "scatter"
           }
          ],
          "scatter3d": [
           {
            "line": {
             "colorbar": {
              "outlinewidth": 0,
              "ticks": ""
             }
            },
            "marker": {
             "colorbar": {
              "outlinewidth": 0,
              "ticks": ""
             }
            },
            "type": "scatter3d"
           }
          ],
          "scattercarpet": [
           {
            "marker": {
             "colorbar": {
              "outlinewidth": 0,
              "ticks": ""
             }
            },
            "type": "scattercarpet"
           }
          ],
          "scattergeo": [
           {
            "marker": {
             "colorbar": {
              "outlinewidth": 0,
              "ticks": ""
             }
            },
            "type": "scattergeo"
           }
          ],
          "scattergl": [
           {
            "marker": {
             "colorbar": {
              "outlinewidth": 0,
              "ticks": ""
             }
            },
            "type": "scattergl"
           }
          ],
          "scattermapbox": [
           {
            "marker": {
             "colorbar": {
              "outlinewidth": 0,
              "ticks": ""
             }
            },
            "type": "scattermapbox"
           }
          ],
          "scatterpolar": [
           {
            "marker": {
             "colorbar": {
              "outlinewidth": 0,
              "ticks": ""
             }
            },
            "type": "scatterpolar"
           }
          ],
          "scatterpolargl": [
           {
            "marker": {
             "colorbar": {
              "outlinewidth": 0,
              "ticks": ""
             }
            },
            "type": "scatterpolargl"
           }
          ],
          "scatterternary": [
           {
            "marker": {
             "colorbar": {
              "outlinewidth": 0,
              "ticks": ""
             }
            },
            "type": "scatterternary"
           }
          ],
          "surface": [
           {
            "colorbar": {
             "outlinewidth": 0,
             "ticks": ""
            },
            "colorscale": [
             [
              0,
              "#0d0887"
             ],
             [
              0.1111111111111111,
              "#46039f"
             ],
             [
              0.2222222222222222,
              "#7201a8"
             ],
             [
              0.3333333333333333,
              "#9c179e"
             ],
             [
              0.4444444444444444,
              "#bd3786"
             ],
             [
              0.5555555555555556,
              "#d8576b"
             ],
             [
              0.6666666666666666,
              "#ed7953"
             ],
             [
              0.7777777777777778,
              "#fb9f3a"
             ],
             [
              0.8888888888888888,
              "#fdca26"
             ],
             [
              1,
              "#f0f921"
             ]
            ],
            "type": "surface"
           }
          ],
          "table": [
           {
            "cells": {
             "fill": {
              "color": "#EBF0F8"
             },
             "line": {
              "color": "white"
             }
            },
            "header": {
             "fill": {
              "color": "#C8D4E3"
             },
             "line": {
              "color": "white"
             }
            },
            "type": "table"
           }
          ]
         },
         "layout": {
          "annotationdefaults": {
           "arrowcolor": "#2a3f5f",
           "arrowhead": 0,
           "arrowwidth": 1
          },
          "autotypenumbers": "strict",
          "coloraxis": {
           "colorbar": {
            "outlinewidth": 0,
            "ticks": ""
           }
          },
          "colorscale": {
           "diverging": [
            [
             0,
             "#8e0152"
            ],
            [
             0.1,
             "#c51b7d"
            ],
            [
             0.2,
             "#de77ae"
            ],
            [
             0.3,
             "#f1b6da"
            ],
            [
             0.4,
             "#fde0ef"
            ],
            [
             0.5,
             "#f7f7f7"
            ],
            [
             0.6,
             "#e6f5d0"
            ],
            [
             0.7,
             "#b8e186"
            ],
            [
             0.8,
             "#7fbc41"
            ],
            [
             0.9,
             "#4d9221"
            ],
            [
             1,
             "#276419"
            ]
           ],
           "sequential": [
            [
             0,
             "#0d0887"
            ],
            [
             0.1111111111111111,
             "#46039f"
            ],
            [
             0.2222222222222222,
             "#7201a8"
            ],
            [
             0.3333333333333333,
             "#9c179e"
            ],
            [
             0.4444444444444444,
             "#bd3786"
            ],
            [
             0.5555555555555556,
             "#d8576b"
            ],
            [
             0.6666666666666666,
             "#ed7953"
            ],
            [
             0.7777777777777778,
             "#fb9f3a"
            ],
            [
             0.8888888888888888,
             "#fdca26"
            ],
            [
             1,
             "#f0f921"
            ]
           ],
           "sequentialminus": [
            [
             0,
             "#0d0887"
            ],
            [
             0.1111111111111111,
             "#46039f"
            ],
            [
             0.2222222222222222,
             "#7201a8"
            ],
            [
             0.3333333333333333,
             "#9c179e"
            ],
            [
             0.4444444444444444,
             "#bd3786"
            ],
            [
             0.5555555555555556,
             "#d8576b"
            ],
            [
             0.6666666666666666,
             "#ed7953"
            ],
            [
             0.7777777777777778,
             "#fb9f3a"
            ],
            [
             0.8888888888888888,
             "#fdca26"
            ],
            [
             1,
             "#f0f921"
            ]
           ]
          },
          "colorway": [
           "#636efa",
           "#EF553B",
           "#00cc96",
           "#ab63fa",
           "#FFA15A",
           "#19d3f3",
           "#FF6692",
           "#B6E880",
           "#FF97FF",
           "#FECB52"
          ],
          "font": {
           "color": "#2a3f5f"
          },
          "geo": {
           "bgcolor": "white",
           "lakecolor": "white",
           "landcolor": "#E5ECF6",
           "showlakes": true,
           "showland": true,
           "subunitcolor": "white"
          },
          "hoverlabel": {
           "align": "left"
          },
          "hovermode": "closest",
          "mapbox": {
           "style": "light"
          },
          "paper_bgcolor": "white",
          "plot_bgcolor": "#E5ECF6",
          "polar": {
           "angularaxis": {
            "gridcolor": "white",
            "linecolor": "white",
            "ticks": ""
           },
           "bgcolor": "#E5ECF6",
           "radialaxis": {
            "gridcolor": "white",
            "linecolor": "white",
            "ticks": ""
           }
          },
          "scene": {
           "xaxis": {
            "backgroundcolor": "#E5ECF6",
            "gridcolor": "white",
            "gridwidth": 2,
            "linecolor": "white",
            "showbackground": true,
            "ticks": "",
            "zerolinecolor": "white"
           },
           "yaxis": {
            "backgroundcolor": "#E5ECF6",
            "gridcolor": "white",
            "gridwidth": 2,
            "linecolor": "white",
            "showbackground": true,
            "ticks": "",
            "zerolinecolor": "white"
           },
           "zaxis": {
            "backgroundcolor": "#E5ECF6",
            "gridcolor": "white",
            "gridwidth": 2,
            "linecolor": "white",
            "showbackground": true,
            "ticks": "",
            "zerolinecolor": "white"
           }
          },
          "shapedefaults": {
           "line": {
            "color": "#2a3f5f"
           }
          },
          "ternary": {
           "aaxis": {
            "gridcolor": "white",
            "linecolor": "white",
            "ticks": ""
           },
           "baxis": {
            "gridcolor": "white",
            "linecolor": "white",
            "ticks": ""
           },
           "bgcolor": "#E5ECF6",
           "caxis": {
            "gridcolor": "white",
            "linecolor": "white",
            "ticks": ""
           }
          },
          "title": {
           "x": 0.05
          },
          "xaxis": {
           "automargin": true,
           "gridcolor": "white",
           "linecolor": "white",
           "ticks": "",
           "title": {
            "standoff": 15
           },
           "zerolinecolor": "white",
           "zerolinewidth": 2
          },
          "yaxis": {
           "automargin": true,
           "gridcolor": "white",
           "linecolor": "white",
           "ticks": "",
           "title": {
            "standoff": 15
           },
           "zerolinecolor": "white",
           "zerolinewidth": 2
          }
         }
        },
        "title": {
         "font": {
          "family": "Times New Roman"
         }
        },
        "xaxis": {
         "title": {
          "text": "Time"
         }
        },
        "yaxis": {
         "title": {
          "text": "ln(Wealth)"
         }
        }
       }
      }
     },
     "metadata": {},
     "output_type": "display_data"
    }
   ],
   "source": [
    "import plotly.colors\n",
    "\n",
    "# Parameters (Fixed)\n",
    "beta = 0.2\n",
    "W0 = 1000\n",
    "t = np.arange(0, 20)\n",
    "mu_values = np.arange(1, 10)\n",
    "\n",
    "color_start = '#636EFA'\n",
    "color_end = '#EF553B'  \n",
    "\n",
    "# Generate a continuous color scale from the two extreme colors defined above\n",
    "colors = plotly.colors.sample_colorscale(\n",
    "    plotly.colors.make_colorscale([color_start, color_end]), len(mu_values)\n",
    ")\n",
    "\n",
    "\n",
    "fig = go.Figure()\n",
    "\n",
    "for i, mu in enumerate(mu_values):\n",
    "    # Wealth calculation for each mu\n",
    "    exp_part = (1 - beta**t) * mu\n",
    "    wealth = np.exp(exp_part) * W0**(beta**t)\n",
    "    \n",
    "    fig.add_trace(go.Scatter(x=t, y=np.log(wealth), \n",
    "                            #  mode='lines+markers', \n",
    "                            mode='lines',\n",
    "                             name=f'mu = {mu}',\n",
    "                             line=dict(color=colors[i]),\n",
    "                             marker=dict(size=0,\n",
    "                                         colorscale=colors,\n",
    "                                         colorbar=dict(title='mu', thickness=20,tickvals=[1, 9], ticktext=[1, 9])\n",
    "                                         ),\n",
    "                                showlegend=False\n",
    "                             ))\n",
    "\n",
    "fig.update_layout(\n",
    "    xaxis=dict(title='Time'),\n",
    "    yaxis=dict(title='ln(Wealth)'),\n",
    "    # showlegend=True,\n",
    "    font_family=\"Times New Roman\",\n",
    "    title_font_family=\"Times New Roman\",\n",
    "    font_size=24, \n",
    "    font_color='black',\n",
    "    # paper_bgcolor='rgba(0,0,0,0)',\n",
    "    plot_bgcolor = 'rgba(0,0,0,0)',\n",
    "    margin=dict(l=10, r=10, t=10, b=10)\n",
    ")\n",
    "\n",
    "fig.show()\n"
   ]
  },
  {
   "cell_type": "code",
   "execution_count": 29,
   "id": "b936a0cf",
   "metadata": {},
   "outputs": [],
   "source": [
    "fig.write_image(\"role_of_mu.pdf\")"
   ]
  },
  {
   "cell_type": "code",
   "execution_count": 26,
   "id": "333358c6-005d-416b-bc5b-698574edd39e",
   "metadata": {},
   "outputs": [
    {
     "data": {
      "application/vnd.plotly.v1+json": {
       "config": {
        "plotlyServerURL": "https://plot.ly"
       },
       "data": [
        {
         "line": {
          "color": "rgb(99, 110, 250)"
         },
         "mode": "lines",
         "name": "beta = 0.1",
         "showlegend": false,
         "type": "scatter",
         "x": [
          0,
          1,
          2,
          3,
          4,
          5,
          6,
          7,
          8,
          9,
          10,
          11,
          12,
          13,
          14,
          15,
          16,
          17,
          18,
          19
         ],
         "y": [
          6.907755278982137,
          8.790775527898214,
          8.979077552789821,
          8.997907755278982,
          8.999790775527899,
          8.999979077552789,
          8.99999790775528,
          8.999999790775528,
          8.999999979077552,
          8.999999997907755,
          8.999999999790775,
          8.999999999979076,
          8.99999999999791,
          8.99999999999979,
          8.999999999999979,
          8.999999999999998,
          8.999999999999998,
          9,
          9,
          9
         ]
        },
        {
         "line": {
          "color": "rgb(117, 107, 226)"
         },
         "mode": "lines",
         "name": "beta = 0.2",
         "showlegend": false,
         "type": "scatter",
         "x": [
          0,
          1,
          2,
          3,
          4,
          5,
          6,
          7,
          8,
          9,
          10,
          11,
          12,
          13,
          14,
          15,
          16,
          17,
          18,
          19
         ],
         "y": [
          6.907755278982137,
          8.581551055796428,
          8.916310211159287,
          8.983262042231857,
          8.996652408446371,
          8.999330481689276,
          8.999866096337856,
          8.999973219267572,
          8.999994643853514,
          8.999998928770703,
          8.999999785754142,
          8.999999957150827,
          8.999999991430165,
          8.999999998286032,
          8.999999999657206,
          8.999999999931442,
          8.999999999986288,
          8.999999999997257,
          8.999999999999451,
          8.99999999999989
         ]
        },
        {
         "line": {
          "color": "rgb(134, 104, 202)"
         },
         "mode": "lines",
         "name": "beta = 0.30000000000000004",
         "showlegend": false,
         "type": "scatter",
         "x": [
          0,
          1,
          2,
          3,
          4,
          5,
          6,
          7,
          8,
          9,
          10,
          11,
          12,
          13,
          14,
          15,
          16,
          17,
          18,
          19
         ],
         "y": [
          6.907755278982137,
          8.372326583694642,
          8.811697975108393,
          8.943509392532517,
          8.983052817759754,
          8.994915845327927,
          8.998474753598378,
          8.999542426079513,
          8.999862727823853,
          8.999958818347155,
          8.999987645504149,
          8.999996293651243,
          8.999998888095373,
          8.99999966642861,
          8.999999899928584,
          8.999999969978576,
          8.999999990993574,
          8.999999997298072,
          8.999999999189422,
          8.999999999756826
         ]
        },
        {
         "line": {
          "color": "rgb(152, 101, 178)"
         },
         "mode": "lines",
         "name": "beta = 0.4",
         "showlegend": false,
         "type": "scatter",
         "x": [
          0,
          1,
          2,
          3,
          4,
          5,
          6,
          7,
          8,
          9,
          10,
          11,
          12,
          13,
          14,
          15,
          16,
          17,
          18,
          19
         ],
         "y": [
          6.907755278982137,
          8.163102111592854,
          8.665240844637141,
          8.866096337854856,
          8.946438535141944,
          8.978575414056778,
          8.991430165622711,
          8.996572066249083,
          8.998628826499633,
          8.999451530599854,
          8.999780612239942,
          8.999912244895977,
          8.99996489795839,
          8.999985959183356,
          8.999994383673343,
          8.999997753469337,
          8.999999101387736,
          8.999999640555094,
          8.999999856222038,
          8.999999942488815
         ]
        },
        {
         "line": {
          "color": "rgb(169, 98, 154)"
         },
         "mode": "lines",
         "name": "beta = 0.5",
         "showlegend": false,
         "type": "scatter",
         "x": [
          0,
          1,
          2,
          3,
          4,
          5,
          6,
          7,
          8,
          9,
          10,
          11,
          12,
          13,
          14,
          15,
          16,
          17,
          18,
          19
         ],
         "y": [
          6.907755278982137,
          7.953877639491068,
          8.476938819745534,
          8.738469409872767,
          8.869234704936384,
          8.934617352468193,
          8.967308676234095,
          8.983654338117049,
          8.991827169058524,
          8.995913584529262,
          8.997956792264631,
          8.998978396132316,
          8.999489198066158,
          8.999744599033079,
          8.99987229951654,
          8.99993614975827,
          8.999968074879135,
          8.999984037439567,
          8.999992018719784,
          8.999996009359892
         ]
        },
        {
         "line": {
          "color": "rgb(187, 94, 131)"
         },
         "mode": "lines",
         "name": "beta = 0.6000000000000001",
         "showlegend": false,
         "type": "scatter",
         "x": [
          0,
          1,
          2,
          3,
          4,
          5,
          6,
          7,
          8,
          9,
          10,
          11,
          12,
          13,
          14,
          15,
          16,
          17,
          18,
          19
         ],
         "y": [
          6.907755278982137,
          7.7446531673892824,
          8.24679190043357,
          8.548075140260142,
          8.728845084156085,
          8.837307050493651,
          8.90238423029619,
          8.941430538177714,
          8.964858322906629,
          8.978914993743977,
          8.987348996246388,
          8.992409397747831,
          8.995445638648699,
          8.997267383189218,
          8.998360429913532,
          8.999016257948119,
          8.999409754768871,
          8.999645852861324,
          8.999787511716795,
          8.999872507030076
         ]
        },
        {
         "line": {
          "color": "rgb(204, 91, 107)"
         },
         "mode": "lines",
         "name": "beta = 0.7000000000000001",
         "showlegend": false,
         "type": "scatter",
         "x": [
          0,
          1,
          2,
          3,
          4,
          5,
          6,
          7,
          8,
          9,
          10,
          11,
          12,
          13,
          14,
          15,
          16,
          17,
          18,
          19
         ],
         "y": [
          6.907755278982137,
          7.535428695287496,
          7.974800086701247,
          8.282360060690873,
          8.497652042483612,
          8.648356429738527,
          8.753849500816969,
          8.827694650571878,
          8.879386255400314,
          8.915570378780222,
          8.940899265146156,
          8.958629485602309,
          8.971040639921616,
          8.979728447945131,
          8.98580991356159,
          8.990066939493115,
          8.99304685764518,
          8.995132800351625,
          8.996592960246138,
          8.997615072172296
         ]
        },
        {
         "line": {
          "color": "rgb(222, 88, 83)"
         },
         "mode": "lines",
         "name": "beta = 0.8",
         "showlegend": false,
         "type": "scatter",
         "x": [
          0,
          1,
          2,
          3,
          4,
          5,
          6,
          7,
          8,
          9,
          10,
          11,
          12,
          13,
          14,
          15,
          16,
          17,
          18,
          19
         ],
         "y": [
          6.907755278982137,
          7.32620422318571,
          7.660963378548567,
          7.928770702838854,
          8.143016562271082,
          8.314413249816866,
          8.451530599853493,
          8.561224479882794,
          8.648979583906236,
          8.719183667124987,
          8.77534693369999,
          8.820277546959993,
          8.856222037567994,
          8.884977630054397,
          8.907982104043516,
          8.926385683234813,
          8.94110854658785,
          8.95288683727028,
          8.962309469816223,
          8.96984757585298
         ]
        },
        {
         "line": {
          "color": "rgb(239, 85, 59)"
         },
         "mode": "lines",
         "name": "beta = 0.9",
         "showlegend": false,
         "type": "scatter",
         "x": [
          0,
          1,
          2,
          3,
          4,
          5,
          6,
          7,
          8,
          9,
          10,
          11,
          12,
          13,
          14,
          15,
          16,
          17,
          18,
          19
         ],
         "y": [
          6.907755278982137,
          7.116979751083923,
          7.305281775975531,
          7.474753598377978,
          7.62727823854018,
          7.764550414686162,
          7.888095373217546,
          7.99928583589579,
          8.099357252306213,
          8.18942152707559,
          8.270479374368032,
          8.34343143693123,
          8.409088293238105,
          8.468179463914295,
          8.521361517522866,
          8.56922536577058,
          8.61230282919352,
          8.651072546274168,
          8.685965291646752,
          8.717368762482076
         ]
        }
       ],
       "layout": {
        "font": {
         "color": "black",
         "family": "Times New Roman",
         "size": 24
        },
        "margin": {
         "b": 10,
         "l": 10,
         "r": 10,
         "t": 10
        },
        "plot_bgcolor": "rgba(0,0,0,0)",
        "template": {
         "data": {
          "bar": [
           {
            "error_x": {
             "color": "#2a3f5f"
            },
            "error_y": {
             "color": "#2a3f5f"
            },
            "marker": {
             "line": {
              "color": "#E5ECF6",
              "width": 0.5
             },
             "pattern": {
              "fillmode": "overlay",
              "size": 10,
              "solidity": 0.2
             }
            },
            "type": "bar"
           }
          ],
          "barpolar": [
           {
            "marker": {
             "line": {
              "color": "#E5ECF6",
              "width": 0.5
             },
             "pattern": {
              "fillmode": "overlay",
              "size": 10,
              "solidity": 0.2
             }
            },
            "type": "barpolar"
           }
          ],
          "carpet": [
           {
            "aaxis": {
             "endlinecolor": "#2a3f5f",
             "gridcolor": "white",
             "linecolor": "white",
             "minorgridcolor": "white",
             "startlinecolor": "#2a3f5f"
            },
            "baxis": {
             "endlinecolor": "#2a3f5f",
             "gridcolor": "white",
             "linecolor": "white",
             "minorgridcolor": "white",
             "startlinecolor": "#2a3f5f"
            },
            "type": "carpet"
           }
          ],
          "choropleth": [
           {
            "colorbar": {
             "outlinewidth": 0,
             "ticks": ""
            },
            "type": "choropleth"
           }
          ],
          "contour": [
           {
            "colorbar": {
             "outlinewidth": 0,
             "ticks": ""
            },
            "colorscale": [
             [
              0,
              "#0d0887"
             ],
             [
              0.1111111111111111,
              "#46039f"
             ],
             [
              0.2222222222222222,
              "#7201a8"
             ],
             [
              0.3333333333333333,
              "#9c179e"
             ],
             [
              0.4444444444444444,
              "#bd3786"
             ],
             [
              0.5555555555555556,
              "#d8576b"
             ],
             [
              0.6666666666666666,
              "#ed7953"
             ],
             [
              0.7777777777777778,
              "#fb9f3a"
             ],
             [
              0.8888888888888888,
              "#fdca26"
             ],
             [
              1,
              "#f0f921"
             ]
            ],
            "type": "contour"
           }
          ],
          "contourcarpet": [
           {
            "colorbar": {
             "outlinewidth": 0,
             "ticks": ""
            },
            "type": "contourcarpet"
           }
          ],
          "heatmap": [
           {
            "colorbar": {
             "outlinewidth": 0,
             "ticks": ""
            },
            "colorscale": [
             [
              0,
              "#0d0887"
             ],
             [
              0.1111111111111111,
              "#46039f"
             ],
             [
              0.2222222222222222,
              "#7201a8"
             ],
             [
              0.3333333333333333,
              "#9c179e"
             ],
             [
              0.4444444444444444,
              "#bd3786"
             ],
             [
              0.5555555555555556,
              "#d8576b"
             ],
             [
              0.6666666666666666,
              "#ed7953"
             ],
             [
              0.7777777777777778,
              "#fb9f3a"
             ],
             [
              0.8888888888888888,
              "#fdca26"
             ],
             [
              1,
              "#f0f921"
             ]
            ],
            "type": "heatmap"
           }
          ],
          "heatmapgl": [
           {
            "colorbar": {
             "outlinewidth": 0,
             "ticks": ""
            },
            "colorscale": [
             [
              0,
              "#0d0887"
             ],
             [
              0.1111111111111111,
              "#46039f"
             ],
             [
              0.2222222222222222,
              "#7201a8"
             ],
             [
              0.3333333333333333,
              "#9c179e"
             ],
             [
              0.4444444444444444,
              "#bd3786"
             ],
             [
              0.5555555555555556,
              "#d8576b"
             ],
             [
              0.6666666666666666,
              "#ed7953"
             ],
             [
              0.7777777777777778,
              "#fb9f3a"
             ],
             [
              0.8888888888888888,
              "#fdca26"
             ],
             [
              1,
              "#f0f921"
             ]
            ],
            "type": "heatmapgl"
           }
          ],
          "histogram": [
           {
            "marker": {
             "pattern": {
              "fillmode": "overlay",
              "size": 10,
              "solidity": 0.2
             }
            },
            "type": "histogram"
           }
          ],
          "histogram2d": [
           {
            "colorbar": {
             "outlinewidth": 0,
             "ticks": ""
            },
            "colorscale": [
             [
              0,
              "#0d0887"
             ],
             [
              0.1111111111111111,
              "#46039f"
             ],
             [
              0.2222222222222222,
              "#7201a8"
             ],
             [
              0.3333333333333333,
              "#9c179e"
             ],
             [
              0.4444444444444444,
              "#bd3786"
             ],
             [
              0.5555555555555556,
              "#d8576b"
             ],
             [
              0.6666666666666666,
              "#ed7953"
             ],
             [
              0.7777777777777778,
              "#fb9f3a"
             ],
             [
              0.8888888888888888,
              "#fdca26"
             ],
             [
              1,
              "#f0f921"
             ]
            ],
            "type": "histogram2d"
           }
          ],
          "histogram2dcontour": [
           {
            "colorbar": {
             "outlinewidth": 0,
             "ticks": ""
            },
            "colorscale": [
             [
              0,
              "#0d0887"
             ],
             [
              0.1111111111111111,
              "#46039f"
             ],
             [
              0.2222222222222222,
              "#7201a8"
             ],
             [
              0.3333333333333333,
              "#9c179e"
             ],
             [
              0.4444444444444444,
              "#bd3786"
             ],
             [
              0.5555555555555556,
              "#d8576b"
             ],
             [
              0.6666666666666666,
              "#ed7953"
             ],
             [
              0.7777777777777778,
              "#fb9f3a"
             ],
             [
              0.8888888888888888,
              "#fdca26"
             ],
             [
              1,
              "#f0f921"
             ]
            ],
            "type": "histogram2dcontour"
           }
          ],
          "mesh3d": [
           {
            "colorbar": {
             "outlinewidth": 0,
             "ticks": ""
            },
            "type": "mesh3d"
           }
          ],
          "parcoords": [
           {
            "line": {
             "colorbar": {
              "outlinewidth": 0,
              "ticks": ""
             }
            },
            "type": "parcoords"
           }
          ],
          "pie": [
           {
            "automargin": true,
            "type": "pie"
           }
          ],
          "scatter": [
           {
            "fillpattern": {
             "fillmode": "overlay",
             "size": 10,
             "solidity": 0.2
            },
            "type": "scatter"
           }
          ],
          "scatter3d": [
           {
            "line": {
             "colorbar": {
              "outlinewidth": 0,
              "ticks": ""
             }
            },
            "marker": {
             "colorbar": {
              "outlinewidth": 0,
              "ticks": ""
             }
            },
            "type": "scatter3d"
           }
          ],
          "scattercarpet": [
           {
            "marker": {
             "colorbar": {
              "outlinewidth": 0,
              "ticks": ""
             }
            },
            "type": "scattercarpet"
           }
          ],
          "scattergeo": [
           {
            "marker": {
             "colorbar": {
              "outlinewidth": 0,
              "ticks": ""
             }
            },
            "type": "scattergeo"
           }
          ],
          "scattergl": [
           {
            "marker": {
             "colorbar": {
              "outlinewidth": 0,
              "ticks": ""
             }
            },
            "type": "scattergl"
           }
          ],
          "scattermapbox": [
           {
            "marker": {
             "colorbar": {
              "outlinewidth": 0,
              "ticks": ""
             }
            },
            "type": "scattermapbox"
           }
          ],
          "scatterpolar": [
           {
            "marker": {
             "colorbar": {
              "outlinewidth": 0,
              "ticks": ""
             }
            },
            "type": "scatterpolar"
           }
          ],
          "scatterpolargl": [
           {
            "marker": {
             "colorbar": {
              "outlinewidth": 0,
              "ticks": ""
             }
            },
            "type": "scatterpolargl"
           }
          ],
          "scatterternary": [
           {
            "marker": {
             "colorbar": {
              "outlinewidth": 0,
              "ticks": ""
             }
            },
            "type": "scatterternary"
           }
          ],
          "surface": [
           {
            "colorbar": {
             "outlinewidth": 0,
             "ticks": ""
            },
            "colorscale": [
             [
              0,
              "#0d0887"
             ],
             [
              0.1111111111111111,
              "#46039f"
             ],
             [
              0.2222222222222222,
              "#7201a8"
             ],
             [
              0.3333333333333333,
              "#9c179e"
             ],
             [
              0.4444444444444444,
              "#bd3786"
             ],
             [
              0.5555555555555556,
              "#d8576b"
             ],
             [
              0.6666666666666666,
              "#ed7953"
             ],
             [
              0.7777777777777778,
              "#fb9f3a"
             ],
             [
              0.8888888888888888,
              "#fdca26"
             ],
             [
              1,
              "#f0f921"
             ]
            ],
            "type": "surface"
           }
          ],
          "table": [
           {
            "cells": {
             "fill": {
              "color": "#EBF0F8"
             },
             "line": {
              "color": "white"
             }
            },
            "header": {
             "fill": {
              "color": "#C8D4E3"
             },
             "line": {
              "color": "white"
             }
            },
            "type": "table"
           }
          ]
         },
         "layout": {
          "annotationdefaults": {
           "arrowcolor": "#2a3f5f",
           "arrowhead": 0,
           "arrowwidth": 1
          },
          "autotypenumbers": "strict",
          "coloraxis": {
           "colorbar": {
            "outlinewidth": 0,
            "ticks": ""
           }
          },
          "colorscale": {
           "diverging": [
            [
             0,
             "#8e0152"
            ],
            [
             0.1,
             "#c51b7d"
            ],
            [
             0.2,
             "#de77ae"
            ],
            [
             0.3,
             "#f1b6da"
            ],
            [
             0.4,
             "#fde0ef"
            ],
            [
             0.5,
             "#f7f7f7"
            ],
            [
             0.6,
             "#e6f5d0"
            ],
            [
             0.7,
             "#b8e186"
            ],
            [
             0.8,
             "#7fbc41"
            ],
            [
             0.9,
             "#4d9221"
            ],
            [
             1,
             "#276419"
            ]
           ],
           "sequential": [
            [
             0,
             "#0d0887"
            ],
            [
             0.1111111111111111,
             "#46039f"
            ],
            [
             0.2222222222222222,
             "#7201a8"
            ],
            [
             0.3333333333333333,
             "#9c179e"
            ],
            [
             0.4444444444444444,
             "#bd3786"
            ],
            [
             0.5555555555555556,
             "#d8576b"
            ],
            [
             0.6666666666666666,
             "#ed7953"
            ],
            [
             0.7777777777777778,
             "#fb9f3a"
            ],
            [
             0.8888888888888888,
             "#fdca26"
            ],
            [
             1,
             "#f0f921"
            ]
           ],
           "sequentialminus": [
            [
             0,
             "#0d0887"
            ],
            [
             0.1111111111111111,
             "#46039f"
            ],
            [
             0.2222222222222222,
             "#7201a8"
            ],
            [
             0.3333333333333333,
             "#9c179e"
            ],
            [
             0.4444444444444444,
             "#bd3786"
            ],
            [
             0.5555555555555556,
             "#d8576b"
            ],
            [
             0.6666666666666666,
             "#ed7953"
            ],
            [
             0.7777777777777778,
             "#fb9f3a"
            ],
            [
             0.8888888888888888,
             "#fdca26"
            ],
            [
             1,
             "#f0f921"
            ]
           ]
          },
          "colorway": [
           "#636efa",
           "#EF553B",
           "#00cc96",
           "#ab63fa",
           "#FFA15A",
           "#19d3f3",
           "#FF6692",
           "#B6E880",
           "#FF97FF",
           "#FECB52"
          ],
          "font": {
           "color": "#2a3f5f"
          },
          "geo": {
           "bgcolor": "white",
           "lakecolor": "white",
           "landcolor": "#E5ECF6",
           "showlakes": true,
           "showland": true,
           "subunitcolor": "white"
          },
          "hoverlabel": {
           "align": "left"
          },
          "hovermode": "closest",
          "mapbox": {
           "style": "light"
          },
          "paper_bgcolor": "white",
          "plot_bgcolor": "#E5ECF6",
          "polar": {
           "angularaxis": {
            "gridcolor": "white",
            "linecolor": "white",
            "ticks": ""
           },
           "bgcolor": "#E5ECF6",
           "radialaxis": {
            "gridcolor": "white",
            "linecolor": "white",
            "ticks": ""
           }
          },
          "scene": {
           "xaxis": {
            "backgroundcolor": "#E5ECF6",
            "gridcolor": "white",
            "gridwidth": 2,
            "linecolor": "white",
            "showbackground": true,
            "ticks": "",
            "zerolinecolor": "white"
           },
           "yaxis": {
            "backgroundcolor": "#E5ECF6",
            "gridcolor": "white",
            "gridwidth": 2,
            "linecolor": "white",
            "showbackground": true,
            "ticks": "",
            "zerolinecolor": "white"
           },
           "zaxis": {
            "backgroundcolor": "#E5ECF6",
            "gridcolor": "white",
            "gridwidth": 2,
            "linecolor": "white",
            "showbackground": true,
            "ticks": "",
            "zerolinecolor": "white"
           }
          },
          "shapedefaults": {
           "line": {
            "color": "#2a3f5f"
           }
          },
          "ternary": {
           "aaxis": {
            "gridcolor": "white",
            "linecolor": "white",
            "ticks": ""
           },
           "baxis": {
            "gridcolor": "white",
            "linecolor": "white",
            "ticks": ""
           },
           "bgcolor": "#E5ECF6",
           "caxis": {
            "gridcolor": "white",
            "linecolor": "white",
            "ticks": ""
           }
          },
          "title": {
           "x": 0.05
          },
          "xaxis": {
           "automargin": true,
           "gridcolor": "white",
           "linecolor": "white",
           "ticks": "",
           "title": {
            "standoff": 15
           },
           "zerolinecolor": "white",
           "zerolinewidth": 2
          },
          "yaxis": {
           "automargin": true,
           "gridcolor": "white",
           "linecolor": "white",
           "ticks": "",
           "title": {
            "standoff": 15
           },
           "zerolinecolor": "white",
           "zerolinewidth": 2
          }
         }
        },
        "title": {
         "font": {
          "family": "Times New Roman"
         }
        },
        "xaxis": {
         "title": {
          "text": "Time"
         }
        },
        "yaxis": {
         "title": {
          "text": "ln(Wealth)"
         }
        }
       }
      }
     },
     "metadata": {},
     "output_type": "display_data"
    }
   ],
   "source": [
    "import plotly.colors\n",
    "\n",
    "# Parameters (Fixed)\n",
    "beta_values = np.arange(0.1, 1.0, 0.1) #spacing = 0.1\n",
    "W0 = 1000\n",
    "t = np.arange(0, 20)\n",
    "mu = 9\n",
    "\n",
    "\n",
    "color_start = '#636EFA'\n",
    "color_end = '#EF553B'\n",
    "\n",
    "# Generate a continuous color scale from the two extreme colors defined above\n",
    "colors = plotly.colors.sample_colorscale(\n",
    "    plotly.colors.make_colorscale([color_start, color_end]), len(beta_values)\n",
    ")\n",
    "\n",
    "\n",
    "fig = go.Figure()\n",
    "\n",
    "for i, beta in enumerate(beta_values):\n",
    "    # Wealth calculation for each beta\n",
    "    exp_part = (1 - beta**t) * mu\n",
    "    wealth = np.exp(exp_part) * W0**(beta**t)\n",
    "    \n",
    "    fig.add_trace(go.Scatter(x=t, y=np.log(wealth), \n",
    "                            mode='lines',\n",
    "                             name=f'beta = {beta}',\n",
    "                             line=dict(color=colors[i]),\n",
    "                                showlegend=False\n",
    "                             ))\n",
    "\n",
    "fig.update_layout(\n",
    "    xaxis=dict(title='Time'),\n",
    "    yaxis=dict(title='ln(Wealth)'),\n",
    "    # showlegend=True,\n",
    "    font_family=\"Times New Roman\",\n",
    "    title_font_family=\"Times New Roman\",\n",
    "    font_size=24,\n",
    "    font_color='black',\n",
    "    # paper_bgcolor='rgba(0,0,0,0)',\n",
    "    plot_bgcolor = 'rgba(0,0,0,0)',\n",
    "    margin=dict(l=10, r=10, t=10, b=10)\n",
    ")\n",
    "\n",
    "fig.show()\n"
   ]
  },
  {
   "cell_type": "code",
   "execution_count": 27,
   "id": "8206df45",
   "metadata": {},
   "outputs": [],
   "source": [
    "fig.write_image(\"role_of_beta.pdf\")"
   ]
  },
  {
   "cell_type": "code",
   "execution_count": null,
   "id": "82a5696e",
   "metadata": {},
   "outputs": [],
   "source": []
  }
 ],
 "metadata": {
  "kernelspec": {
   "display_name": "cc2014",
   "language": "python",
   "name": "python3"
  },
  "language_info": {
   "codemirror_mode": {
    "name": "ipython",
    "version": 3
   },
   "file_extension": ".py",
   "mimetype": "text/x-python",
   "name": "python",
   "nbconvert_exporter": "python",
   "pygments_lexer": "ipython3",
   "version": "3.10.13"
  },
  "toc-autonumbering": true
 },
 "nbformat": 4,
 "nbformat_minor": 5
}
